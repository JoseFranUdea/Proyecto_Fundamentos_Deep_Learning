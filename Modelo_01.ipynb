{
  "nbformat": 4,
  "nbformat_minor": 0,
  "metadata": {
    "colab": {
      "provenance": [],
      "gpuType": "T4",
      "mount_file_id": "125zeCGJigAYonvzC4Lqr6kEZvxtkbVV7",
      "authorship_tag": "ABX9TyN4gqq60JvSxwu2mBEqTmA2",
      "include_colab_link": true
    },
    "kernelspec": {
      "name": "python3",
      "display_name": "Python 3"
    },
    "language_info": {
      "name": "python"
    },
    "accelerator": "GPU"
  },
  "cells": [
    {
      "cell_type": "markdown",
      "metadata": {
        "id": "view-in-github",
        "colab_type": "text"
      },
      "source": [
        "<a href=\"https://colab.research.google.com/github/JoseFranUdea/Proyecto_Fundamentos_Deep_Learning/blob/main/Modelo_01.ipynb\" target=\"_parent\"><img src=\"https://colab.research.google.com/assets/colab-badge.svg\" alt=\"Open In Colab\"/></a>"
      ]
    },
    {
      "cell_type": "markdown",
      "source": [
        "# Módulos a utilizar"
      ],
      "metadata": {
        "id": "Tkcd_eQLc1Fo"
      }
    },
    {
      "cell_type": "code",
      "source": [
        "from tensorflow.keras.utils import to_categorical\n",
        "import numpy as np\n",
        "from glob import glob\n",
        "import pandas as pd\n",
        "import matplotlib.pyplot as plt\n",
        "from sklearn.model_selection import train_test_split\n",
        "from sklearn.preprocessing import MultiLabelBinarizer\n",
        "from skimage import exposure\n",
        "import cv2 as cv\n",
        "import os\n",
        "import itertools\n",
        "import seaborn as sns\n",
        "import os\n",
        "import multiprocessing as mproc\n",
        "from keras.preprocessing import image\n",
        "from tensorflow.keras.preprocessing import image\n",
        "import os\n",
        "from matplotlib.pyplot import figure\n",
        "\n",
        "from tqdm import tqdm\n",
        "%matplotlib inline\n",
        "\n",
        "print(\"ejecutado\")"
      ],
      "metadata": {
        "colab": {
          "base_uri": "https://localhost:8080/"
        },
        "id": "5ylK48qLgPr4",
        "outputId": "20e1c9cc-c85b-47e4-8114-6c23cc6ef31b"
      },
      "execution_count": 2,
      "outputs": [
        {
          "output_type": "stream",
          "name": "stdout",
          "text": [
            "ejecutado\n"
          ]
        }
      ]
    },
    {
      "cell_type": "code",
      "source": [
        "#Uso de GPU\n",
        "import tensorflow as tf\n",
        "\n",
        "gpucheck = tf.config.experimental.list_physical_devices('GPU')\n",
        "for gpu in gpucheck:\n",
        "    print(\"Name:\", gpu.name, \"  Type:\", gpu.device_type)\n",
        "tf.test.is_gpu_available()"
      ],
      "metadata": {
        "colab": {
          "base_uri": "https://localhost:8080/"
        },
        "id": "B_gzCiPwgpnh",
        "outputId": "615de4ad-6446-4073-89b0-8f336121f6b0"
      },
      "execution_count": 3,
      "outputs": [
        {
          "output_type": "stream",
          "name": "stderr",
          "text": [
            "WARNING:tensorflow:From <ipython-input-3-3d1cf1f298ed>:7: is_gpu_available (from tensorflow.python.framework.test_util) is deprecated and will be removed in a future version.\n",
            "Instructions for updating:\n",
            "Use `tf.config.list_physical_devices('GPU')` instead.\n"
          ]
        },
        {
          "output_type": "stream",
          "name": "stdout",
          "text": [
            "Name: /physical_device:GPU:0   Type: GPU\n"
          ]
        },
        {
          "output_type": "execute_result",
          "data": {
            "text/plain": [
              "True"
            ]
          },
          "metadata": {},
          "execution_count": 3
        }
      ]
    },
    {
      "cell_type": "code",
      "source": [
        "from google.colab import drive\n",
        "import shutil\n",
        "drive.mount(\"/content/drive\", force_remount=True)"
      ],
      "metadata": {
        "colab": {
          "base_uri": "https://localhost:8080/"
        },
        "id": "Rthc0YW6f3NC",
        "outputId": "1316b20d-01ad-4752-9b2f-0301a7b1d4ad"
      },
      "execution_count": 5,
      "outputs": [
        {
          "output_type": "stream",
          "name": "stdout",
          "text": [
            "Mounted at /content/drive\n"
          ]
        }
      ]
    },
    {
      "cell_type": "code",
      "source": [
        "#Cargar variables\n",
        "\n",
        "import pickle\n",
        "# Cargar las variables desde el archivo\n",
        "with open('/content/drive/MyDrive/variables.pkl', 'rb') as f:\n",
        "    X,Y,Y64,trainxNdf,trainx,train_dir,test_dir,df,train_files,train_image,trainxN,direccion,TARGET_SIZE,BATCH_SIZE,EPOCHS,DATA_LIMIT = pickle.load(f)\n"
      ],
      "metadata": {
        "id": "GWBDsL06c80D"
      },
      "execution_count": 6,
      "outputs": []
    },
    {
      "cell_type": "markdown",
      "source": [
        "**Comprobamos las dimensiones de las imágenes**"
      ],
      "metadata": {
        "id": "N-OfK4BLhKgo"
      }
    },
    {
      "cell_type": "code",
      "source": [
        "X.shape , Y64.shape, trainxNdf.shape "
      ],
      "metadata": {
        "colab": {
          "base_uri": "https://localhost:8080/"
        },
        "id": "ctHBRl_RhPJ7",
        "outputId": "51af4ee1-1933-42f6-df1e-7d39b2365a89"
      },
      "execution_count": 7,
      "outputs": [
        {
          "output_type": "execute_result",
          "data": {
            "text/plain": [
              "((4125, 128, 128, 3), (4125, 6), (4125, 7))"
            ]
          },
          "metadata": {},
          "execution_count": 7
        }
      ]
    },
    {
      "cell_type": "markdown",
      "source": [
        "**Dividimos nuestros datos**"
      ],
      "metadata": {
        "id": "NCT_spRUhZJg"
      }
    },
    {
      "cell_type": "code",
      "source": [
        "X_train, X_test, y_train, y_test = train_test_split(X, Y64, test_size=0.1)"
      ],
      "metadata": {
        "id": "RrQxl2m8hcNV"
      },
      "execution_count": 8,
      "outputs": []
    },
    {
      "cell_type": "code",
      "source": [
        "#Comprobamos el tamaño de de nuestros datos de test\n",
        "X_test.shape , y_test.shape"
      ],
      "metadata": {
        "colab": {
          "base_uri": "https://localhost:8080/"
        },
        "id": "DTHX2v-AheKX",
        "outputId": "5738f0bc-f083-4e2d-f9ca-0658119bb6f0"
      },
      "execution_count": 9,
      "outputs": [
        {
          "output_type": "execute_result",
          "data": {
            "text/plain": [
              "((413, 128, 128, 3), (413, 6))"
            ]
          },
          "metadata": {},
          "execution_count": 9
        }
      ]
    },
    {
      "cell_type": "markdown",
      "source": [],
      "metadata": {
        "id": "O0_0QaPIhmgZ"
      }
    },
    {
      "cell_type": "markdown",
      "source": [
        "# Definimos la estructura de nuestro Modelo_1"
      ],
      "metadata": {
        "id": "JvH6paBHhnir"
      }
    },
    {
      "cell_type": "code",
      "source": [
        "#Modelo01\n",
        "from keras.models import Sequential\n",
        "from keras.layers import Dense, Flatten\n",
        "from keras.layers import Conv2D\n",
        "\n",
        "model = Sequential()\n",
        "model.add(Conv2D(filters=16, kernel_size=(5, 5), activation=\"relu\", input_shape=(TARGET_SIZE,TARGET_SIZE,3)))\n",
        "model.add(Dropout(0.25))\n",
        "model.add(Conv2D(filters=32, kernel_size=(5, 5), activation='relu'))\n",
        "model.add(Conv2D(filters=64, kernel_size=(5, 5), activation=\"relu\"))\n",
        "model.add(Conv2D(filters=64, kernel_size=(5, 5), activation='relu'))\n",
        "model.add(Flatten())\n",
        "model.add(Dense(128, activation='relu'))\n",
        "model.add(Dense(64, activation='relu'))\n",
        "model.add(Dense(6, activation='sigmoid'))\n",
        "model.compile(optimizer='adam', loss='binary_crossentropy', metrics=['accuracy'])\n",
        "\n",
        "model.summary()"
      ],
      "metadata": {
        "colab": {
          "base_uri": "https://localhost:8080/"
        },
        "id": "MEH1owwGhtUt",
        "outputId": "87eaa2e4-2325-4b06-f1e8-c41726443b10"
      },
      "execution_count": 11,
      "outputs": [
        {
          "output_type": "stream",
          "name": "stdout",
          "text": [
            "Model: \"sequential_2\"\n",
            "_________________________________________________________________\n",
            " Layer (type)                Output Shape              Param #   \n",
            "=================================================================\n",
            " conv2d (Conv2D)             (None, 124, 124, 16)      1216      \n",
            "                                                                 \n",
            " dropout (Dropout)           (None, 124, 124, 16)      0         \n",
            "                                                                 \n",
            " conv2d_1 (Conv2D)           (None, 120, 120, 32)      12832     \n",
            "                                                                 \n",
            " conv2d_2 (Conv2D)           (None, 116, 116, 64)      51264     \n",
            "                                                                 \n",
            " conv2d_3 (Conv2D)           (None, 112, 112, 64)      102464    \n",
            "                                                                 \n",
            " flatten (Flatten)           (None, 802816)            0         \n",
            "                                                                 \n",
            " dense (Dense)               (None, 128)               102760576 \n",
            "                                                                 \n",
            " dense_1 (Dense)             (None, 64)                8256      \n",
            "                                                                 \n",
            " dense_2 (Dense)             (None, 6)                 390       \n",
            "                                                                 \n",
            "=================================================================\n",
            "Total params: 102,936,998\n",
            "Trainable params: 102,936,998\n",
            "Non-trainable params: 0\n",
            "_________________________________________________________________\n"
          ]
        }
      ]
    },
    {
      "cell_type": "markdown",
      "source": [
        "**Entrenamos nuestro Modelo_1**"
      ],
      "metadata": {
        "id": "HQQLjEMWh6-n"
      }
    },
    {
      "cell_type": "code",
      "source": [
        "EPOCHS=50"
      ],
      "metadata": {
        "id": "Eg_jDPjhiMo7"
      },
      "execution_count": 13,
      "outputs": []
    },
    {
      "cell_type": "code",
      "source": [
        "model.fit(X_train, y_train, epochs=EPOCHS, validation_data=(X_test, y_test), batch_size=BATCH_SIZE)\n",
        "score = model.evaluate(X_test, y_test)\n",
        "print(\"Rendimiento:\", score)"
      ],
      "metadata": {
        "colab": {
          "base_uri": "https://localhost:8080/"
        },
        "id": "c23oJIuIh_IH",
        "outputId": "e05e72f5-6a18-47cb-8c03-1e81f8d74d2b"
      },
      "execution_count": 14,
      "outputs": [
        {
          "output_type": "stream",
          "name": "stdout",
          "text": [
            "Epoch 1/50\n",
            "58/58 [==============================] - 31s 242ms/step - loss: 0.6421 - accuracy: 0.2759 - val_loss: 0.4513 - val_accuracy: 0.2809\n",
            "Epoch 2/50\n",
            "58/58 [==============================] - 11s 187ms/step - loss: 0.4435 - accuracy: 0.3036 - val_loss: 0.4375 - val_accuracy: 0.2930\n",
            "Epoch 3/50\n",
            "58/58 [==============================] - 11s 187ms/step - loss: 0.4261 - accuracy: 0.3281 - val_loss: 0.4236 - val_accuracy: 0.3051\n",
            "Epoch 4/50\n",
            "58/58 [==============================] - 11s 189ms/step - loss: 0.4097 - accuracy: 0.3747 - val_loss: 0.4047 - val_accuracy: 0.3777\n",
            "Epoch 5/50\n",
            "58/58 [==============================] - 11s 188ms/step - loss: 0.3976 - accuracy: 0.4038 - val_loss: 0.3929 - val_accuracy: 0.3777\n",
            "Epoch 6/50\n",
            "58/58 [==============================] - 11s 191ms/step - loss: 0.3929 - accuracy: 0.4178 - val_loss: 0.3925 - val_accuracy: 0.4165\n",
            "Epoch 7/50\n",
            "58/58 [==============================] - 11s 189ms/step - loss: 0.3891 - accuracy: 0.4200 - val_loss: 0.3894 - val_accuracy: 0.4189\n",
            "Epoch 8/50\n",
            "58/58 [==============================] - 11s 189ms/step - loss: 0.3893 - accuracy: 0.4240 - val_loss: 0.3999 - val_accuracy: 0.3995\n",
            "Epoch 9/50\n",
            "58/58 [==============================] - 11s 189ms/step - loss: 0.3832 - accuracy: 0.4432 - val_loss: 0.3910 - val_accuracy: 0.3947\n",
            "Epoch 10/50\n",
            "58/58 [==============================] - 11s 187ms/step - loss: 0.3730 - accuracy: 0.4631 - val_loss: 0.3836 - val_accuracy: 0.4189\n",
            "Epoch 11/50\n",
            "58/58 [==============================] - 11s 191ms/step - loss: 0.3649 - accuracy: 0.4795 - val_loss: 0.3921 - val_accuracy: 0.4068\n",
            "Epoch 12/50\n",
            "58/58 [==============================] - 11s 190ms/step - loss: 0.3605 - accuracy: 0.4952 - val_loss: 0.3929 - val_accuracy: 0.4213\n",
            "Epoch 13/50\n",
            "58/58 [==============================] - 11s 189ms/step - loss: 0.3073 - accuracy: 0.5951 - val_loss: 0.4153 - val_accuracy: 0.4092\n",
            "Epoch 14/50\n",
            "58/58 [==============================] - 11s 189ms/step - loss: 0.2629 - accuracy: 0.6759 - val_loss: 0.4604 - val_accuracy: 0.3874\n",
            "Epoch 15/50\n",
            "58/58 [==============================] - 11s 189ms/step - loss: 0.2022 - accuracy: 0.7559 - val_loss: 0.5287 - val_accuracy: 0.3559\n",
            "Epoch 16/50\n",
            "58/58 [==============================] - 11s 189ms/step - loss: 0.1351 - accuracy: 0.8508 - val_loss: 0.6690 - val_accuracy: 0.3971\n",
            "Epoch 17/50\n",
            "58/58 [==============================] - 11s 189ms/step - loss: 0.0863 - accuracy: 0.9087 - val_loss: 0.8514 - val_accuracy: 0.3438\n",
            "Epoch 18/50\n",
            "58/58 [==============================] - 11s 188ms/step - loss: 0.0635 - accuracy: 0.9313 - val_loss: 0.9811 - val_accuracy: 0.3487\n",
            "Epoch 19/50\n",
            "58/58 [==============================] - 11s 189ms/step - loss: 0.0409 - accuracy: 0.9512 - val_loss: 1.2574 - val_accuracy: 0.3947\n",
            "Epoch 20/50\n",
            "58/58 [==============================] - 11s 189ms/step - loss: 0.0269 - accuracy: 0.9572 - val_loss: 1.3104 - val_accuracy: 0.3777\n",
            "Epoch 21/50\n",
            "58/58 [==============================] - 11s 189ms/step - loss: 0.0179 - accuracy: 0.9655 - val_loss: 1.5193 - val_accuracy: 0.3705\n",
            "Epoch 22/50\n",
            "58/58 [==============================] - 11s 189ms/step - loss: 0.0135 - accuracy: 0.9661 - val_loss: 1.7130 - val_accuracy: 0.3414\n",
            "Epoch 23/50\n",
            "58/58 [==============================] - 11s 189ms/step - loss: 0.0145 - accuracy: 0.9674 - val_loss: 1.4738 - val_accuracy: 0.3584\n",
            "Epoch 24/50\n",
            "58/58 [==============================] - 11s 189ms/step - loss: 0.0083 - accuracy: 0.9671 - val_loss: 1.8426 - val_accuracy: 0.3729\n",
            "Epoch 25/50\n",
            "58/58 [==============================] - 11s 188ms/step - loss: 0.0099 - accuracy: 0.9628 - val_loss: 1.7439 - val_accuracy: 0.4044\n",
            "Epoch 26/50\n",
            "58/58 [==============================] - 11s 188ms/step - loss: 0.0136 - accuracy: 0.9647 - val_loss: 1.7146 - val_accuracy: 0.3632\n",
            "Epoch 27/50\n",
            "58/58 [==============================] - 11s 189ms/step - loss: 0.0080 - accuracy: 0.9655 - val_loss: 1.8390 - val_accuracy: 0.3511\n",
            "Epoch 28/50\n",
            "58/58 [==============================] - 11s 189ms/step - loss: 0.0107 - accuracy: 0.9658 - val_loss: 1.8363 - val_accuracy: 0.3826\n",
            "Epoch 29/50\n",
            "58/58 [==============================] - 11s 188ms/step - loss: 0.0074 - accuracy: 0.9701 - val_loss: 1.9624 - val_accuracy: 0.3487\n",
            "Epoch 30/50\n",
            "58/58 [==============================] - 11s 188ms/step - loss: 0.0056 - accuracy: 0.9647 - val_loss: 2.0181 - val_accuracy: 0.3608\n",
            "Epoch 31/50\n",
            "58/58 [==============================] - 11s 189ms/step - loss: 0.0125 - accuracy: 0.9652 - val_loss: 1.5613 - val_accuracy: 0.3680\n",
            "Epoch 32/50\n",
            "58/58 [==============================] - 11s 188ms/step - loss: 0.0173 - accuracy: 0.9588 - val_loss: 1.5442 - val_accuracy: 0.3632\n",
            "Epoch 33/50\n",
            "58/58 [==============================] - 11s 188ms/step - loss: 0.0248 - accuracy: 0.9604 - val_loss: 1.4065 - val_accuracy: 0.3705\n",
            "Epoch 34/50\n",
            "58/58 [==============================] - 11s 189ms/step - loss: 0.0077 - accuracy: 0.9626 - val_loss: 1.9622 - val_accuracy: 0.3801\n",
            "Epoch 35/50\n",
            "58/58 [==============================] - 11s 188ms/step - loss: 0.0033 - accuracy: 0.9666 - val_loss: 2.0930 - val_accuracy: 0.3656\n",
            "Epoch 36/50\n",
            "58/58 [==============================] - 11s 188ms/step - loss: 0.0036 - accuracy: 0.9677 - val_loss: 2.0381 - val_accuracy: 0.3656\n",
            "Epoch 37/50\n",
            "58/58 [==============================] - 11s 188ms/step - loss: 0.0028 - accuracy: 0.9644 - val_loss: 1.9941 - val_accuracy: 0.3777\n",
            "Epoch 38/50\n",
            "58/58 [==============================] - 11s 188ms/step - loss: 0.0049 - accuracy: 0.9696 - val_loss: 2.0205 - val_accuracy: 0.3874\n",
            "Epoch 39/50\n",
            "58/58 [==============================] - 11s 188ms/step - loss: 0.0021 - accuracy: 0.9706 - val_loss: 2.1977 - val_accuracy: 0.3632\n",
            "Epoch 40/50\n",
            "58/58 [==============================] - 11s 188ms/step - loss: 0.0019 - accuracy: 0.9714 - val_loss: 2.2736 - val_accuracy: 0.3680\n",
            "Epoch 41/50\n",
            "58/58 [==============================] - 11s 188ms/step - loss: 0.0022 - accuracy: 0.9671 - val_loss: 2.2924 - val_accuracy: 0.3269\n",
            "Epoch 42/50\n",
            "58/58 [==============================] - 11s 188ms/step - loss: 0.0021 - accuracy: 0.9679 - val_loss: 2.3241 - val_accuracy: 0.3680\n",
            "Epoch 43/50\n",
            "58/58 [==============================] - 11s 188ms/step - loss: 0.0020 - accuracy: 0.9682 - val_loss: 2.3244 - val_accuracy: 0.3366\n",
            "Epoch 44/50\n",
            "58/58 [==============================] - 11s 191ms/step - loss: 0.0020 - accuracy: 0.9723 - val_loss: 2.5216 - val_accuracy: 0.3608\n",
            "Epoch 45/50\n",
            "58/58 [==============================] - 11s 188ms/step - loss: 0.0019 - accuracy: 0.9704 - val_loss: 2.4267 - val_accuracy: 0.3680\n",
            "Epoch 46/50\n",
            "58/58 [==============================] - 11s 189ms/step - loss: 0.0016 - accuracy: 0.9677 - val_loss: 2.3853 - val_accuracy: 0.3705\n",
            "Epoch 47/50\n",
            "58/58 [==============================] - 11s 188ms/step - loss: 0.0026 - accuracy: 0.9688 - val_loss: 2.6194 - val_accuracy: 0.3656\n",
            "Epoch 48/50\n",
            "58/58 [==============================] - 11s 188ms/step - loss: 0.0041 - accuracy: 0.9682 - val_loss: 2.2606 - val_accuracy: 0.3487\n",
            "Epoch 49/50\n",
            "58/58 [==============================] - 11s 188ms/step - loss: 0.0046 - accuracy: 0.9690 - val_loss: 2.1884 - val_accuracy: 0.3511\n",
            "Epoch 50/50\n",
            "58/58 [==============================] - 11s 189ms/step - loss: 0.0037 - accuracy: 0.9634 - val_loss: 2.2428 - val_accuracy: 0.3245\n",
            "13/13 [==============================] - 2s 25ms/step - loss: 2.2428 - accuracy: 0.3245\n",
            "Rendimiento: [2.2428388595581055, 0.324455201625824]\n"
          ]
        }
      ]
    },
    {
      "cell_type": "markdown",
      "source": [
        "# Verificamos las etiquetas de nuestro X_test"
      ],
      "metadata": {
        "id": "OrsOtdZEicT4"
      }
    },
    {
      "cell_type": "markdown",
      "source": [
        "**Debido a que nuestro X_test fue seleccionado al azar debemos verificar a que etiqueta pertenecen**"
      ],
      "metadata": {
        "id": "eOUrtKrOjLJe"
      }
    },
    {
      "cell_type": "code",
      "source": [
        "#Obtenemos un dataframe pero solo de la parte de test\n",
        "#Hay que ordenarlo porque queda desordenado\n",
        "\n",
        "from tensorflow.keras.preprocessing import image\n",
        "import os\n",
        "\n",
        "direccion_test=[]\n",
        "dataframe_test = []\n",
        "img_comprobacion=[]\n",
        "\n",
        "for i in tqdm(range(len(trainx))):\n",
        "\n",
        "        img_path = os.path.join(train_dir, trainx['image'][i])\n",
        "        \n",
        "        #Check if the image file exists\n",
        "        if not os.path.isfile(img_path):\n",
        "            continue\n",
        "        \n",
        "        img = image.load_img(img_path, target_size=(TARGET_SIZE, TARGET_SIZE, 3))\n",
        "        img = image.img_to_array(img)\n",
        "        img = img / 255\n",
        "\n",
        "        for j in range(len(X_test)):\n",
        "         if np.array_equal(img, X_test[j]):\n",
        "            direccion_test.append(img_path)\n",
        "            dataframe_test.append(trainx.iloc[i])\n",
        "            img_comprobacion.append(img)  #img_comprobacion va igual que dataframe_test\n",
        "            break #Esto es para que no se repita\n",
        "\n",
        "dataframeN_test = pd.DataFrame(dataframe_test) \n",
        "img_comprobacion=np.array(img_comprobacion)\n",
        "\n",
        "#Hay que encontrar donde image_path es igual, ahí encontraremos"
      ],
      "metadata": {
        "colab": {
          "base_uri": "https://localhost:8080/"
        },
        "id": "aZyD4a_9ihXZ",
        "outputId": "8521ad83-b3f3-4cb6-91c2-ea595056318e"
      },
      "execution_count": 16,
      "outputs": [
        {
          "output_type": "stream",
          "name": "stderr",
          "text": [
            "100%|██████████| 12000/12000 [31:48<00:00,  6.29it/s]  \n"
          ]
        }
      ]
    },
    {
      "cell_type": "code",
      "source": [
        "##Con este código nos damos cuenta cómo estan ordenados X_test con respecto a nuestro data frame\n",
        "\n",
        "cuenta=0\n",
        "indice_X_test=[]\n",
        "indice_img_comprobacion=[]\n",
        "\n",
        "for i in range(len(X_test)):\n",
        "    for j in range(len(X_test)):\n",
        "        if np.array_equal(img_comprobacion[j],X_test[i]): #Las ordenamos con respecto a X_test, con eso ordenamos el dataframeN_test\n",
        "            indice_X_test.append(i)\n",
        "            indice_img_comprobacion.append(j)\n",
        "            cuenta=cuenta+1 ##lo lograremos cuando corramos de nuevo el código y coindican las i y j\n",
        "print(cuenta)\n",
        "indice_X_test=np.array(indice_X_test)\n",
        "indice_img_comprobacion=np.array(indice_img_comprobacion)"
      ],
      "metadata": {
        "colab": {
          "base_uri": "https://localhost:8080/"
        },
        "id": "zaFryjHuioqt",
        "outputId": "72f5443d-49a7-41de-9020-cc062fb6ff49"
      },
      "execution_count": 17,
      "outputs": [
        {
          "output_type": "stream",
          "name": "stdout",
          "text": [
            "413\n"
          ]
        }
      ]
    },
    {
      "cell_type": "code",
      "source": [
        "##Ordenando las imagenes con respecto a X_test, dataframeN_test tiene que quedar ordenado\n",
        "##Nuestros array son img_comprobacion y X_test\n",
        "## Si se logra ordenar, tenemos que ordenar el dataframeN_test\n",
        "\n",
        "df_img_comprobacion_test=[]\n",
        "dataframeNN_test=[]\n",
        "\n",
        "for i in range(len(indice_X_test)):\n",
        "    dato_ordenado=indice_img_comprobacion[i]\n",
        "    df_img_comprobacion_test.append(img_comprobacion[dato_ordenado])\n",
        "    dataframeNN_test.append(dataframeN_test.iloc[dato_ordenado])\n",
        "               \n",
        "df_img_comprobacion_test=np.array(df_img_comprobacion_test)\n",
        "dataframeNN_test = pd.DataFrame(dataframeNN_test) "
      ],
      "metadata": {
        "id": "Z08uSBgJit5V"
      },
      "execution_count": 18,
      "outputs": []
    },
    {
      "cell_type": "code",
      "source": [
        "## Se comprueba que si estan ordenados :)\n",
        "cuenta=0\n",
        "indice_X_test=[]\n",
        "indice_img_comprobacion=[]\n",
        "for i in range(len(X_test)):\n",
        "    for j in range(len(X_test)):\n",
        "        if np.array_equal(df_img_comprobacion_test[j],X_test[i]): #Las ordenamos con respecto a X_test, con eso ordenamos el dataframeN_test\n",
        "            #print(i,j)\n",
        "            cuenta=cuenta+1 ##lo lograremos cuando corramos de nuevo el código y coindican las i y j\n",
        "print(cuenta)"
      ],
      "metadata": {
        "colab": {
          "base_uri": "https://localhost:8080/"
        },
        "id": "C5h7Eyhtrv37",
        "outputId": "2f30ab95-da7a-44ce-e3e0-c577ffb18fb9"
      },
      "execution_count": 19,
      "outputs": [
        {
          "output_type": "stream",
          "name": "stdout",
          "text": [
            "413\n"
          ]
        }
      ]
    },
    {
      "cell_type": "markdown",
      "source": [
        "# Matriz de confusión"
      ],
      "metadata": {
        "id": "grwcl3rVpXm1"
      }
    },
    {
      "cell_type": "code",
      "source": [
        "#Obtenemos la y_true para la matriz de confusión, esto en formato de nombre\n",
        "\n",
        "#Sacamos la y_true, ya que tenemos el dataframe bueno (dataframeN_test)\n",
        "\n",
        "name = {0: 'complex',\n",
        "        1: 'frog_eye_leaf_spot',\n",
        "        2: 'healthy',\n",
        "        3: 'powdery_mildew',\n",
        "        4: 'rust',\n",
        "        5: 'scab'}\n",
        "\n",
        "threshold = {0: 0.3,\n",
        "             1: 0.3,\n",
        "             2: 0.4,\n",
        "             3: 0.3,\n",
        "             4: 0.3,\n",
        "            5:0.3}\n",
        "y_true=[]\n",
        "\n",
        "for j in  range(len(dataframeNN_test)) :                                 #train_files:  #test files son los de prueba que nos proporcionó kaggle\n",
        "    \n",
        "    #Se carga la imagen del test_file\n",
        "    columnas = dataframeNN_test.iloc[j, :6].values.tolist()\n",
        "    d = []\n",
        "    for i in range(len(columnas)):\n",
        "        if columnas[i] > threshold[i]:\n",
        "            d.append(name[i])\n",
        "            \n",
        "    y_true.append({'image': dataframeNN_test.iloc[j]['image'], 'labels': ' '.join(d)})"
      ],
      "metadata": {
        "id": "rnx5GOnnpagP"
      },
      "execution_count": 20,
      "outputs": []
    },
    {
      "cell_type": "code",
      "source": [
        "y_predict=model.predict(X_test)"
      ],
      "metadata": {
        "colab": {
          "base_uri": "https://localhost:8080/"
        },
        "id": "87NlWKJrpdei",
        "outputId": "55ff8188-93a4-4730-d1b5-c79ba9995fb7"
      },
      "execution_count": 21,
      "outputs": [
        {
          "output_type": "stream",
          "name": "stdout",
          "text": [
            "13/13 [==============================] - 0s 24ms/step\n"
          ]
        }
      ]
    },
    {
      "cell_type": "code",
      "source": [
        "name = {0: 'complex',\n",
        "        1: 'frog_eye_leaf_spot',\n",
        "        2: 'healthy',\n",
        "        3: 'powdery_mildew',\n",
        "        4: 'rust',\n",
        "        5: 'scab'}\n",
        "\n",
        "threshold = {0: 0.3,\n",
        "             1: 0.3,\n",
        "             2: 0.4,\n",
        "             3: 0.3,\n",
        "             4: 0.3,\n",
        "            5:0.3}\n",
        "\n",
        "y_predictN=[]\n",
        "\n",
        "for j in  range(len(dataframeNN_test)) :  #train_files:  #test files son los de prueba que nos proporcionó kaggle\n",
        "    \n",
        "    #Se carga la imagen del test_file\n",
        "    columnas = y_predict[j]\n",
        "    d = []\n",
        "    for i in range(len(columnas)):\n",
        "        if columnas[i] > threshold[i]:\n",
        "            d.append(name[i])\n",
        "            \n",
        "    y_predictN.append({'image': dataframeNN_test.iloc[j]['image'], 'labels': ' '.join(d)}) "
      ],
      "metadata": {
        "id": "i-w5Aq4YpfQk"
      },
      "execution_count": 22,
      "outputs": []
    },
    {
      "cell_type": "code",
      "source": [
        "import pandas as pd\n",
        "y_predictdf=pd.DataFrame(y_predictN)\n",
        "y_truedf=pd.DataFrame(y_true)"
      ],
      "metadata": {
        "id": "vFZHvOMvuC0q"
      },
      "execution_count": 23,
      "outputs": []
    },
    {
      "cell_type": "code",
      "source": [
        "y_truedf"
      ],
      "metadata": {
        "colab": {
          "base_uri": "https://localhost:8080/",
          "height": 423
        },
        "id": "8qzhiyk7u6_A",
        "outputId": "32fabea6-3d9d-45dc-c007-70bb15f2ddcf"
      },
      "execution_count": 24,
      "outputs": [
        {
          "output_type": "execute_result",
          "data": {
            "text/plain": [
              "                    image                   labels\n",
              "0    91e93d80ea2bdd62.jpg           powdery_mildew\n",
              "1    8d37caa695c9329a.jpg                  healthy\n",
              "2    8791c68b1e4f2f16.jpg                     scab\n",
              "3    81ff35908a9ecf81.jpg                  complex\n",
              "4    816d69d2153fe84b.jpg                  healthy\n",
              "..                    ...                      ...\n",
              "408  81f497994a696f16.jpg  frog_eye_leaf_spot scab\n",
              "409  80782fca6a9f559c.jpg                     scab\n",
              "410  a0c994ca6b303dbf.jpg                  healthy\n",
              "411  82964c6d5a54b35f.jpg                     scab\n",
              "412  8290c34dad175f3b.jpg                  healthy\n",
              "\n",
              "[413 rows x 2 columns]"
            ],
            "text/html": [
              "\n",
              "  <div id=\"df-938fcb23-591e-4374-bb7d-405f24785705\">\n",
              "    <div class=\"colab-df-container\">\n",
              "      <div>\n",
              "<style scoped>\n",
              "    .dataframe tbody tr th:only-of-type {\n",
              "        vertical-align: middle;\n",
              "    }\n",
              "\n",
              "    .dataframe tbody tr th {\n",
              "        vertical-align: top;\n",
              "    }\n",
              "\n",
              "    .dataframe thead th {\n",
              "        text-align: right;\n",
              "    }\n",
              "</style>\n",
              "<table border=\"1\" class=\"dataframe\">\n",
              "  <thead>\n",
              "    <tr style=\"text-align: right;\">\n",
              "      <th></th>\n",
              "      <th>image</th>\n",
              "      <th>labels</th>\n",
              "    </tr>\n",
              "  </thead>\n",
              "  <tbody>\n",
              "    <tr>\n",
              "      <th>0</th>\n",
              "      <td>91e93d80ea2bdd62.jpg</td>\n",
              "      <td>powdery_mildew</td>\n",
              "    </tr>\n",
              "    <tr>\n",
              "      <th>1</th>\n",
              "      <td>8d37caa695c9329a.jpg</td>\n",
              "      <td>healthy</td>\n",
              "    </tr>\n",
              "    <tr>\n",
              "      <th>2</th>\n",
              "      <td>8791c68b1e4f2f16.jpg</td>\n",
              "      <td>scab</td>\n",
              "    </tr>\n",
              "    <tr>\n",
              "      <th>3</th>\n",
              "      <td>81ff35908a9ecf81.jpg</td>\n",
              "      <td>complex</td>\n",
              "    </tr>\n",
              "    <tr>\n",
              "      <th>4</th>\n",
              "      <td>816d69d2153fe84b.jpg</td>\n",
              "      <td>healthy</td>\n",
              "    </tr>\n",
              "    <tr>\n",
              "      <th>...</th>\n",
              "      <td>...</td>\n",
              "      <td>...</td>\n",
              "    </tr>\n",
              "    <tr>\n",
              "      <th>408</th>\n",
              "      <td>81f497994a696f16.jpg</td>\n",
              "      <td>frog_eye_leaf_spot scab</td>\n",
              "    </tr>\n",
              "    <tr>\n",
              "      <th>409</th>\n",
              "      <td>80782fca6a9f559c.jpg</td>\n",
              "      <td>scab</td>\n",
              "    </tr>\n",
              "    <tr>\n",
              "      <th>410</th>\n",
              "      <td>a0c994ca6b303dbf.jpg</td>\n",
              "      <td>healthy</td>\n",
              "    </tr>\n",
              "    <tr>\n",
              "      <th>411</th>\n",
              "      <td>82964c6d5a54b35f.jpg</td>\n",
              "      <td>scab</td>\n",
              "    </tr>\n",
              "    <tr>\n",
              "      <th>412</th>\n",
              "      <td>8290c34dad175f3b.jpg</td>\n",
              "      <td>healthy</td>\n",
              "    </tr>\n",
              "  </tbody>\n",
              "</table>\n",
              "<p>413 rows × 2 columns</p>\n",
              "</div>\n",
              "      <button class=\"colab-df-convert\" onclick=\"convertToInteractive('df-938fcb23-591e-4374-bb7d-405f24785705')\"\n",
              "              title=\"Convert this dataframe to an interactive table.\"\n",
              "              style=\"display:none;\">\n",
              "        \n",
              "  <svg xmlns=\"http://www.w3.org/2000/svg\" height=\"24px\"viewBox=\"0 0 24 24\"\n",
              "       width=\"24px\">\n",
              "    <path d=\"M0 0h24v24H0V0z\" fill=\"none\"/>\n",
              "    <path d=\"M18.56 5.44l.94 2.06.94-2.06 2.06-.94-2.06-.94-.94-2.06-.94 2.06-2.06.94zm-11 1L8.5 8.5l.94-2.06 2.06-.94-2.06-.94L8.5 2.5l-.94 2.06-2.06.94zm10 10l.94 2.06.94-2.06 2.06-.94-2.06-.94-.94-2.06-.94 2.06-2.06.94z\"/><path d=\"M17.41 7.96l-1.37-1.37c-.4-.4-.92-.59-1.43-.59-.52 0-1.04.2-1.43.59L10.3 9.45l-7.72 7.72c-.78.78-.78 2.05 0 2.83L4 21.41c.39.39.9.59 1.41.59.51 0 1.02-.2 1.41-.59l7.78-7.78 2.81-2.81c.8-.78.8-2.07 0-2.86zM5.41 20L4 18.59l7.72-7.72 1.47 1.35L5.41 20z\"/>\n",
              "  </svg>\n",
              "      </button>\n",
              "      \n",
              "  <style>\n",
              "    .colab-df-container {\n",
              "      display:flex;\n",
              "      flex-wrap:wrap;\n",
              "      gap: 12px;\n",
              "    }\n",
              "\n",
              "    .colab-df-convert {\n",
              "      background-color: #E8F0FE;\n",
              "      border: none;\n",
              "      border-radius: 50%;\n",
              "      cursor: pointer;\n",
              "      display: none;\n",
              "      fill: #1967D2;\n",
              "      height: 32px;\n",
              "      padding: 0 0 0 0;\n",
              "      width: 32px;\n",
              "    }\n",
              "\n",
              "    .colab-df-convert:hover {\n",
              "      background-color: #E2EBFA;\n",
              "      box-shadow: 0px 1px 2px rgba(60, 64, 67, 0.3), 0px 1px 3px 1px rgba(60, 64, 67, 0.15);\n",
              "      fill: #174EA6;\n",
              "    }\n",
              "\n",
              "    [theme=dark] .colab-df-convert {\n",
              "      background-color: #3B4455;\n",
              "      fill: #D2E3FC;\n",
              "    }\n",
              "\n",
              "    [theme=dark] .colab-df-convert:hover {\n",
              "      background-color: #434B5C;\n",
              "      box-shadow: 0px 1px 3px 1px rgba(0, 0, 0, 0.15);\n",
              "      filter: drop-shadow(0px 1px 2px rgba(0, 0, 0, 0.3));\n",
              "      fill: #FFFFFF;\n",
              "    }\n",
              "  </style>\n",
              "\n",
              "      <script>\n",
              "        const buttonEl =\n",
              "          document.querySelector('#df-938fcb23-591e-4374-bb7d-405f24785705 button.colab-df-convert');\n",
              "        buttonEl.style.display =\n",
              "          google.colab.kernel.accessAllowed ? 'block' : 'none';\n",
              "\n",
              "        async function convertToInteractive(key) {\n",
              "          const element = document.querySelector('#df-938fcb23-591e-4374-bb7d-405f24785705');\n",
              "          const dataTable =\n",
              "            await google.colab.kernel.invokeFunction('convertToInteractive',\n",
              "                                                     [key], {});\n",
              "          if (!dataTable) return;\n",
              "\n",
              "          const docLinkHtml = 'Like what you see? Visit the ' +\n",
              "            '<a target=\"_blank\" href=https://colab.research.google.com/notebooks/data_table.ipynb>data table notebook</a>'\n",
              "            + ' to learn more about interactive tables.';\n",
              "          element.innerHTML = '';\n",
              "          dataTable['output_type'] = 'display_data';\n",
              "          await google.colab.output.renderOutput(dataTable, element);\n",
              "          const docLink = document.createElement('div');\n",
              "          docLink.innerHTML = docLinkHtml;\n",
              "          element.appendChild(docLink);\n",
              "        }\n",
              "      </script>\n",
              "    </div>\n",
              "  </div>\n",
              "  "
            ]
          },
          "metadata": {},
          "execution_count": 24
        }
      ]
    },
    {
      "cell_type": "code",
      "source": [
        "y_predictdf"
      ],
      "metadata": {
        "colab": {
          "base_uri": "https://localhost:8080/",
          "height": 423
        },
        "id": "M-556s5luso0",
        "outputId": "c68c899c-0bda-4bf5-96bf-faedac777fb8"
      },
      "execution_count": 25,
      "outputs": [
        {
          "output_type": "execute_result",
          "data": {
            "text/plain": [
              "                    image                   labels\n",
              "0    91e93d80ea2bdd62.jpg       frog_eye_leaf_spot\n",
              "1    8d37caa695c9329a.jpg                         \n",
              "2    8791c68b1e4f2f16.jpg                     rust\n",
              "3    81ff35908a9ecf81.jpg                         \n",
              "4    816d69d2153fe84b.jpg                     scab\n",
              "..                    ...                      ...\n",
              "408  81f497994a696f16.jpg                  complex\n",
              "409  80782fca6a9f559c.jpg                         \n",
              "410  a0c994ca6b303dbf.jpg                  healthy\n",
              "411  82964c6d5a54b35f.jpg  frog_eye_leaf_spot scab\n",
              "412  8290c34dad175f3b.jpg             complex scab\n",
              "\n",
              "[413 rows x 2 columns]"
            ],
            "text/html": [
              "\n",
              "  <div id=\"df-3ce6704e-bc8d-434f-921d-ae4e1a4e0a5b\">\n",
              "    <div class=\"colab-df-container\">\n",
              "      <div>\n",
              "<style scoped>\n",
              "    .dataframe tbody tr th:only-of-type {\n",
              "        vertical-align: middle;\n",
              "    }\n",
              "\n",
              "    .dataframe tbody tr th {\n",
              "        vertical-align: top;\n",
              "    }\n",
              "\n",
              "    .dataframe thead th {\n",
              "        text-align: right;\n",
              "    }\n",
              "</style>\n",
              "<table border=\"1\" class=\"dataframe\">\n",
              "  <thead>\n",
              "    <tr style=\"text-align: right;\">\n",
              "      <th></th>\n",
              "      <th>image</th>\n",
              "      <th>labels</th>\n",
              "    </tr>\n",
              "  </thead>\n",
              "  <tbody>\n",
              "    <tr>\n",
              "      <th>0</th>\n",
              "      <td>91e93d80ea2bdd62.jpg</td>\n",
              "      <td>frog_eye_leaf_spot</td>\n",
              "    </tr>\n",
              "    <tr>\n",
              "      <th>1</th>\n",
              "      <td>8d37caa695c9329a.jpg</td>\n",
              "      <td></td>\n",
              "    </tr>\n",
              "    <tr>\n",
              "      <th>2</th>\n",
              "      <td>8791c68b1e4f2f16.jpg</td>\n",
              "      <td>rust</td>\n",
              "    </tr>\n",
              "    <tr>\n",
              "      <th>3</th>\n",
              "      <td>81ff35908a9ecf81.jpg</td>\n",
              "      <td></td>\n",
              "    </tr>\n",
              "    <tr>\n",
              "      <th>4</th>\n",
              "      <td>816d69d2153fe84b.jpg</td>\n",
              "      <td>scab</td>\n",
              "    </tr>\n",
              "    <tr>\n",
              "      <th>...</th>\n",
              "      <td>...</td>\n",
              "      <td>...</td>\n",
              "    </tr>\n",
              "    <tr>\n",
              "      <th>408</th>\n",
              "      <td>81f497994a696f16.jpg</td>\n",
              "      <td>complex</td>\n",
              "    </tr>\n",
              "    <tr>\n",
              "      <th>409</th>\n",
              "      <td>80782fca6a9f559c.jpg</td>\n",
              "      <td></td>\n",
              "    </tr>\n",
              "    <tr>\n",
              "      <th>410</th>\n",
              "      <td>a0c994ca6b303dbf.jpg</td>\n",
              "      <td>healthy</td>\n",
              "    </tr>\n",
              "    <tr>\n",
              "      <th>411</th>\n",
              "      <td>82964c6d5a54b35f.jpg</td>\n",
              "      <td>frog_eye_leaf_spot scab</td>\n",
              "    </tr>\n",
              "    <tr>\n",
              "      <th>412</th>\n",
              "      <td>8290c34dad175f3b.jpg</td>\n",
              "      <td>complex scab</td>\n",
              "    </tr>\n",
              "  </tbody>\n",
              "</table>\n",
              "<p>413 rows × 2 columns</p>\n",
              "</div>\n",
              "      <button class=\"colab-df-convert\" onclick=\"convertToInteractive('df-3ce6704e-bc8d-434f-921d-ae4e1a4e0a5b')\"\n",
              "              title=\"Convert this dataframe to an interactive table.\"\n",
              "              style=\"display:none;\">\n",
              "        \n",
              "  <svg xmlns=\"http://www.w3.org/2000/svg\" height=\"24px\"viewBox=\"0 0 24 24\"\n",
              "       width=\"24px\">\n",
              "    <path d=\"M0 0h24v24H0V0z\" fill=\"none\"/>\n",
              "    <path d=\"M18.56 5.44l.94 2.06.94-2.06 2.06-.94-2.06-.94-.94-2.06-.94 2.06-2.06.94zm-11 1L8.5 8.5l.94-2.06 2.06-.94-2.06-.94L8.5 2.5l-.94 2.06-2.06.94zm10 10l.94 2.06.94-2.06 2.06-.94-2.06-.94-.94-2.06-.94 2.06-2.06.94z\"/><path d=\"M17.41 7.96l-1.37-1.37c-.4-.4-.92-.59-1.43-.59-.52 0-1.04.2-1.43.59L10.3 9.45l-7.72 7.72c-.78.78-.78 2.05 0 2.83L4 21.41c.39.39.9.59 1.41.59.51 0 1.02-.2 1.41-.59l7.78-7.78 2.81-2.81c.8-.78.8-2.07 0-2.86zM5.41 20L4 18.59l7.72-7.72 1.47 1.35L5.41 20z\"/>\n",
              "  </svg>\n",
              "      </button>\n",
              "      \n",
              "  <style>\n",
              "    .colab-df-container {\n",
              "      display:flex;\n",
              "      flex-wrap:wrap;\n",
              "      gap: 12px;\n",
              "    }\n",
              "\n",
              "    .colab-df-convert {\n",
              "      background-color: #E8F0FE;\n",
              "      border: none;\n",
              "      border-radius: 50%;\n",
              "      cursor: pointer;\n",
              "      display: none;\n",
              "      fill: #1967D2;\n",
              "      height: 32px;\n",
              "      padding: 0 0 0 0;\n",
              "      width: 32px;\n",
              "    }\n",
              "\n",
              "    .colab-df-convert:hover {\n",
              "      background-color: #E2EBFA;\n",
              "      box-shadow: 0px 1px 2px rgba(60, 64, 67, 0.3), 0px 1px 3px 1px rgba(60, 64, 67, 0.15);\n",
              "      fill: #174EA6;\n",
              "    }\n",
              "\n",
              "    [theme=dark] .colab-df-convert {\n",
              "      background-color: #3B4455;\n",
              "      fill: #D2E3FC;\n",
              "    }\n",
              "\n",
              "    [theme=dark] .colab-df-convert:hover {\n",
              "      background-color: #434B5C;\n",
              "      box-shadow: 0px 1px 3px 1px rgba(0, 0, 0, 0.15);\n",
              "      filter: drop-shadow(0px 1px 2px rgba(0, 0, 0, 0.3));\n",
              "      fill: #FFFFFF;\n",
              "    }\n",
              "  </style>\n",
              "\n",
              "      <script>\n",
              "        const buttonEl =\n",
              "          document.querySelector('#df-3ce6704e-bc8d-434f-921d-ae4e1a4e0a5b button.colab-df-convert');\n",
              "        buttonEl.style.display =\n",
              "          google.colab.kernel.accessAllowed ? 'block' : 'none';\n",
              "\n",
              "        async function convertToInteractive(key) {\n",
              "          const element = document.querySelector('#df-3ce6704e-bc8d-434f-921d-ae4e1a4e0a5b');\n",
              "          const dataTable =\n",
              "            await google.colab.kernel.invokeFunction('convertToInteractive',\n",
              "                                                     [key], {});\n",
              "          if (!dataTable) return;\n",
              "\n",
              "          const docLinkHtml = 'Like what you see? Visit the ' +\n",
              "            '<a target=\"_blank\" href=https://colab.research.google.com/notebooks/data_table.ipynb>data table notebook</a>'\n",
              "            + ' to learn more about interactive tables.';\n",
              "          element.innerHTML = '';\n",
              "          dataTable['output_type'] = 'display_data';\n",
              "          await google.colab.output.renderOutput(dataTable, element);\n",
              "          const docLink = document.createElement('div');\n",
              "          docLink.innerHTML = docLinkHtml;\n",
              "          element.appendChild(docLink);\n",
              "        }\n",
              "      </script>\n",
              "    </div>\n",
              "  </div>\n",
              "  "
            ]
          },
          "metadata": {},
          "execution_count": 25
        }
      ]
    },
    {
      "cell_type": "code",
      "source": [
        "import numpy as np\n",
        "from sklearn.metrics import confusion_matrix\n",
        "\n",
        "# Obtén las etiquetas verdaderas y predichas en formato de lista\n",
        "y_truecm = [data['labels'] for data in y_true]\n",
        "y_predcm = [data['labels'] for data in y_predictN]\n",
        "\n",
        "# Obtén todas las clases únicas presentes en las etiquetas verdaderas y predichas\n",
        "#classes = np.unique(np.concatenate((y_truecm, y_predcm)))\n",
        "classes=np.unique(y_truecm)\n",
        "# Crea la matriz de confusión\n",
        "cm = confusion_matrix(y_truecm, y_predcm, labels=classes)"
      ],
      "metadata": {
        "id": "spT-MnIHprmm"
      },
      "execution_count": 26,
      "outputs": []
    },
    {
      "cell_type": "code",
      "source": [
        "import numpy as np\n",
        "import matplotlib.pyplot as plt\n",
        "import seaborn as sns\n",
        "\n",
        "# Configura la figura y los ejes\n",
        "plt.figure(figsize=(10, 10))\n",
        "sns.set(font_scale=1)  # Ajusta el tamaño de la fuente para las etiquetas de los ejes\n",
        "sns.heatmap(cm, annot=True, cmap='Greens', fmt='.2f', xticklabels=classes, yticklabels=classes)\n",
        "\n",
        "# Configura los títulos y las etiquetas de los ejes\n",
        "plt.title('Matriz de Confusión')\n",
        "plt.xlabel('Etiqueta Predicha')\n",
        "plt.ylabel('Etiqueta Verdadera')\n",
        "\n",
        "# Muestra la gráfica\n",
        "plt.show()"
      ],
      "metadata": {
        "colab": {
          "base_uri": "https://localhost:8080/",
          "height": 1000
        },
        "id": "gwHDhqzTptaL",
        "outputId": "9223071e-b037-4db1-ab3f-344d2bcda511"
      },
      "execution_count": 27,
      "outputs": [
        {
          "output_type": "display_data",
          "data": {
            "text/plain": [
              "<Figure size 1000x1000 with 2 Axes>"
            ],
            "image/png": "[encoded data removed]"
          },
          "metadata": {}
        }
      ]
    }
  ]
}