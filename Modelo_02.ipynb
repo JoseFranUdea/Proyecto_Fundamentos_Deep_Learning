{
  "nbformat": 4,
  "nbformat_minor": 0,
  "metadata": {
    "colab": {
      "provenance": [],
      "gpuType": "T4",
      "mount_file_id": "125zeCGJigAYonvzC4Lqr6kEZvxtkbVV7",
      "authorship_tag": "ABX9TyNE7OmukNvCIgQfegsoxLxr",
      "include_colab_link": true
    },
    "kernelspec": {
      "name": "python3",
      "display_name": "Python 3"
    },
    "language_info": {
      "name": "python"
    },
    "accelerator": "GPU"
  },
  "cells": [
    {
      "cell_type": "markdown",
      "metadata": {
        "id": "view-in-github",
        "colab_type": "text"
      },
      "source": [
        "<a href=\"https://colab.research.google.com/github/JoseFranUdea/Proyecto_Fundamentos_Deep_Learning/blob/main/Modelo_02.ipynb\" target=\"_parent\"><img src=\"https://colab.research.google.com/assets/colab-badge.svg\" alt=\"Open In Colab\"/></a>"
      ]
    },
    {
      "cell_type": "markdown",
      "source": [
        "# Módulos a utilizar"
      ],
      "metadata": {
        "id": "Tkcd_eQLc1Fo"
      }
    },
    {
      "cell_type": "code",
      "source": [
        "from tensorflow.keras.utils import to_categorical\n",
        "import numpy as np\n",
        "from glob import glob\n",
        "import pandas as pd\n",
        "import matplotlib.pyplot as plt\n",
        "from sklearn.model_selection import train_test_split\n",
        "from sklearn.preprocessing import MultiLabelBinarizer\n",
        "from skimage import exposure\n",
        "import cv2 as cv\n",
        "import os\n",
        "import itertools\n",
        "import seaborn as sns\n",
        "import os\n",
        "import multiprocessing as mproc\n",
        "from keras.preprocessing import image\n",
        "from tensorflow.keras.preprocessing import image\n",
        "import os\n",
        "from matplotlib.pyplot import figure\n",
        "\n",
        "from tqdm import tqdm\n",
        "%matplotlib inline\n",
        "\n",
        "print(\"ejecutado\")"
      ],
      "metadata": {
        "colab": {
          "base_uri": "https://localhost:8080/"
        },
        "id": "5ylK48qLgPr4",
        "outputId": "20e1c9cc-c85b-47e4-8114-6c23cc6ef31b"
      },
      "execution_count": 2,
      "outputs": [
        {
          "output_type": "stream",
          "name": "stdout",
          "text": [
            "ejecutado\n"
          ]
        }
      ]
    },
    {
      "cell_type": "code",
      "source": [
        "#Uso de GPU\n",
        "import tensorflow as tf\n",
        "\n",
        "gpucheck = tf.config.experimental.list_physical_devices('GPU')\n",
        "for gpu in gpucheck:\n",
        "    print(\"Name:\", gpu.name, \"  Type:\", gpu.device_type)\n",
        "tf.test.is_gpu_available()"
      ],
      "metadata": {
        "colab": {
          "base_uri": "https://localhost:8080/"
        },
        "id": "B_gzCiPwgpnh",
        "outputId": "615de4ad-6446-4073-89b0-8f336121f6b0"
      },
      "execution_count": 3,
      "outputs": [
        {
          "output_type": "stream",
          "name": "stderr",
          "text": [
            "WARNING:tensorflow:From <ipython-input-3-3d1cf1f298ed>:7: is_gpu_available (from tensorflow.python.framework.test_util) is deprecated and will be removed in a future version.\n",
            "Instructions for updating:\n",
            "Use `tf.config.list_physical_devices('GPU')` instead.\n"
          ]
        },
        {
          "output_type": "stream",
          "name": "stdout",
          "text": [
            "Name: /physical_device:GPU:0   Type: GPU\n"
          ]
        },
        {
          "output_type": "execute_result",
          "data": {
            "text/plain": [
              "True"
            ]
          },
          "metadata": {},
          "execution_count": 3
        }
      ]
    },
    {
      "cell_type": "code",
      "source": [
        "from google.colab import drive\n",
        "import shutil\n",
        "drive.mount(\"/content/drive\", force_remount=True)"
      ],
      "metadata": {
        "colab": {
          "base_uri": "https://localhost:8080/"
        },
        "id": "Rthc0YW6f3NC",
        "outputId": "1316b20d-01ad-4752-9b2f-0301a7b1d4ad"
      },
      "execution_count": 5,
      "outputs": [
        {
          "output_type": "stream",
          "name": "stdout",
          "text": [
            "Mounted at /content/drive\n"
          ]
        }
      ]
    },
    {
      "cell_type": "code",
      "source": [
        "#Cargar variables\n",
        "\n",
        "import pickle\n",
        "# Cargar las variables desde el archivo\n",
        "with open('/content/drive/MyDrive/variables.pkl', 'rb') as f:\n",
        "    X,Y,Y64,trainxNdf,trainx,train_dir,test_dir,df,train_files,train_image,trainxN,direccion,TARGET_SIZE,BATCH_SIZE,EPOCHS,DATA_LIMIT = pickle.load(f)\n"
      ],
      "metadata": {
        "id": "GWBDsL06c80D"
      },
      "execution_count": 6,
      "outputs": []
    },
    {
      "cell_type": "markdown",
      "source": [
        "**Comprobamos las dimensiones de las imágenes**"
      ],
      "metadata": {
        "id": "N-OfK4BLhKgo"
      }
    },
    {
      "cell_type": "code",
      "source": [
        "X.shape , Y64.shape, trainxNdf.shape "
      ],
      "metadata": {
        "colab": {
          "base_uri": "https://localhost:8080/"
        },
        "id": "ctHBRl_RhPJ7",
        "outputId": "51af4ee1-1933-42f6-df1e-7d39b2365a89"
      },
      "execution_count": 7,
      "outputs": [
        {
          "output_type": "execute_result",
          "data": {
            "text/plain": [
              "((4125, 128, 128, 3), (4125, 6), (4125, 7))"
            ]
          },
          "metadata": {},
          "execution_count": 7
        }
      ]
    },
    {
      "cell_type": "markdown",
      "source": [
        "**Dividimos nuestros datos**"
      ],
      "metadata": {
        "id": "NCT_spRUhZJg"
      }
    },
    {
      "cell_type": "code",
      "source": [
        "X_train, X_test, y_train, y_test = train_test_split(X, Y64, test_size=0.1)"
      ],
      "metadata": {
        "id": "RrQxl2m8hcNV"
      },
      "execution_count": 8,
      "outputs": []
    },
    {
      "cell_type": "code",
      "source": [
        "#Comprobamos el tamaño de de nuestros datos de test\n",
        "X_test.shape , y_test.shape"
      ],
      "metadata": {
        "colab": {
          "base_uri": "https://localhost:8080/"
        },
        "id": "DTHX2v-AheKX",
        "outputId": "5738f0bc-f083-4e2d-f9ca-0658119bb6f0"
      },
      "execution_count": 9,
      "outputs": [
        {
          "output_type": "execute_result",
          "data": {
            "text/plain": [
              "((413, 128, 128, 3), (413, 6))"
            ]
          },
          "metadata": {},
          "execution_count": 9
        }
      ]
    },
    {
      "cell_type": "markdown",
      "source": [],
      "metadata": {
        "id": "O0_0QaPIhmgZ"
      }
    },
    {
      "cell_type": "markdown",
      "source": [
        "# Definimos la estructura de nuestro Modelo_1"
      ],
      "metadata": {
        "id": "JvH6paBHhnir"
      }
    },
    {
      "cell_type": "code",
      "source": [
        "#Modelo02\n",
        "\n",
        "#Modelo objetivo\n",
        "from keras.models import Sequential\n",
        "from keras.layers import Dense, Dropout, Flatten\n",
        "from keras.layers import Conv2D, MaxPooling2D\n",
        "\n",
        "model = Sequential()\n",
        "model.add(Conv2D(filters=16, kernel_size=(5, 5), activation=\"relu\", input_shape=(TARGET_SIZE,TARGET_SIZE,3)))\n",
        "model.add(Dropout(0.25))\n",
        "model.add(Conv2D(filters=32, kernel_size=(5, 5), activation='relu'))\n",
        "model.add(Dropout(0.25))\n",
        "model.add(Conv2D(filters=64, kernel_size=(5, 5), activation=\"relu\"))\n",
        "model.add(Dropout(0.25))\n",
        "model.add(Conv2D(filters=64, kernel_size=(5, 5), activation='relu'))\n",
        "model.add(Dropout(0.25))\n",
        "model.add(Flatten())\n",
        "model.add(Dense(128, activation='relu'))\n",
        "model.add(Dropout(0.5))\n",
        "model.add(Dense(64, activation='relu'))\n",
        "model.add(Dropout(0.5))\n",
        "model.add(Dense(6, activation='sigmoid'))\n",
        "model.compile(optimizer='adam', loss='binary_crossentropy', metrics=['accuracy'])\n",
        "\n",
        "model.summary()\n"
      ],
      "metadata": {
        "colab": {
          "base_uri": "https://localhost:8080/"
        },
        "id": "MEH1owwGhtUt",
        "outputId": "5c5d4098-d81f-479b-81eb-471129e8a1ac"
      },
      "execution_count": 28,
      "outputs": [
        {
          "output_type": "stream",
          "name": "stdout",
          "text": [
            "Model: \"sequential_3\"\n",
            "_________________________________________________________________\n",
            " Layer (type)                Output Shape              Param #   \n",
            "=================================================================\n",
            " conv2d_4 (Conv2D)           (None, 124, 124, 16)      1216      \n",
            "                                                                 \n",
            " dropout_1 (Dropout)         (None, 124, 124, 16)      0         \n",
            "                                                                 \n",
            " conv2d_5 (Conv2D)           (None, 120, 120, 32)      12832     \n",
            "                                                                 \n",
            " dropout_2 (Dropout)         (None, 120, 120, 32)      0         \n",
            "                                                                 \n",
            " conv2d_6 (Conv2D)           (None, 116, 116, 64)      51264     \n",
            "                                                                 \n",
            " dropout_3 (Dropout)         (None, 116, 116, 64)      0         \n",
            "                                                                 \n",
            " conv2d_7 (Conv2D)           (None, 112, 112, 64)      102464    \n",
            "                                                                 \n",
            " dropout_4 (Dropout)         (None, 112, 112, 64)      0         \n",
            "                                                                 \n",
            " flatten_1 (Flatten)         (None, 802816)            0         \n",
            "                                                                 \n",
            " dense_3 (Dense)             (None, 128)               102760576 \n",
            "                                                                 \n",
            " dropout_5 (Dropout)         (None, 128)               0         \n",
            "                                                                 \n",
            " dense_4 (Dense)             (None, 64)                8256      \n",
            "                                                                 \n",
            " dropout_6 (Dropout)         (None, 64)                0         \n",
            "                                                                 \n",
            " dense_5 (Dense)             (None, 6)                 390       \n",
            "                                                                 \n",
            "=================================================================\n",
            "Total params: 102,936,998\n",
            "Trainable params: 102,936,998\n",
            "Non-trainable params: 0\n",
            "_________________________________________________________________\n"
          ]
        }
      ]
    },
    {
      "cell_type": "markdown",
      "source": [
        "**Entrenamos nuestro Modelo_1**"
      ],
      "metadata": {
        "id": "HQQLjEMWh6-n"
      }
    },
    {
      "cell_type": "code",
      "source": [
        "EPOCHS=50"
      ],
      "metadata": {
        "id": "Eg_jDPjhiMo7"
      },
      "execution_count": 29,
      "outputs": []
    },
    {
      "cell_type": "code",
      "source": [
        "model.fit(X_train, y_train, epochs=EPOCHS, validation_data=(X_test, y_test), batch_size=BATCH_SIZE)\n",
        "score = model.evaluate(X_test, y_test)\n",
        "print(\"Rendimiento:\", score)"
      ],
      "metadata": {
        "colab": {
          "base_uri": "https://localhost:8080/"
        },
        "id": "c23oJIuIh_IH",
        "outputId": "f0ee2da0-7324-49f0-ecd1-71d66632bca4"
      },
      "execution_count": 30,
      "outputs": [
        {
          "output_type": "stream",
          "name": "stdout",
          "text": [
            "Epoch 1/50\n",
            "58/58 [==============================] - 16s 214ms/step - loss: 0.7735 - accuracy: 0.1964 - val_loss: 0.6499 - val_accuracy: 0.2809\n",
            "Epoch 2/50\n",
            "58/58 [==============================] - 12s 209ms/step - loss: 0.5076 - accuracy: 0.2266 - val_loss: 0.6156 - val_accuracy: 0.2809\n",
            "Epoch 3/50\n",
            "58/58 [==============================] - 12s 210ms/step - loss: 0.4848 - accuracy: 0.2524 - val_loss: 0.4495 - val_accuracy: 0.2809\n",
            "Epoch 4/50\n",
            "58/58 [==============================] - 12s 211ms/step - loss: 0.4760 - accuracy: 0.2610 - val_loss: 0.4585 - val_accuracy: 0.2809\n",
            "Epoch 5/50\n",
            "58/58 [==============================] - 12s 211ms/step - loss: 0.4700 - accuracy: 0.2656 - val_loss: 0.4462 - val_accuracy: 0.2809\n",
            "Epoch 6/50\n",
            "58/58 [==============================] - 12s 210ms/step - loss: 0.4649 - accuracy: 0.2683 - val_loss: 0.4451 - val_accuracy: 0.2809\n",
            "Epoch 7/50\n",
            "58/58 [==============================] - 12s 209ms/step - loss: 0.4596 - accuracy: 0.2678 - val_loss: 0.4468 - val_accuracy: 0.2809\n",
            "Epoch 8/50\n",
            "58/58 [==============================] - 12s 209ms/step - loss: 0.4552 - accuracy: 0.2683 - val_loss: 0.4574 - val_accuracy: 0.2857\n",
            "Epoch 9/50\n",
            "58/58 [==============================] - 12s 209ms/step - loss: 0.4505 - accuracy: 0.2796 - val_loss: 0.4406 - val_accuracy: 0.2809\n",
            "Epoch 10/50\n",
            "58/58 [==============================] - 12s 209ms/step - loss: 0.4460 - accuracy: 0.2829 - val_loss: 0.4469 - val_accuracy: 0.2809\n",
            "Epoch 11/50\n",
            "58/58 [==============================] - 12s 209ms/step - loss: 0.4396 - accuracy: 0.3063 - val_loss: 0.4392 - val_accuracy: 0.2857\n",
            "Epoch 12/50\n",
            "58/58 [==============================] - 12s 210ms/step - loss: 0.4282 - accuracy: 0.3357 - val_loss: 0.4303 - val_accuracy: 0.3535\n",
            "Epoch 13/50\n",
            "58/58 [==============================] - 12s 210ms/step - loss: 0.4220 - accuracy: 0.3521 - val_loss: 0.4337 - val_accuracy: 0.3196\n",
            "Epoch 14/50\n",
            "58/58 [==============================] - 12s 210ms/step - loss: 0.4180 - accuracy: 0.3715 - val_loss: 0.4179 - val_accuracy: 0.3632\n",
            "Epoch 15/50\n",
            "58/58 [==============================] - 12s 211ms/step - loss: 0.4055 - accuracy: 0.4036 - val_loss: 0.4193 - val_accuracy: 0.3535\n",
            "Epoch 16/50\n",
            "58/58 [==============================] - 12s 214ms/step - loss: 0.3959 - accuracy: 0.4224 - val_loss: 0.4255 - val_accuracy: 0.3898\n",
            "Epoch 17/50\n",
            "58/58 [==============================] - 12s 210ms/step - loss: 0.3861 - accuracy: 0.4494 - val_loss: 0.4284 - val_accuracy: 0.3632\n",
            "Epoch 18/50\n",
            "58/58 [==============================] - 12s 210ms/step - loss: 0.3770 - accuracy: 0.4623 - val_loss: 0.4184 - val_accuracy: 0.3898\n",
            "Epoch 19/50\n",
            "58/58 [==============================] - 12s 209ms/step - loss: 0.3621 - accuracy: 0.4825 - val_loss: 0.4201 - val_accuracy: 0.3680\n",
            "Epoch 20/50\n",
            "58/58 [==============================] - 12s 209ms/step - loss: 0.3532 - accuracy: 0.5024 - val_loss: 0.4150 - val_accuracy: 0.4140\n",
            "Epoch 21/50\n",
            "58/58 [==============================] - 12s 211ms/step - loss: 0.3306 - accuracy: 0.5348 - val_loss: 0.4350 - val_accuracy: 0.3971\n",
            "Epoch 22/50\n",
            "58/58 [==============================] - 12s 209ms/step - loss: 0.3199 - accuracy: 0.5692 - val_loss: 0.4295 - val_accuracy: 0.3947\n",
            "Epoch 23/50\n",
            "58/58 [==============================] - 12s 210ms/step - loss: 0.2981 - accuracy: 0.6026 - val_loss: 0.4514 - val_accuracy: 0.4044\n",
            "Epoch 24/50\n",
            "58/58 [==============================] - 12s 210ms/step - loss: 0.2819 - accuracy: 0.6269 - val_loss: 0.4586 - val_accuracy: 0.3898\n",
            "Epoch 25/50\n",
            "58/58 [==============================] - 12s 211ms/step - loss: 0.2632 - accuracy: 0.6527 - val_loss: 0.4900 - val_accuracy: 0.4092\n",
            "Epoch 26/50\n",
            "58/58 [==============================] - 12s 210ms/step - loss: 0.2408 - accuracy: 0.6975 - val_loss: 0.5088 - val_accuracy: 0.3801\n",
            "Epoch 27/50\n",
            "58/58 [==============================] - 12s 209ms/step - loss: 0.2227 - accuracy: 0.7212 - val_loss: 0.5153 - val_accuracy: 0.3826\n",
            "Epoch 28/50\n",
            "58/58 [==============================] - 12s 210ms/step - loss: 0.2116 - accuracy: 0.7344 - val_loss: 0.5360 - val_accuracy: 0.3729\n",
            "Epoch 29/50\n",
            "58/58 [==============================] - 12s 209ms/step - loss: 0.2004 - accuracy: 0.7508 - val_loss: 0.5324 - val_accuracy: 0.3826\n",
            "Epoch 30/50\n",
            "58/58 [==============================] - 12s 209ms/step - loss: 0.1923 - accuracy: 0.7659 - val_loss: 0.5145 - val_accuracy: 0.3850\n",
            "Epoch 31/50\n",
            "58/58 [==============================] - 12s 209ms/step - loss: 0.1822 - accuracy: 0.7777 - val_loss: 0.5807 - val_accuracy: 0.3850\n",
            "Epoch 32/50\n",
            "58/58 [==============================] - 12s 210ms/step - loss: 0.1748 - accuracy: 0.7866 - val_loss: 0.5560 - val_accuracy: 0.4213\n",
            "Epoch 33/50\n",
            "58/58 [==============================] - 12s 211ms/step - loss: 0.1707 - accuracy: 0.7899 - val_loss: 0.6212 - val_accuracy: 0.3874\n",
            "Epoch 34/50\n",
            "58/58 [==============================] - 12s 210ms/step - loss: 0.1637 - accuracy: 0.7953 - val_loss: 0.5974 - val_accuracy: 0.3971\n",
            "Epoch 35/50\n",
            "58/58 [==============================] - 12s 209ms/step - loss: 0.1536 - accuracy: 0.8165 - val_loss: 0.6051 - val_accuracy: 0.3971\n",
            "Epoch 36/50\n",
            "58/58 [==============================] - 12s 210ms/step - loss: 0.1531 - accuracy: 0.8165 - val_loss: 0.6025 - val_accuracy: 0.3608\n",
            "Epoch 37/50\n",
            "58/58 [==============================] - 12s 209ms/step - loss: 0.1495 - accuracy: 0.8184 - val_loss: 0.6096 - val_accuracy: 0.4019\n",
            "Epoch 38/50\n",
            "58/58 [==============================] - 12s 210ms/step - loss: 0.1367 - accuracy: 0.8287 - val_loss: 0.6323 - val_accuracy: 0.3680\n",
            "Epoch 39/50\n",
            "58/58 [==============================] - 12s 209ms/step - loss: 0.1445 - accuracy: 0.8192 - val_loss: 0.6618 - val_accuracy: 0.3801\n",
            "Epoch 40/50\n",
            "58/58 [==============================] - 12s 209ms/step - loss: 0.1332 - accuracy: 0.8327 - val_loss: 0.6708 - val_accuracy: 0.3971\n",
            "Epoch 41/50\n",
            "58/58 [==============================] - 12s 215ms/step - loss: 0.1313 - accuracy: 0.8405 - val_loss: 0.7605 - val_accuracy: 0.3874\n",
            "Epoch 42/50\n",
            "58/58 [==============================] - 12s 209ms/step - loss: 0.1334 - accuracy: 0.8324 - val_loss: 0.6432 - val_accuracy: 0.3971\n",
            "Epoch 43/50\n",
            "58/58 [==============================] - 12s 209ms/step - loss: 0.1341 - accuracy: 0.8327 - val_loss: 0.6647 - val_accuracy: 0.4019\n",
            "Epoch 44/50\n",
            "58/58 [==============================] - 12s 210ms/step - loss: 0.1213 - accuracy: 0.8456 - val_loss: 0.7011 - val_accuracy: 0.3729\n",
            "Epoch 45/50\n",
            "58/58 [==============================] - 12s 210ms/step - loss: 0.1232 - accuracy: 0.8494 - val_loss: 0.7219 - val_accuracy: 0.3850\n",
            "Epoch 46/50\n",
            "58/58 [==============================] - 12s 209ms/step - loss: 0.1239 - accuracy: 0.8470 - val_loss: 0.7594 - val_accuracy: 0.3729\n",
            "Epoch 47/50\n",
            "58/58 [==============================] - 12s 209ms/step - loss: 0.1261 - accuracy: 0.8378 - val_loss: 0.7399 - val_accuracy: 0.3826\n",
            "Epoch 48/50\n",
            "58/58 [==============================] - 12s 209ms/step - loss: 0.1257 - accuracy: 0.8446 - val_loss: 0.6394 - val_accuracy: 0.4092\n",
            "Epoch 49/50\n",
            "58/58 [==============================] - 12s 212ms/step - loss: 0.1251 - accuracy: 0.8405 - val_loss: 0.6775 - val_accuracy: 0.4044\n",
            "Epoch 50/50\n",
            "58/58 [==============================] - 12s 210ms/step - loss: 0.1238 - accuracy: 0.8486 - val_loss: 0.7300 - val_accuracy: 0.3874\n",
            "13/13 [==============================] - 0s 30ms/step - loss: 0.7300 - accuracy: 0.3874\n",
            "Rendimiento: [0.7300097346305847, 0.3874092102050781]\n"
          ]
        }
      ]
    },
    {
      "cell_type": "markdown",
      "source": [
        "# Verificamos las etiquetas de nuestro X_test"
      ],
      "metadata": {
        "id": "OrsOtdZEicT4"
      }
    },
    {
      "cell_type": "markdown",
      "source": [
        "**Debido a que nuestro X_test fue seleccionado al azar debemos verificar a que etiqueta pertenecen**"
      ],
      "metadata": {
        "id": "eOUrtKrOjLJe"
      }
    },
    {
      "cell_type": "code",
      "source": [
        "#Obtenemos un dataframe pero solo de la parte de test\n",
        "#Hay que ordenarlo porque queda desordenado\n",
        "\n",
        "from tensorflow.keras.preprocessing import image\n",
        "import os\n",
        "\n",
        "direccion_test=[]\n",
        "dataframe_test = []\n",
        "img_comprobacion=[]\n",
        "\n",
        "for i in tqdm(range(len(trainx))):\n",
        "\n",
        "        img_path = os.path.join(train_dir, trainx['image'][i])\n",
        "        \n",
        "        #Check if the image file exists\n",
        "        if not os.path.isfile(img_path):\n",
        "            continue\n",
        "        \n",
        "        img = image.load_img(img_path, target_size=(TARGET_SIZE, TARGET_SIZE, 3))\n",
        "        img = image.img_to_array(img)\n",
        "        img = img / 255\n",
        "\n",
        "        for j in range(len(X_test)):\n",
        "         if np.array_equal(img, X_test[j]):\n",
        "            direccion_test.append(img_path)\n",
        "            dataframe_test.append(trainx.iloc[i])\n",
        "            img_comprobacion.append(img)  #img_comprobacion va igual que dataframe_test\n",
        "            break #Esto es para que no se repita\n",
        "\n",
        "dataframeN_test = pd.DataFrame(dataframe_test) \n",
        "img_comprobacion=np.array(img_comprobacion)\n",
        "\n",
        "#Hay que encontrar donde image_path es igual, ahí encontraremos"
      ],
      "metadata": {
        "colab": {
          "base_uri": "https://localhost:8080/"
        },
        "id": "aZyD4a_9ihXZ",
        "outputId": "53167b6f-b388-426c-c61d-d5b89592aa84"
      },
      "execution_count": 31,
      "outputs": [
        {
          "output_type": "stream",
          "name": "stderr",
          "text": [
            "100%|██████████| 12000/12000 [10:32<00:00, 18.97it/s]  \n"
          ]
        }
      ]
    },
    {
      "cell_type": "code",
      "source": [
        "##Con este código nos damos cuenta cómo estan ordenados X_test con respecto a nuestro data frame\n",
        "\n",
        "cuenta=0\n",
        "indice_X_test=[]\n",
        "indice_img_comprobacion=[]\n",
        "\n",
        "for i in range(len(X_test)):\n",
        "    for j in range(len(X_test)):\n",
        "        if np.array_equal(img_comprobacion[j],X_test[i]): #Las ordenamos con respecto a X_test, con eso ordenamos el dataframeN_test\n",
        "            indice_X_test.append(i)\n",
        "            indice_img_comprobacion.append(j)\n",
        "            cuenta=cuenta+1 ##lo lograremos cuando corramos de nuevo el código y coindican las i y j\n",
        "print(cuenta)\n",
        "indice_X_test=np.array(indice_X_test)\n",
        "indice_img_comprobacion=np.array(indice_img_comprobacion)"
      ],
      "metadata": {
        "colab": {
          "base_uri": "https://localhost:8080/"
        },
        "id": "zaFryjHuioqt",
        "outputId": "ed362aae-40ac-46b9-cecc-f074bbcdc2f4"
      },
      "execution_count": 32,
      "outputs": [
        {
          "output_type": "stream",
          "name": "stdout",
          "text": [
            "413\n"
          ]
        }
      ]
    },
    {
      "cell_type": "code",
      "source": [
        "##Ordenando las imagenes con respecto a X_test, dataframeN_test tiene que quedar ordenado\n",
        "##Nuestros array son img_comprobacion y X_test\n",
        "## Si se logra ordenar, tenemos que ordenar el dataframeN_test\n",
        "\n",
        "df_img_comprobacion_test=[]\n",
        "dataframeNN_test=[]\n",
        "\n",
        "for i in range(len(indice_X_test)):\n",
        "    dato_ordenado=indice_img_comprobacion[i]\n",
        "    df_img_comprobacion_test.append(img_comprobacion[dato_ordenado])\n",
        "    dataframeNN_test.append(dataframeN_test.iloc[dato_ordenado])\n",
        "               \n",
        "df_img_comprobacion_test=np.array(df_img_comprobacion_test)\n",
        "dataframeNN_test = pd.DataFrame(dataframeNN_test) "
      ],
      "metadata": {
        "id": "Z08uSBgJit5V"
      },
      "execution_count": 33,
      "outputs": []
    },
    {
      "cell_type": "code",
      "source": [
        "## Se comprueba que si estan ordenados :)\n",
        "cuenta=0\n",
        "indice_X_test=[]\n",
        "indice_img_comprobacion=[]\n",
        "for i in range(len(X_test)):\n",
        "    for j in range(len(X_test)):\n",
        "        if np.array_equal(df_img_comprobacion_test[j],X_test[i]): #Las ordenamos con respecto a X_test, con eso ordenamos el dataframeN_test\n",
        "            #print(i,j)\n",
        "            cuenta=cuenta+1 ##lo lograremos cuando corramos de nuevo el código y coindican las i y j\n",
        "print(cuenta)"
      ],
      "metadata": {
        "colab": {
          "base_uri": "https://localhost:8080/"
        },
        "id": "C5h7Eyhtrv37",
        "outputId": "11fdc459-bdb9-4160-b34f-d68017a84eed"
      },
      "execution_count": 34,
      "outputs": [
        {
          "output_type": "stream",
          "name": "stdout",
          "text": [
            "413\n"
          ]
        }
      ]
    },
    {
      "cell_type": "markdown",
      "source": [
        "# Matriz de confusión"
      ],
      "metadata": {
        "id": "grwcl3rVpXm1"
      }
    },
    {
      "cell_type": "code",
      "source": [
        "#Obtenemos la y_true para la matriz de confusión, esto en formato de nombre\n",
        "\n",
        "#Sacamos la y_true, ya que tenemos el dataframe bueno (dataframeN_test)\n",
        "\n",
        "name = {0: 'complex',\n",
        "        1: 'frog_eye_leaf_spot',\n",
        "        2: 'healthy',\n",
        "        3: 'powdery_mildew',\n",
        "        4: 'rust',\n",
        "        5: 'scab'}\n",
        "\n",
        "threshold = {0: 0.3,\n",
        "             1: 0.3,\n",
        "             2: 0.4,\n",
        "             3: 0.3,\n",
        "             4: 0.3,\n",
        "            5:0.3}\n",
        "y_true=[]\n",
        "\n",
        "for j in  range(len(dataframeNN_test)) :                                 #train_files:  #test files son los de prueba que nos proporcionó kaggle\n",
        "    \n",
        "    #Se carga la imagen del test_file\n",
        "    columnas = dataframeNN_test.iloc[j, :6].values.tolist()\n",
        "    d = []\n",
        "    for i in range(len(columnas)):\n",
        "        if columnas[i] > threshold[i]:\n",
        "            d.append(name[i])\n",
        "            \n",
        "    y_true.append({'image': dataframeNN_test.iloc[j]['image'], 'labels': ' '.join(d)})"
      ],
      "metadata": {
        "id": "rnx5GOnnpagP"
      },
      "execution_count": 35,
      "outputs": []
    },
    {
      "cell_type": "code",
      "source": [
        "y_predict=model.predict(X_test)"
      ],
      "metadata": {
        "colab": {
          "base_uri": "https://localhost:8080/"
        },
        "id": "87NlWKJrpdei",
        "outputId": "f924faef-7d60-4ac3-af3b-eba69fe65e5a"
      },
      "execution_count": 36,
      "outputs": [
        {
          "output_type": "stream",
          "name": "stdout",
          "text": [
            "13/13 [==============================] - 0s 25ms/step\n"
          ]
        }
      ]
    },
    {
      "cell_type": "code",
      "source": [
        "name = {0: 'complex',\n",
        "        1: 'frog_eye_leaf_spot',\n",
        "        2: 'healthy',\n",
        "        3: 'powdery_mildew',\n",
        "        4: 'rust',\n",
        "        5: 'scab'}\n",
        "\n",
        "threshold = {0: 0.3,\n",
        "             1: 0.3,\n",
        "             2: 0.4,\n",
        "             3: 0.3,\n",
        "             4: 0.3,\n",
        "            5:0.3}\n",
        "\n",
        "y_predictN=[]\n",
        "\n",
        "for j in  range(len(dataframeNN_test)) :  #train_files:  #test files son los de prueba que nos proporcionó kaggle\n",
        "    \n",
        "    #Se carga la imagen del test_file\n",
        "    columnas = y_predict[j]\n",
        "    d = []\n",
        "    for i in range(len(columnas)):\n",
        "        if columnas[i] > threshold[i]:\n",
        "            d.append(name[i])\n",
        "            \n",
        "    y_predictN.append({'image': dataframeNN_test.iloc[j]['image'], 'labels': ' '.join(d)}) "
      ],
      "metadata": {
        "id": "i-w5Aq4YpfQk"
      },
      "execution_count": 37,
      "outputs": []
    },
    {
      "cell_type": "code",
      "source": [
        "import pandas as pd\n",
        "y_predictdf=pd.DataFrame(y_predictN)\n",
        "y_truedf=pd.DataFrame(y_true)"
      ],
      "metadata": {
        "id": "vFZHvOMvuC0q"
      },
      "execution_count": 38,
      "outputs": []
    },
    {
      "cell_type": "code",
      "source": [
        "y_truedf"
      ],
      "metadata": {
        "colab": {
          "base_uri": "https://localhost:8080/",
          "height": 423
        },
        "id": "8qzhiyk7u6_A",
        "outputId": "a9f90ee0-e748-4ea0-fa9b-8009cfdae6b2"
      },
      "execution_count": 39,
      "outputs": [
        {
          "output_type": "execute_result",
          "data": {
            "text/plain": [
              "                    image                   labels\n",
              "0    91e93d80ea2bdd62.jpg           powdery_mildew\n",
              "1    8d37caa695c9329a.jpg                  healthy\n",
              "2    8791c68b1e4f2f16.jpg                     scab\n",
              "3    81ff35908a9ecf81.jpg                  complex\n",
              "4    816d69d2153fe84b.jpg                  healthy\n",
              "..                    ...                      ...\n",
              "408  81f497994a696f16.jpg  frog_eye_leaf_spot scab\n",
              "409  80782fca6a9f559c.jpg                     scab\n",
              "410  a0c994ca6b303dbf.jpg                  healthy\n",
              "411  82964c6d5a54b35f.jpg                     scab\n",
              "412  8290c34dad175f3b.jpg                  healthy\n",
              "\n",
              "[413 rows x 2 columns]"
            ],
            "text/html": [
              "\n",
              "  <div id=\"df-a5271588-bf8f-4adb-ad4e-e6958cffff75\">\n",
              "    <div class=\"colab-df-container\">\n",
              "      <div>\n",
              "<style scoped>\n",
              "    .dataframe tbody tr th:only-of-type {\n",
              "        vertical-align: middle;\n",
              "    }\n",
              "\n",
              "    .dataframe tbody tr th {\n",
              "        vertical-align: top;\n",
              "    }\n",
              "\n",
              "    .dataframe thead th {\n",
              "        text-align: right;\n",
              "    }\n",
              "</style>\n",
              "<table border=\"1\" class=\"dataframe\">\n",
              "  <thead>\n",
              "    <tr style=\"text-align: right;\">\n",
              "      <th></th>\n",
              "      <th>image</th>\n",
              "      <th>labels</th>\n",
              "    </tr>\n",
              "  </thead>\n",
              "  <tbody>\n",
              "    <tr>\n",
              "      <th>0</th>\n",
              "      <td>91e93d80ea2bdd62.jpg</td>\n",
              "      <td>powdery_mildew</td>\n",
              "    </tr>\n",
              "    <tr>\n",
              "      <th>1</th>\n",
              "      <td>8d37caa695c9329a.jpg</td>\n",
              "      <td>healthy</td>\n",
              "    </tr>\n",
              "    <tr>\n",
              "      <th>2</th>\n",
              "      <td>8791c68b1e4f2f16.jpg</td>\n",
              "      <td>scab</td>\n",
              "    </tr>\n",
              "    <tr>\n",
              "      <th>3</th>\n",
              "      <td>81ff35908a9ecf81.jpg</td>\n",
              "      <td>complex</td>\n",
              "    </tr>\n",
              "    <tr>\n",
              "      <th>4</th>\n",
              "      <td>816d69d2153fe84b.jpg</td>\n",
              "      <td>healthy</td>\n",
              "    </tr>\n",
              "    <tr>\n",
              "      <th>...</th>\n",
              "      <td>...</td>\n",
              "      <td>...</td>\n",
              "    </tr>\n",
              "    <tr>\n",
              "      <th>408</th>\n",
              "      <td>81f497994a696f16.jpg</td>\n",
              "      <td>frog_eye_leaf_spot scab</td>\n",
              "    </tr>\n",
              "    <tr>\n",
              "      <th>409</th>\n",
              "      <td>80782fca6a9f559c.jpg</td>\n",
              "      <td>scab</td>\n",
              "    </tr>\n",
              "    <tr>\n",
              "      <th>410</th>\n",
              "      <td>a0c994ca6b303dbf.jpg</td>\n",
              "      <td>healthy</td>\n",
              "    </tr>\n",
              "    <tr>\n",
              "      <th>411</th>\n",
              "      <td>82964c6d5a54b35f.jpg</td>\n",
              "      <td>scab</td>\n",
              "    </tr>\n",
              "    <tr>\n",
              "      <th>412</th>\n",
              "      <td>8290c34dad175f3b.jpg</td>\n",
              "      <td>healthy</td>\n",
              "    </tr>\n",
              "  </tbody>\n",
              "</table>\n",
              "<p>413 rows × 2 columns</p>\n",
              "</div>\n",
              "      <button class=\"colab-df-convert\" onclick=\"convertToInteractive('df-a5271588-bf8f-4adb-ad4e-e6958cffff75')\"\n",
              "              title=\"Convert this dataframe to an interactive table.\"\n",
              "              style=\"display:none;\">\n",
              "        \n",
              "  <svg xmlns=\"http://www.w3.org/2000/svg\" height=\"24px\"viewBox=\"0 0 24 24\"\n",
              "       width=\"24px\">\n",
              "    <path d=\"M0 0h24v24H0V0z\" fill=\"none\"/>\n",
              "    <path d=\"M18.56 5.44l.94 2.06.94-2.06 2.06-.94-2.06-.94-.94-2.06-.94 2.06-2.06.94zm-11 1L8.5 8.5l.94-2.06 2.06-.94-2.06-.94L8.5 2.5l-.94 2.06-2.06.94zm10 10l.94 2.06.94-2.06 2.06-.94-2.06-.94-.94-2.06-.94 2.06-2.06.94z\"/><path d=\"M17.41 7.96l-1.37-1.37c-.4-.4-.92-.59-1.43-.59-.52 0-1.04.2-1.43.59L10.3 9.45l-7.72 7.72c-.78.78-.78 2.05 0 2.83L4 21.41c.39.39.9.59 1.41.59.51 0 1.02-.2 1.41-.59l7.78-7.78 2.81-2.81c.8-.78.8-2.07 0-2.86zM5.41 20L4 18.59l7.72-7.72 1.47 1.35L5.41 20z\"/>\n",
              "  </svg>\n",
              "      </button>\n",
              "      \n",
              "  <style>\n",
              "    .colab-df-container {\n",
              "      display:flex;\n",
              "      flex-wrap:wrap;\n",
              "      gap: 12px;\n",
              "    }\n",
              "\n",
              "    .colab-df-convert {\n",
              "      background-color: #E8F0FE;\n",
              "      border: none;\n",
              "      border-radius: 50%;\n",
              "      cursor: pointer;\n",
              "      display: none;\n",
              "      fill: #1967D2;\n",
              "      height: 32px;\n",
              "      padding: 0 0 0 0;\n",
              "      width: 32px;\n",
              "    }\n",
              "\n",
              "    .colab-df-convert:hover {\n",
              "      background-color: #E2EBFA;\n",
              "      box-shadow: 0px 1px 2px rgba(60, 64, 67, 0.3), 0px 1px 3px 1px rgba(60, 64, 67, 0.15);\n",
              "      fill: #174EA6;\n",
              "    }\n",
              "\n",
              "    [theme=dark] .colab-df-convert {\n",
              "      background-color: #3B4455;\n",
              "      fill: #D2E3FC;\n",
              "    }\n",
              "\n",
              "    [theme=dark] .colab-df-convert:hover {\n",
              "      background-color: #434B5C;\n",
              "      box-shadow: 0px 1px 3px 1px rgba(0, 0, 0, 0.15);\n",
              "      filter: drop-shadow(0px 1px 2px rgba(0, 0, 0, 0.3));\n",
              "      fill: #FFFFFF;\n",
              "    }\n",
              "  </style>\n",
              "\n",
              "      <script>\n",
              "        const buttonEl =\n",
              "          document.querySelector('#df-a5271588-bf8f-4adb-ad4e-e6958cffff75 button.colab-df-convert');\n",
              "        buttonEl.style.display =\n",
              "          google.colab.kernel.accessAllowed ? 'block' : 'none';\n",
              "\n",
              "        async function convertToInteractive(key) {\n",
              "          const element = document.querySelector('#df-a5271588-bf8f-4adb-ad4e-e6958cffff75');\n",
              "          const dataTable =\n",
              "            await google.colab.kernel.invokeFunction('convertToInteractive',\n",
              "                                                     [key], {});\n",
              "          if (!dataTable) return;\n",
              "\n",
              "          const docLinkHtml = 'Like what you see? Visit the ' +\n",
              "            '<a target=\"_blank\" href=https://colab.research.google.com/notebooks/data_table.ipynb>data table notebook</a>'\n",
              "            + ' to learn more about interactive tables.';\n",
              "          element.innerHTML = '';\n",
              "          dataTable['output_type'] = 'display_data';\n",
              "          await google.colab.output.renderOutput(dataTable, element);\n",
              "          const docLink = document.createElement('div');\n",
              "          docLink.innerHTML = docLinkHtml;\n",
              "          element.appendChild(docLink);\n",
              "        }\n",
              "      </script>\n",
              "    </div>\n",
              "  </div>\n",
              "  "
            ]
          },
          "metadata": {},
          "execution_count": 39
        }
      ]
    },
    {
      "cell_type": "code",
      "source": [
        "y_predictdf"
      ],
      "metadata": {
        "colab": {
          "base_uri": "https://localhost:8080/",
          "height": 423
        },
        "id": "M-556s5luso0",
        "outputId": "7cac45c6-218f-4b8b-89f5-a13e1ab818f8"
      },
      "execution_count": 40,
      "outputs": [
        {
          "output_type": "execute_result",
          "data": {
            "text/plain": [
              "                    image                   labels\n",
              "0    91e93d80ea2bdd62.jpg                     scab\n",
              "1    8d37caa695c9329a.jpg                  healthy\n",
              "2    8791c68b1e4f2f16.jpg       frog_eye_leaf_spot\n",
              "3    81ff35908a9ecf81.jpg                     scab\n",
              "4    816d69d2153fe84b.jpg                     scab\n",
              "..                    ...                      ...\n",
              "408  81f497994a696f16.jpg                     scab\n",
              "409  80782fca6a9f559c.jpg                     scab\n",
              "410  a0c994ca6b303dbf.jpg                  healthy\n",
              "411  82964c6d5a54b35f.jpg  frog_eye_leaf_spot scab\n",
              "412  8290c34dad175f3b.jpg                  complex\n",
              "\n",
              "[413 rows x 2 columns]"
            ],
            "text/html": [
              "\n",
              "  <div id=\"df-858b47bf-ea20-4872-90e9-ee5e98364a2d\">\n",
              "    <div class=\"colab-df-container\">\n",
              "      <div>\n",
              "<style scoped>\n",
              "    .dataframe tbody tr th:only-of-type {\n",
              "        vertical-align: middle;\n",
              "    }\n",
              "\n",
              "    .dataframe tbody tr th {\n",
              "        vertical-align: top;\n",
              "    }\n",
              "\n",
              "    .dataframe thead th {\n",
              "        text-align: right;\n",
              "    }\n",
              "</style>\n",
              "<table border=\"1\" class=\"dataframe\">\n",
              "  <thead>\n",
              "    <tr style=\"text-align: right;\">\n",
              "      <th></th>\n",
              "      <th>image</th>\n",
              "      <th>labels</th>\n",
              "    </tr>\n",
              "  </thead>\n",
              "  <tbody>\n",
              "    <tr>\n",
              "      <th>0</th>\n",
              "      <td>91e93d80ea2bdd62.jpg</td>\n",
              "      <td>scab</td>\n",
              "    </tr>\n",
              "    <tr>\n",
              "      <th>1</th>\n",
              "      <td>8d37caa695c9329a.jpg</td>\n",
              "      <td>healthy</td>\n",
              "    </tr>\n",
              "    <tr>\n",
              "      <th>2</th>\n",
              "      <td>8791c68b1e4f2f16.jpg</td>\n",
              "      <td>frog_eye_leaf_spot</td>\n",
              "    </tr>\n",
              "    <tr>\n",
              "      <th>3</th>\n",
              "      <td>81ff35908a9ecf81.jpg</td>\n",
              "      <td>scab</td>\n",
              "    </tr>\n",
              "    <tr>\n",
              "      <th>4</th>\n",
              "      <td>816d69d2153fe84b.jpg</td>\n",
              "      <td>scab</td>\n",
              "    </tr>\n",
              "    <tr>\n",
              "      <th>...</th>\n",
              "      <td>...</td>\n",
              "      <td>...</td>\n",
              "    </tr>\n",
              "    <tr>\n",
              "      <th>408</th>\n",
              "      <td>81f497994a696f16.jpg</td>\n",
              "      <td>scab</td>\n",
              "    </tr>\n",
              "    <tr>\n",
              "      <th>409</th>\n",
              "      <td>80782fca6a9f559c.jpg</td>\n",
              "      <td>scab</td>\n",
              "    </tr>\n",
              "    <tr>\n",
              "      <th>410</th>\n",
              "      <td>a0c994ca6b303dbf.jpg</td>\n",
              "      <td>healthy</td>\n",
              "    </tr>\n",
              "    <tr>\n",
              "      <th>411</th>\n",
              "      <td>82964c6d5a54b35f.jpg</td>\n",
              "      <td>frog_eye_leaf_spot scab</td>\n",
              "    </tr>\n",
              "    <tr>\n",
              "      <th>412</th>\n",
              "      <td>8290c34dad175f3b.jpg</td>\n",
              "      <td>complex</td>\n",
              "    </tr>\n",
              "  </tbody>\n",
              "</table>\n",
              "<p>413 rows × 2 columns</p>\n",
              "</div>\n",
              "      <button class=\"colab-df-convert\" onclick=\"convertToInteractive('df-858b47bf-ea20-4872-90e9-ee5e98364a2d')\"\n",
              "              title=\"Convert this dataframe to an interactive table.\"\n",
              "              style=\"display:none;\">\n",
              "        \n",
              "  <svg xmlns=\"http://www.w3.org/2000/svg\" height=\"24px\"viewBox=\"0 0 24 24\"\n",
              "       width=\"24px\">\n",
              "    <path d=\"M0 0h24v24H0V0z\" fill=\"none\"/>\n",
              "    <path d=\"M18.56 5.44l.94 2.06.94-2.06 2.06-.94-2.06-.94-.94-2.06-.94 2.06-2.06.94zm-11 1L8.5 8.5l.94-2.06 2.06-.94-2.06-.94L8.5 2.5l-.94 2.06-2.06.94zm10 10l.94 2.06.94-2.06 2.06-.94-2.06-.94-.94-2.06-.94 2.06-2.06.94z\"/><path d=\"M17.41 7.96l-1.37-1.37c-.4-.4-.92-.59-1.43-.59-.52 0-1.04.2-1.43.59L10.3 9.45l-7.72 7.72c-.78.78-.78 2.05 0 2.83L4 21.41c.39.39.9.59 1.41.59.51 0 1.02-.2 1.41-.59l7.78-7.78 2.81-2.81c.8-.78.8-2.07 0-2.86zM5.41 20L4 18.59l7.72-7.72 1.47 1.35L5.41 20z\"/>\n",
              "  </svg>\n",
              "      </button>\n",
              "      \n",
              "  <style>\n",
              "    .colab-df-container {\n",
              "      display:flex;\n",
              "      flex-wrap:wrap;\n",
              "      gap: 12px;\n",
              "    }\n",
              "\n",
              "    .colab-df-convert {\n",
              "      background-color: #E8F0FE;\n",
              "      border: none;\n",
              "      border-radius: 50%;\n",
              "      cursor: pointer;\n",
              "      display: none;\n",
              "      fill: #1967D2;\n",
              "      height: 32px;\n",
              "      padding: 0 0 0 0;\n",
              "      width: 32px;\n",
              "    }\n",
              "\n",
              "    .colab-df-convert:hover {\n",
              "      background-color: #E2EBFA;\n",
              "      box-shadow: 0px 1px 2px rgba(60, 64, 67, 0.3), 0px 1px 3px 1px rgba(60, 64, 67, 0.15);\n",
              "      fill: #174EA6;\n",
              "    }\n",
              "\n",
              "    [theme=dark] .colab-df-convert {\n",
              "      background-color: #3B4455;\n",
              "      fill: #D2E3FC;\n",
              "    }\n",
              "\n",
              "    [theme=dark] .colab-df-convert:hover {\n",
              "      background-color: #434B5C;\n",
              "      box-shadow: 0px 1px 3px 1px rgba(0, 0, 0, 0.15);\n",
              "      filter: drop-shadow(0px 1px 2px rgba(0, 0, 0, 0.3));\n",
              "      fill: #FFFFFF;\n",
              "    }\n",
              "  </style>\n",
              "\n",
              "      <script>\n",
              "        const buttonEl =\n",
              "          document.querySelector('#df-858b47bf-ea20-4872-90e9-ee5e98364a2d button.colab-df-convert');\n",
              "        buttonEl.style.display =\n",
              "          google.colab.kernel.accessAllowed ? 'block' : 'none';\n",
              "\n",
              "        async function convertToInteractive(key) {\n",
              "          const element = document.querySelector('#df-858b47bf-ea20-4872-90e9-ee5e98364a2d');\n",
              "          const dataTable =\n",
              "            await google.colab.kernel.invokeFunction('convertToInteractive',\n",
              "                                                     [key], {});\n",
              "          if (!dataTable) return;\n",
              "\n",
              "          const docLinkHtml = 'Like what you see? Visit the ' +\n",
              "            '<a target=\"_blank\" href=https://colab.research.google.com/notebooks/data_table.ipynb>data table notebook</a>'\n",
              "            + ' to learn more about interactive tables.';\n",
              "          element.innerHTML = '';\n",
              "          dataTable['output_type'] = 'display_data';\n",
              "          await google.colab.output.renderOutput(dataTable, element);\n",
              "          const docLink = document.createElement('div');\n",
              "          docLink.innerHTML = docLinkHtml;\n",
              "          element.appendChild(docLink);\n",
              "        }\n",
              "      </script>\n",
              "    </div>\n",
              "  </div>\n",
              "  "
            ]
          },
          "metadata": {},
          "execution_count": 40
        }
      ]
    },
    {
      "cell_type": "code",
      "source": [
        "import numpy as np\n",
        "from sklearn.metrics import confusion_matrix\n",
        "\n",
        "# Obtén las etiquetas verdaderas y predichas en formato de lista\n",
        "y_truecm = [data['labels'] for data in y_true]\n",
        "y_predcm = [data['labels'] for data in y_predictN]\n",
        "\n",
        "# Obtén todas las clases únicas presentes en las etiquetas verdaderas y predichas\n",
        "#classes = np.unique(np.concatenate((y_truecm, y_predcm)))\n",
        "classes=np.unique(y_truecm)\n",
        "# Crea la matriz de confusión\n",
        "cm = confusion_matrix(y_truecm, y_predcm, labels=classes)"
      ],
      "metadata": {
        "id": "spT-MnIHprmm"
      },
      "execution_count": 41,
      "outputs": []
    },
    {
      "cell_type": "code",
      "source": [
        "import numpy as np\n",
        "import matplotlib.pyplot as plt\n",
        "import seaborn as sns\n",
        "\n",
        "# Configura la figura y los ejes\n",
        "plt.figure(figsize=(10, 10))\n",
        "sns.set(font_scale=1)  # Ajusta el tamaño de la fuente para las etiquetas de los ejes\n",
        "sns.heatmap(cm, annot=True, cmap='Greens', fmt='.2f', xticklabels=classes, yticklabels=classes)\n",
        "\n",
        "# Configura los títulos y las etiquetas de los ejes\n",
        "plt.title('Matriz de Confusión')\n",
        "plt.xlabel('Etiqueta Predicha')\n",
        "plt.ylabel('Etiqueta Verdadera')\n",
        "\n",
        "# Muestra la gráfica\n",
        "plt.show()"
      ],
      "metadata": {
        "colab": {
          "base_uri": "https://localhost:8080/",
          "height": 1000
        },
        "id": "gwHDhqzTptaL",
        "outputId": "fe16c15e-86dc-4d1b-cf41-68c7eec2eeaa"
      },
      "execution_count": 42,
      "outputs": [
        {
          "output_type": "display_data",
          "data": {
            "text/plain": [
              "<Figure size 1000x1000 with 2 Axes>"
            ],
            "image/png": "[encoded data removed]"
          },
          "metadata": {}
        }
      ]
    }
  ]
}