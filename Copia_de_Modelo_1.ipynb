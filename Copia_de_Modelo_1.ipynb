{
  "nbformat": 4,
  "nbformat_minor": 0,
  "metadata": {
    "colab": {
      "provenance": [],
      "collapsed_sections": [
        "Tkcd_eQLc1Fo",
        "JvH6paBHhnir",
        "OrsOtdZEicT4",
        "grwcl3rVpXm1"
      ],
      "gpuType": "T4",
      "mount_file_id": "125zeCGJigAYonvzC4Lqr6kEZvxtkbVV7",
      "authorship_tag": "ABX9TyPO+bNTd8GV9BCZn8wilTM+",
      "include_colab_link": true
    },
    "kernelspec": {
      "name": "python3",
      "display_name": "Python 3"
    },
    "language_info": {
      "name": "python"
    },
    "accelerator": "GPU"
  },
  "cells": [
    {
      "cell_type": "markdown",
      "metadata": {
        "id": "view-in-github",
        "colab_type": "text"
      },
      "source": [
        "<a href=\"https://colab.research.google.com/github/JoseFranUdea/Proyecto_Fundamentos_Deep_Learning/blob/main/Copia_de_Modelo_1.ipynb\" target=\"_parent\"><img src=\"https://colab.research.google.com/assets/colab-badge.svg\" alt=\"Open In Colab\"/></a>"
      ]
    },
    {
      "cell_type": "markdown",
      "source": [
        "# Módulos a utilizar"
      ],
      "metadata": {
        "id": "Tkcd_eQLc1Fo"
      }
    },
    {
      "cell_type": "code",
      "source": [
        "from tensorflow.keras.utils import to_categorical\n",
        "import numpy as np\n",
        "from glob import glob\n",
        "import pandas as pd\n",
        "import matplotlib.pyplot as plt\n",
        "from sklearn.model_selection import train_test_split\n",
        "from sklearn.preprocessing import MultiLabelBinarizer\n",
        "from skimage import exposure\n",
        "import cv2 as cv\n",
        "import os\n",
        "import itertools\n",
        "import seaborn as sns\n",
        "import os\n",
        "import multiprocessing as mproc\n",
        "from keras.preprocessing import image\n",
        "from tensorflow.keras.preprocessing import image\n",
        "import os\n",
        "from matplotlib.pyplot import figure\n",
        "\n",
        "from tqdm import tqdm\n",
        "%matplotlib inline\n",
        "\n",
        "print(\"ejecutado\")"
      ],
      "metadata": {
        "colab": {
          "base_uri": "https://localhost:8080/"
        },
        "id": "5ylK48qLgPr4",
        "outputId": "d8e9e4db-c5d0-4351-e6b0-92c3271d8361"
      },
      "execution_count": 3,
      "outputs": [
        {
          "output_type": "stream",
          "name": "stdout",
          "text": [
            "ejecutado\n"
          ]
        }
      ]
    },
    {
      "cell_type": "code",
      "source": [
        "#Uso de GPU\n",
        "import tensorflow as tf\n",
        "\n",
        "gpucheck = tf.config.experimental.list_physical_devices('GPU')\n",
        "for gpu in gpucheck:\n",
        "    print(\"Name:\", gpu.name, \"  Type:\", gpu.device_type)\n",
        "tf.test.is_gpu_available()"
      ],
      "metadata": {
        "colab": {
          "base_uri": "https://localhost:8080/"
        },
        "id": "B_gzCiPwgpnh",
        "outputId": "c2ce677f-43cb-48b4-f7d5-afa77f3ea8b1"
      },
      "execution_count": 2,
      "outputs": [
        {
          "output_type": "stream",
          "name": "stderr",
          "text": [
            "WARNING:tensorflow:From <ipython-input-2-3d1cf1f298ed>:7: is_gpu_available (from tensorflow.python.framework.test_util) is deprecated and will be removed in a future version.\n",
            "Instructions for updating:\n",
            "Use `tf.config.list_physical_devices('GPU')` instead.\n"
          ]
        },
        {
          "output_type": "stream",
          "name": "stdout",
          "text": [
            "Name: /physical_device:GPU:0   Type: GPU\n"
          ]
        },
        {
          "output_type": "execute_result",
          "data": {
            "text/plain": [
              "True"
            ]
          },
          "metadata": {},
          "execution_count": 2
        }
      ]
    },
    {
      "cell_type": "code",
      "source": [
        "from google.colab import drive\n",
        "import shutil\n",
        "drive.mount(\"/content/drive\", force_remount=True)"
      ],
      "metadata": {
        "colab": {
          "base_uri": "https://localhost:8080/"
        },
        "id": "Rthc0YW6f3NC",
        "outputId": "dc328188-825b-4552-82ec-132a884392a9"
      },
      "execution_count": 4,
      "outputs": [
        {
          "output_type": "stream",
          "name": "stdout",
          "text": [
            "Mounted at /content/drive\n"
          ]
        }
      ]
    },
    {
      "cell_type": "code",
      "source": [
        "#Cargar variables\n",
        "\n",
        "import pickle\n",
        "# Cargar las variables desde el archivo\n",
        "with open('/content/drive/MyDrive/variables.pkl', 'rb') as f:\n",
        "    X,Y,Y64,trainxNdf,trainx,train_dir,test_dir,df,train_files,train_image,trainxN,direccion,TARGET_SIZE,BATCH_SIZE,EPOCHS,DATA_LIMIT = pickle.load(f)\n"
      ],
      "metadata": {
        "id": "GWBDsL06c80D"
      },
      "execution_count": 5,
      "outputs": []
    },
    {
      "cell_type": "markdown",
      "source": [
        "**Comprobamos las dimensiones de las imágenes**"
      ],
      "metadata": {
        "id": "N-OfK4BLhKgo"
      }
    },
    {
      "cell_type": "code",
      "source": [
        "X.shape , Y64.shape, trainxNdf.shape "
      ],
      "metadata": {
        "colab": {
          "base_uri": "https://localhost:8080/"
        },
        "id": "ctHBRl_RhPJ7",
        "outputId": "c41cb4c7-0e19-4673-d477-ef98975ec0fa"
      },
      "execution_count": 6,
      "outputs": [
        {
          "output_type": "execute_result",
          "data": {
            "text/plain": [
              "((4125, 128, 128, 3), (4125, 6), (4125, 7))"
            ]
          },
          "metadata": {},
          "execution_count": 6
        }
      ]
    },
    {
      "cell_type": "markdown",
      "source": [
        "**Dividimos nuestros datos**"
      ],
      "metadata": {
        "id": "NCT_spRUhZJg"
      }
    },
    {
      "cell_type": "code",
      "source": [
        "X_train, X_test, y_train, y_test = train_test_split(X, Y64, test_size=0.1)"
      ],
      "metadata": {
        "id": "RrQxl2m8hcNV"
      },
      "execution_count": 7,
      "outputs": []
    },
    {
      "cell_type": "code",
      "source": [
        "#Comprobamos el tamaño de de nuestros datos de test\n",
        "X_test.shape , y_test.shape"
      ],
      "metadata": {
        "colab": {
          "base_uri": "https://localhost:8080/"
        },
        "id": "DTHX2v-AheKX",
        "outputId": "f6a5aa9a-fe6e-494b-945a-b332ac55680f"
      },
      "execution_count": 8,
      "outputs": [
        {
          "output_type": "execute_result",
          "data": {
            "text/plain": [
              "((413, 128, 128, 3), (413, 6))"
            ]
          },
          "metadata": {},
          "execution_count": 8
        }
      ]
    },
    {
      "cell_type": "markdown",
      "source": [],
      "metadata": {
        "id": "O0_0QaPIhmgZ"
      }
    },
    {
      "cell_type": "markdown",
      "source": [
        "# Definimos la estructura de nuestro Modelo_1"
      ],
      "metadata": {
        "id": "JvH6paBHhnir"
      }
    },
    {
      "cell_type": "code",
      "source": [
        "from keras.models import Sequential\n",
        "from keras.layers import Dense, Dropout, Flatten\n",
        "from keras.layers import Conv2D, MaxPooling2D\n",
        "\n",
        "model = Sequential()\n",
        "model.add(Conv2D(filters=16, kernel_size=(5, 5), activation=\"relu\", input_shape=(TARGET_SIZE,TARGET_SIZE,3)))\n",
        "model.add(MaxPooling2D(pool_size=(2, 2)))\n",
        "model.add(Dropout(0.25))\n",
        "model.add(Conv2D(filters=32, kernel_size=(5, 5), activation='relu'))\n",
        "model.add(MaxPooling2D(pool_size=(2, 2)))\n",
        "model.add(Dropout(0.25))\n",
        "model.add(Conv2D(filters=64, kernel_size=(5, 5), activation=\"relu\"))\n",
        "model.add(MaxPooling2D(pool_size=(2, 2)))\n",
        "model.add(Dropout(0.25))\n",
        "model.add(Conv2D(filters=64, kernel_size=(5, 5), activation='relu'))\n",
        "model.add(MaxPooling2D(pool_size=(2, 2)))\n",
        "model.add(Dropout(0.25))\n",
        "model.add(Flatten())\n",
        "model.add(Dense(128, activation='relu'))\n",
        "model.add(Dropout(0.5))\n",
        "model.add(Dense(64, activation='relu'))\n",
        "model.add(Dropout(0.5))\n",
        "model.add(Dense(6, activation='sigmoid'))\n",
        "model.compile(optimizer='adam', loss='binary_crossentropy', metrics=['accuracy'])\n",
        "\n",
        "model.summary()"
      ],
      "metadata": {
        "colab": {
          "base_uri": "https://localhost:8080/"
        },
        "id": "MEH1owwGhtUt",
        "outputId": "0f4e85d8-f8e6-4a98-93be-5d4421c86ada"
      },
      "execution_count": 9,
      "outputs": [
        {
          "output_type": "stream",
          "name": "stdout",
          "text": [
            "Model: \"sequential\"\n",
            "_________________________________________________________________\n",
            " Layer (type)                Output Shape              Param #   \n",
            "=================================================================\n",
            " conv2d (Conv2D)             (None, 124, 124, 16)      1216      \n",
            "                                                                 \n",
            " max_pooling2d (MaxPooling2D  (None, 62, 62, 16)       0         \n",
            " )                                                               \n",
            "                                                                 \n",
            " dropout (Dropout)           (None, 62, 62, 16)        0         \n",
            "                                                                 \n",
            " conv2d_1 (Conv2D)           (None, 58, 58, 32)        12832     \n",
            "                                                                 \n",
            " max_pooling2d_1 (MaxPooling  (None, 29, 29, 32)       0         \n",
            " 2D)                                                             \n",
            "                                                                 \n",
            " dropout_1 (Dropout)         (None, 29, 29, 32)        0         \n",
            "                                                                 \n",
            " conv2d_2 (Conv2D)           (None, 25, 25, 64)        51264     \n",
            "                                                                 \n",
            " max_pooling2d_2 (MaxPooling  (None, 12, 12, 64)       0         \n",
            " 2D)                                                             \n",
            "                                                                 \n",
            " dropout_2 (Dropout)         (None, 12, 12, 64)        0         \n",
            "                                                                 \n",
            " conv2d_3 (Conv2D)           (None, 8, 8, 64)          102464    \n",
            "                                                                 \n",
            " max_pooling2d_3 (MaxPooling  (None, 4, 4, 64)         0         \n",
            " 2D)                                                             \n",
            "                                                                 \n",
            " dropout_3 (Dropout)         (None, 4, 4, 64)          0         \n",
            "                                                                 \n",
            " flatten (Flatten)           (None, 1024)              0         \n",
            "                                                                 \n",
            " dense (Dense)               (None, 128)               131200    \n",
            "                                                                 \n",
            " dropout_4 (Dropout)         (None, 128)               0         \n",
            "                                                                 \n",
            " dense_1 (Dense)             (None, 64)                8256      \n",
            "                                                                 \n",
            " dropout_5 (Dropout)         (None, 64)                0         \n",
            "                                                                 \n",
            " dense_2 (Dense)             (None, 6)                 390       \n",
            "                                                                 \n",
            "=================================================================\n",
            "Total params: 307,622\n",
            "Trainable params: 307,622\n",
            "Non-trainable params: 0\n",
            "_________________________________________________________________\n"
          ]
        }
      ]
    },
    {
      "cell_type": "markdown",
      "source": [
        "**Entrenamos nuestro Modelo_1**"
      ],
      "metadata": {
        "id": "HQQLjEMWh6-n"
      }
    },
    {
      "cell_type": "code",
      "source": [
        "EPOCHS=10"
      ],
      "metadata": {
        "id": "Eg_jDPjhiMo7"
      },
      "execution_count": 10,
      "outputs": []
    },
    {
      "cell_type": "code",
      "source": [
        "model.fit(X_train, y_train, epochs=EPOCHS, validation_data=(X_test, y_test), batch_size=BATCH_SIZE)\n",
        "score = model.evaluate(X_test, y_test)\n",
        "print(\"Rendimiento:\", score)"
      ],
      "metadata": {
        "colab": {
          "base_uri": "https://localhost:8080/"
        },
        "id": "c23oJIuIh_IH",
        "outputId": "e167f74f-c701-4ca2-b918-54004f85824e"
      },
      "execution_count": 11,
      "outputs": [
        {
          "output_type": "stream",
          "name": "stdout",
          "text": [
            "Epoch 1/10\n",
            "58/58 [==============================] - 94s 2s/step - loss: 0.5139 - accuracy: 0.2344 - val_loss: 0.5034 - val_accuracy: 0.2978\n",
            "Epoch 2/10\n",
            "58/58 [==============================] - 74s 1s/step - loss: 0.4752 - accuracy: 0.2613 - val_loss: 0.5052 - val_accuracy: 0.2978\n",
            "Epoch 3/10\n",
            "58/58 [==============================] - 77s 1s/step - loss: 0.4684 - accuracy: 0.2575 - val_loss: 0.4627 - val_accuracy: 0.2978\n",
            "Epoch 4/10\n",
            "58/58 [==============================] - 72s 1s/step - loss: 0.4616 - accuracy: 0.2584 - val_loss: 0.4525 - val_accuracy: 0.2978\n",
            "Epoch 5/10\n",
            "58/58 [==============================] - 73s 1s/step - loss: 0.4568 - accuracy: 0.2732 - val_loss: 0.4494 - val_accuracy: 0.2978\n",
            "Epoch 6/10\n",
            "58/58 [==============================] - 79s 1s/step - loss: 0.4489 - accuracy: 0.2909 - val_loss: 0.4195 - val_accuracy: 0.3535\n",
            "Epoch 7/10\n",
            "58/58 [==============================] - 72s 1s/step - loss: 0.4375 - accuracy: 0.3114 - val_loss: 0.4108 - val_accuracy: 0.3777\n",
            "Epoch 8/10\n",
            "58/58 [==============================] - 73s 1s/step - loss: 0.4306 - accuracy: 0.3389 - val_loss: 0.4089 - val_accuracy: 0.3462\n",
            "Epoch 9/10\n",
            "58/58 [==============================] - 74s 1s/step - loss: 0.4262 - accuracy: 0.3556 - val_loss: 0.3990 - val_accuracy: 0.4383\n",
            "Epoch 10/10\n",
            "58/58 [==============================] - 72s 1s/step - loss: 0.4129 - accuracy: 0.3801 - val_loss: 0.3922 - val_accuracy: 0.3947\n",
            "13/13 [==============================] - 2s 137ms/step - loss: 0.3922 - accuracy: 0.3947\n",
            "Rendimiento: [0.3921828866004944, 0.39467310905456543]\n"
          ]
        }
      ]
    },
    {
      "cell_type": "markdown",
      "source": [
        "# Verificamos las etiquetas de nuestro X_test"
      ],
      "metadata": {
        "id": "OrsOtdZEicT4"
      }
    },
    {
      "cell_type": "markdown",
      "source": [
        "**Debido a que nuestro X_test fue seleccionado al azar debemos verificar a que etiqueta pertenecen**"
      ],
      "metadata": {
        "id": "eOUrtKrOjLJe"
      }
    },
    {
      "cell_type": "code",
      "source": [
        "range(len(img_conv))"
      ],
      "metadata": {
        "colab": {
          "base_uri": "https://localhost:8080/"
        },
        "id": "Kr9nJeY18QUe",
        "outputId": "7bda2300-1dbc-476f-a46f-0f3052813a2c"
      },
      "execution_count": 22,
      "outputs": [
        {
          "output_type": "execute_result",
          "data": {
            "text/plain": [
              "range(0, 4125)"
            ]
          },
          "metadata": {},
          "execution_count": 22
        }
      ]
    },
    {
      "cell_type": "code",
      "source": [
        "#Obtenemos un dataframe pero solo de la parte de test\n",
        "#Hay que ordenarlo porque queda desordenado\n",
        "\n",
        "from tensorflow.keras.preprocessing import image\n",
        "import os\n",
        "\n",
        "direccion_test=[]\n",
        "dataframe_test = []\n",
        "img_comprobacion=[]\n",
        "\n",
        "for i in tqdm(range(len(trainx))):\n",
        "\n",
        "        img_path = os.path.join(train_dir, trainx['image'][i])\n",
        "        \n",
        "        #Check if the image file exists\n",
        "        if not os.path.isfile(img_path):\n",
        "            continue\n",
        "        \n",
        "        img = image.load_img(img_path, target_size=(TARGET_SIZE, TARGET_SIZE, 3))\n",
        "        img = image.img_to_array(img)\n",
        "        img = img / 255\n",
        "\n",
        "        for j in range(len(X_test)):\n",
        "         if np.array_equal(img, X_test[j]):\n",
        "            direccion_test.append(img_path)\n",
        "            dataframe_test.append(trainx.iloc[i])\n",
        "            img_comprobacion.append(img)  #img_comprobacion va igual que dataframe_test\n",
        "            break #Esto es para que no se repita\n",
        "\n",
        "dataframeN_test = pd.DataFrame(dataframe_test) \n",
        "img_comprobacion=np.array(img_comprobacion)\n",
        "\n",
        "#Hay que encontrar donde image_path es igual, ahí encontraremos"
      ],
      "metadata": {
        "colab": {
          "base_uri": "https://localhost:8080/"
        },
        "id": "aZyD4a_9ihXZ",
        "outputId": "be23b13c-746e-4e65-bb6b-853c59ea0242"
      },
      "execution_count": 20,
      "outputs": [
        {
          "output_type": "stream",
          "name": "stderr",
          "text": [
            "100%|██████████| 12000/12000 [09:34<00:00, 20.90it/s]  \n"
          ]
        }
      ]
    },
    {
      "cell_type": "code",
      "source": [
        "len(img_comprobacion) #Si esta en lo correcto, tarda 35 minutos, trataremos de hacerlo más rápido"
      ],
      "metadata": {
        "colab": {
          "base_uri": "https://localhost:8080/"
        },
        "id": "qFryIRLZrOQ2",
        "outputId": "d7eaa53f-9ef0-4fe6-ed01-455ecb053054"
      },
      "execution_count": 21,
      "outputs": [
        {
          "output_type": "execute_result",
          "data": {
            "text/plain": [
              "414"
            ]
          },
          "metadata": {},
          "execution_count": 21
        }
      ]
    },
    {
      "cell_type": "code",
      "source": [
        "##Con este código nos damos cuenta cómo estan ordenados X_test con respecto a nuestro data frame\n",
        "\n",
        "cuenta=0\n",
        "indice_X_test=[]\n",
        "indice_img_comprobacion=[]\n",
        "\n",
        "for i in range(len(X_test)):\n",
        "    for j in range(len(X_test)):\n",
        "        if np.array_equal(img_comprobacion[j],X_test[i]): #Las ordenamos con respecto a X_test, con eso ordenamos el dataframeN_test\n",
        "            indice_X_test.append(i)\n",
        "            indice_img_comprobacion.append(j)\n",
        "            cuenta=cuenta+1 ##lo lograremos cuando corramos de nuevo el código y coindican las i y j\n",
        "print(cuenta)\n",
        "indice_X_test=np.array(indice_X_test)\n",
        "indice_img_comprobacion=np.array(indice_img_comprobacion)"
      ],
      "metadata": {
        "colab": {
          "base_uri": "https://localhost:8080/"
        },
        "id": "zaFryjHuioqt",
        "outputId": "edde373b-31bf-40d6-cb34-dc09b9dcb8e1"
      },
      "execution_count": 23,
      "outputs": [
        {
          "output_type": "stream",
          "name": "stdout",
          "text": [
            "413\n"
          ]
        }
      ]
    },
    {
      "cell_type": "code",
      "source": [
        "##Ordenando las imagenes con respecto a X_test, dataframeN_test tiene que quedar ordenado\n",
        "##Nuestros array son img_comprobacion y X_test\n",
        "## Si se logra ordenar, tenemos que ordenar el dataframeN_test\n",
        "\n",
        "df_img_comprobacion_test=[]\n",
        "dataframeNN_test=[]\n",
        "\n",
        "for i in range(len(indice_X_test)):\n",
        "    dato_ordenado=indice_img_comprobacion[i]\n",
        "    df_img_comprobacion_test.append(img_comprobacion[dato_ordenado])\n",
        "    dataframeNN_test.append(dataframeN_test.iloc[dato_ordenado])\n",
        "               \n",
        "df_img_comprobacion_test=np.array(df_img_comprobacion_test)\n",
        "dataframeNN_test = pd.DataFrame(dataframeNN_test) "
      ],
      "metadata": {
        "id": "Z08uSBgJit5V"
      },
      "execution_count": 24,
      "outputs": []
    },
    {
      "cell_type": "code",
      "source": [
        "## Se comprueba que si estan ordenados :)\n",
        "cuenta=0\n",
        "indice_X_test=[]\n",
        "indice_img_comprobacion=[]\n",
        "for i in range(len(X_test)):\n",
        "    for j in range(len(X_test)):\n",
        "        if np.array_equal(df_img_comprobacion_test[j],X_test[i]): #Las ordenamos con respecto a X_test, con eso ordenamos el dataframeN_test\n",
        "            #print(i,j)\n",
        "            cuenta=cuenta+1 ##lo lograremos cuando corramos de nuevo el código y coindican las i y j\n",
        "print(cuenta)"
      ],
      "metadata": {
        "colab": {
          "base_uri": "https://localhost:8080/"
        },
        "id": "C5h7Eyhtrv37",
        "outputId": "fe558f28-8921-4939-9489-b57f7504f5d0"
      },
      "execution_count": 26,
      "outputs": [
        {
          "output_type": "stream",
          "name": "stdout",
          "text": [
            "413\n"
          ]
        }
      ]
    },
    {
      "cell_type": "markdown",
      "source": [
        "# Matriz de confusión"
      ],
      "metadata": {
        "id": "grwcl3rVpXm1"
      }
    },
    {
      "cell_type": "code",
      "source": [
        "#Obtenemos la y_true para la matriz de confusión, esto en formato de nombre\n",
        "\n",
        "#Sacamos la y_true, ya que tenemos el dataframe bueno (dataframeN_test)\n",
        "\n",
        "name = {0: 'complex',\n",
        "        1: 'frog_eye_leaf_spot',\n",
        "        2: 'healthy',\n",
        "        3: 'powdery_mildew',\n",
        "        4: 'rust',\n",
        "        5: 'scab'}\n",
        "\n",
        "threshold = {0: 0.3,\n",
        "             1: 0.3,\n",
        "             2: 0.4,\n",
        "             3: 0.3,\n",
        "             4: 0.3,\n",
        "            5:0.3}\n",
        "y_true=[]\n",
        "\n",
        "for j in  range(len(dataframeNN_test)) :                                 #train_files:  #test files son los de prueba que nos proporcionó kaggle\n",
        "    \n",
        "    #Se carga la imagen del test_file\n",
        "    columnas = dataframeNN_test.iloc[j, :6].values.tolist()\n",
        "    d = []\n",
        "    for i in range(len(columnas)):\n",
        "        if columnas[i] > threshold[i]:\n",
        "            d.append(name[i])\n",
        "            \n",
        "    y_true.append({'image': dataframeNN_test.iloc[j]['image'], 'labels': ' '.join(d)})"
      ],
      "metadata": {
        "id": "rnx5GOnnpagP"
      },
      "execution_count": 27,
      "outputs": []
    },
    {
      "cell_type": "code",
      "source": [
        "y_predict=model.predict(X_test)"
      ],
      "metadata": {
        "colab": {
          "base_uri": "https://localhost:8080/"
        },
        "id": "87NlWKJrpdei",
        "outputId": "44d56c6a-24d0-4e1c-edec-96c8dbe21698"
      },
      "execution_count": 28,
      "outputs": [
        {
          "output_type": "stream",
          "name": "stdout",
          "text": [
            "13/13 [==============================] - 3s 184ms/step\n"
          ]
        }
      ]
    },
    {
      "cell_type": "code",
      "source": [
        "name = {0: 'complex',\n",
        "        1: 'frog_eye_leaf_spot',\n",
        "        2: 'healthy',\n",
        "        3: 'powdery_mildew',\n",
        "        4: 'rust',\n",
        "        5: 'scab'}\n",
        "\n",
        "threshold = {0: 0.3,\n",
        "             1: 0.3,\n",
        "             2: 0.4,\n",
        "             3: 0.3,\n",
        "             4: 0.3,\n",
        "            5:0.3}\n",
        "\n",
        "y_predictN=[]\n",
        "\n",
        "for j in  range(len(dataframeNN_test)) :  #train_files:  #test files son los de prueba que nos proporcionó kaggle\n",
        "    \n",
        "    #Se carga la imagen del test_file\n",
        "    columnas = y_predict[j]\n",
        "    d = []\n",
        "    for i in range(len(columnas)):\n",
        "        if columnas[i] > threshold[i]:\n",
        "            d.append(name[i])\n",
        "            \n",
        "    y_predictN.append({'image': dataframeNN_test.iloc[j]['image'], 'labels': ' '.join(d)}) "
      ],
      "metadata": {
        "id": "i-w5Aq4YpfQk"
      },
      "execution_count": 29,
      "outputs": []
    },
    {
      "cell_type": "code",
      "source": [
        "import pandas as pd\n",
        "y_predictdf=pd.DataFrame(y_predictN)\n",
        "y_truedf=pd.DataFrame(y_true)"
      ],
      "metadata": {
        "id": "vFZHvOMvuC0q"
      },
      "execution_count": 30,
      "outputs": []
    },
    {
      "cell_type": "code",
      "source": [
        "y_truedf"
      ],
      "metadata": {
        "colab": {
          "base_uri": "https://localhost:8080/",
          "height": 423
        },
        "id": "8qzhiyk7u6_A",
        "outputId": "23a17cf4-eb5f-41bc-c019-c407b28f5f8c"
      },
      "execution_count": 31,
      "outputs": [
        {
          "output_type": "execute_result",
          "data": {
            "text/plain": [
              "                    image              labels\n",
              "0    8d334c9373cd9853.jpg             healthy\n",
              "1    a08ed6f64c0bf2b4.jpg             healthy\n",
              "2    850f988179efaf03.jpg             healthy\n",
              "3    85b575cdcb636848.jpg  frog_eye_leaf_spot\n",
              "4    a1b3e091d3bad703.jpg  frog_eye_leaf_spot\n",
              "..                    ...                 ...\n",
              "408  98e14ebd3192ed16.jpg      powdery_mildew\n",
              "409  920e33d67f8b01b3.jpg                rust\n",
              "410  a085dad6dc6af149.jpg  frog_eye_leaf_spot\n",
              "411  8d98efc88aa54567.jpg             complex\n",
              "412  a1d2b7d02ad45cad.jpg             healthy\n",
              "\n",
              "[413 rows x 2 columns]"
            ],
            "text/html": [
              "\n",
              "  <div id=\"df-2ac1228e-e57f-4d1c-8750-0f73f9e65b8a\">\n",
              "    <div class=\"colab-df-container\">\n",
              "      <div>\n",
              "<style scoped>\n",
              "    .dataframe tbody tr th:only-of-type {\n",
              "        vertical-align: middle;\n",
              "    }\n",
              "\n",
              "    .dataframe tbody tr th {\n",
              "        vertical-align: top;\n",
              "    }\n",
              "\n",
              "    .dataframe thead th {\n",
              "        text-align: right;\n",
              "    }\n",
              "</style>\n",
              "<table border=\"1\" class=\"dataframe\">\n",
              "  <thead>\n",
              "    <tr style=\"text-align: right;\">\n",
              "      <th></th>\n",
              "      <th>image</th>\n",
              "      <th>labels</th>\n",
              "    </tr>\n",
              "  </thead>\n",
              "  <tbody>\n",
              "    <tr>\n",
              "      <th>0</th>\n",
              "      <td>8d334c9373cd9853.jpg</td>\n",
              "      <td>healthy</td>\n",
              "    </tr>\n",
              "    <tr>\n",
              "      <th>1</th>\n",
              "      <td>a08ed6f64c0bf2b4.jpg</td>\n",
              "      <td>healthy</td>\n",
              "    </tr>\n",
              "    <tr>\n",
              "      <th>2</th>\n",
              "      <td>850f988179efaf03.jpg</td>\n",
              "      <td>healthy</td>\n",
              "    </tr>\n",
              "    <tr>\n",
              "      <th>3</th>\n",
              "      <td>85b575cdcb636848.jpg</td>\n",
              "      <td>frog_eye_leaf_spot</td>\n",
              "    </tr>\n",
              "    <tr>\n",
              "      <th>4</th>\n",
              "      <td>a1b3e091d3bad703.jpg</td>\n",
              "      <td>frog_eye_leaf_spot</td>\n",
              "    </tr>\n",
              "    <tr>\n",
              "      <th>...</th>\n",
              "      <td>...</td>\n",
              "      <td>...</td>\n",
              "    </tr>\n",
              "    <tr>\n",
              "      <th>408</th>\n",
              "      <td>98e14ebd3192ed16.jpg</td>\n",
              "      <td>powdery_mildew</td>\n",
              "    </tr>\n",
              "    <tr>\n",
              "      <th>409</th>\n",
              "      <td>920e33d67f8b01b3.jpg</td>\n",
              "      <td>rust</td>\n",
              "    </tr>\n",
              "    <tr>\n",
              "      <th>410</th>\n",
              "      <td>a085dad6dc6af149.jpg</td>\n",
              "      <td>frog_eye_leaf_spot</td>\n",
              "    </tr>\n",
              "    <tr>\n",
              "      <th>411</th>\n",
              "      <td>8d98efc88aa54567.jpg</td>\n",
              "      <td>complex</td>\n",
              "    </tr>\n",
              "    <tr>\n",
              "      <th>412</th>\n",
              "      <td>a1d2b7d02ad45cad.jpg</td>\n",
              "      <td>healthy</td>\n",
              "    </tr>\n",
              "  </tbody>\n",
              "</table>\n",
              "<p>413 rows × 2 columns</p>\n",
              "</div>\n",
              "      <button class=\"colab-df-convert\" onclick=\"convertToInteractive('df-2ac1228e-e57f-4d1c-8750-0f73f9e65b8a')\"\n",
              "              title=\"Convert this dataframe to an interactive table.\"\n",
              "              style=\"display:none;\">\n",
              "        \n",
              "  <svg xmlns=\"http://www.w3.org/2000/svg\" height=\"24px\"viewBox=\"0 0 24 24\"\n",
              "       width=\"24px\">\n",
              "    <path d=\"M0 0h24v24H0V0z\" fill=\"none\"/>\n",
              "    <path d=\"M18.56 5.44l.94 2.06.94-2.06 2.06-.94-2.06-.94-.94-2.06-.94 2.06-2.06.94zm-11 1L8.5 8.5l.94-2.06 2.06-.94-2.06-.94L8.5 2.5l-.94 2.06-2.06.94zm10 10l.94 2.06.94-2.06 2.06-.94-2.06-.94-.94-2.06-.94 2.06-2.06.94z\"/><path d=\"M17.41 7.96l-1.37-1.37c-.4-.4-.92-.59-1.43-.59-.52 0-1.04.2-1.43.59L10.3 9.45l-7.72 7.72c-.78.78-.78 2.05 0 2.83L4 21.41c.39.39.9.59 1.41.59.51 0 1.02-.2 1.41-.59l7.78-7.78 2.81-2.81c.8-.78.8-2.07 0-2.86zM5.41 20L4 18.59l7.72-7.72 1.47 1.35L5.41 20z\"/>\n",
              "  </svg>\n",
              "      </button>\n",
              "      \n",
              "  <style>\n",
              "    .colab-df-container {\n",
              "      display:flex;\n",
              "      flex-wrap:wrap;\n",
              "      gap: 12px;\n",
              "    }\n",
              "\n",
              "    .colab-df-convert {\n",
              "      background-color: #E8F0FE;\n",
              "      border: none;\n",
              "      border-radius: 50%;\n",
              "      cursor: pointer;\n",
              "      display: none;\n",
              "      fill: #1967D2;\n",
              "      height: 32px;\n",
              "      padding: 0 0 0 0;\n",
              "      width: 32px;\n",
              "    }\n",
              "\n",
              "    .colab-df-convert:hover {\n",
              "      background-color: #E2EBFA;\n",
              "      box-shadow: 0px 1px 2px rgba(60, 64, 67, 0.3), 0px 1px 3px 1px rgba(60, 64, 67, 0.15);\n",
              "      fill: #174EA6;\n",
              "    }\n",
              "\n",
              "    [theme=dark] .colab-df-convert {\n",
              "      background-color: #3B4455;\n",
              "      fill: #D2E3FC;\n",
              "    }\n",
              "\n",
              "    [theme=dark] .colab-df-convert:hover {\n",
              "      background-color: #434B5C;\n",
              "      box-shadow: 0px 1px 3px 1px rgba(0, 0, 0, 0.15);\n",
              "      filter: drop-shadow(0px 1px 2px rgba(0, 0, 0, 0.3));\n",
              "      fill: #FFFFFF;\n",
              "    }\n",
              "  </style>\n",
              "\n",
              "      <script>\n",
              "        const buttonEl =\n",
              "          document.querySelector('#df-2ac1228e-e57f-4d1c-8750-0f73f9e65b8a button.colab-df-convert');\n",
              "        buttonEl.style.display =\n",
              "          google.colab.kernel.accessAllowed ? 'block' : 'none';\n",
              "\n",
              "        async function convertToInteractive(key) {\n",
              "          const element = document.querySelector('#df-2ac1228e-e57f-4d1c-8750-0f73f9e65b8a');\n",
              "          const dataTable =\n",
              "            await google.colab.kernel.invokeFunction('convertToInteractive',\n",
              "                                                     [key], {});\n",
              "          if (!dataTable) return;\n",
              "\n",
              "          const docLinkHtml = 'Like what you see? Visit the ' +\n",
              "            '<a target=\"_blank\" href=https://colab.research.google.com/notebooks/data_table.ipynb>data table notebook</a>'\n",
              "            + ' to learn more about interactive tables.';\n",
              "          element.innerHTML = '';\n",
              "          dataTable['output_type'] = 'display_data';\n",
              "          await google.colab.output.renderOutput(dataTable, element);\n",
              "          const docLink = document.createElement('div');\n",
              "          docLink.innerHTML = docLinkHtml;\n",
              "          element.appendChild(docLink);\n",
              "        }\n",
              "      </script>\n",
              "    </div>\n",
              "  </div>\n",
              "  "
            ]
          },
          "metadata": {},
          "execution_count": 31
        }
      ]
    },
    {
      "cell_type": "code",
      "source": [
        "y_predictdf"
      ],
      "metadata": {
        "colab": {
          "base_uri": "https://localhost:8080/",
          "height": 423
        },
        "id": "M-556s5luso0",
        "outputId": "634690e8-8501-443a-f953-7016db8410f4"
      },
      "execution_count": 32,
      "outputs": [
        {
          "output_type": "execute_result",
          "data": {
            "text/plain": [
              "                    image                  labels\n",
              "0    8d334c9373cd9853.jpg                    scab\n",
              "1    a08ed6f64c0bf2b4.jpg                 healthy\n",
              "2    850f988179efaf03.jpg                    scab\n",
              "3    85b575cdcb636848.jpg                    scab\n",
              "4    a1b3e091d3bad703.jpg                    scab\n",
              "..                    ...                     ...\n",
              "408  98e14ebd3192ed16.jpg  complex powdery_mildew\n",
              "409  920e33d67f8b01b3.jpg          powdery_mildew\n",
              "410  a085dad6dc6af149.jpg                    scab\n",
              "411  8d98efc88aa54567.jpg                    scab\n",
              "412  a1d2b7d02ad45cad.jpg                    scab\n",
              "\n",
              "[413 rows x 2 columns]"
            ],
            "text/html": [
              "\n",
              "  <div id=\"df-23f12bc8-14de-4839-bd58-dae6181be310\">\n",
              "    <div class=\"colab-df-container\">\n",
              "      <div>\n",
              "<style scoped>\n",
              "    .dataframe tbody tr th:only-of-type {\n",
              "        vertical-align: middle;\n",
              "    }\n",
              "\n",
              "    .dataframe tbody tr th {\n",
              "        vertical-align: top;\n",
              "    }\n",
              "\n",
              "    .dataframe thead th {\n",
              "        text-align: right;\n",
              "    }\n",
              "</style>\n",
              "<table border=\"1\" class=\"dataframe\">\n",
              "  <thead>\n",
              "    <tr style=\"text-align: right;\">\n",
              "      <th></th>\n",
              "      <th>image</th>\n",
              "      <th>labels</th>\n",
              "    </tr>\n",
              "  </thead>\n",
              "  <tbody>\n",
              "    <tr>\n",
              "      <th>0</th>\n",
              "      <td>8d334c9373cd9853.jpg</td>\n",
              "      <td>scab</td>\n",
              "    </tr>\n",
              "    <tr>\n",
              "      <th>1</th>\n",
              "      <td>a08ed6f64c0bf2b4.jpg</td>\n",
              "      <td>healthy</td>\n",
              "    </tr>\n",
              "    <tr>\n",
              "      <th>2</th>\n",
              "      <td>850f988179efaf03.jpg</td>\n",
              "      <td>scab</td>\n",
              "    </tr>\n",
              "    <tr>\n",
              "      <th>3</th>\n",
              "      <td>85b575cdcb636848.jpg</td>\n",
              "      <td>scab</td>\n",
              "    </tr>\n",
              "    <tr>\n",
              "      <th>4</th>\n",
              "      <td>a1b3e091d3bad703.jpg</td>\n",
              "      <td>scab</td>\n",
              "    </tr>\n",
              "    <tr>\n",
              "      <th>...</th>\n",
              "      <td>...</td>\n",
              "      <td>...</td>\n",
              "    </tr>\n",
              "    <tr>\n",
              "      <th>408</th>\n",
              "      <td>98e14ebd3192ed16.jpg</td>\n",
              "      <td>complex powdery_mildew</td>\n",
              "    </tr>\n",
              "    <tr>\n",
              "      <th>409</th>\n",
              "      <td>920e33d67f8b01b3.jpg</td>\n",
              "      <td>powdery_mildew</td>\n",
              "    </tr>\n",
              "    <tr>\n",
              "      <th>410</th>\n",
              "      <td>a085dad6dc6af149.jpg</td>\n",
              "      <td>scab</td>\n",
              "    </tr>\n",
              "    <tr>\n",
              "      <th>411</th>\n",
              "      <td>8d98efc88aa54567.jpg</td>\n",
              "      <td>scab</td>\n",
              "    </tr>\n",
              "    <tr>\n",
              "      <th>412</th>\n",
              "      <td>a1d2b7d02ad45cad.jpg</td>\n",
              "      <td>scab</td>\n",
              "    </tr>\n",
              "  </tbody>\n",
              "</table>\n",
              "<p>413 rows × 2 columns</p>\n",
              "</div>\n",
              "      <button class=\"colab-df-convert\" onclick=\"convertToInteractive('df-23f12bc8-14de-4839-bd58-dae6181be310')\"\n",
              "              title=\"Convert this dataframe to an interactive table.\"\n",
              "              style=\"display:none;\">\n",
              "        \n",
              "  <svg xmlns=\"http://www.w3.org/2000/svg\" height=\"24px\"viewBox=\"0 0 24 24\"\n",
              "       width=\"24px\">\n",
              "    <path d=\"M0 0h24v24H0V0z\" fill=\"none\"/>\n",
              "    <path d=\"M18.56 5.44l.94 2.06.94-2.06 2.06-.94-2.06-.94-.94-2.06-.94 2.06-2.06.94zm-11 1L8.5 8.5l.94-2.06 2.06-.94-2.06-.94L8.5 2.5l-.94 2.06-2.06.94zm10 10l.94 2.06.94-2.06 2.06-.94-2.06-.94-.94-2.06-.94 2.06-2.06.94z\"/><path d=\"M17.41 7.96l-1.37-1.37c-.4-.4-.92-.59-1.43-.59-.52 0-1.04.2-1.43.59L10.3 9.45l-7.72 7.72c-.78.78-.78 2.05 0 2.83L4 21.41c.39.39.9.59 1.41.59.51 0 1.02-.2 1.41-.59l7.78-7.78 2.81-2.81c.8-.78.8-2.07 0-2.86zM5.41 20L4 18.59l7.72-7.72 1.47 1.35L5.41 20z\"/>\n",
              "  </svg>\n",
              "      </button>\n",
              "      \n",
              "  <style>\n",
              "    .colab-df-container {\n",
              "      display:flex;\n",
              "      flex-wrap:wrap;\n",
              "      gap: 12px;\n",
              "    }\n",
              "\n",
              "    .colab-df-convert {\n",
              "      background-color: #E8F0FE;\n",
              "      border: none;\n",
              "      border-radius: 50%;\n",
              "      cursor: pointer;\n",
              "      display: none;\n",
              "      fill: #1967D2;\n",
              "      height: 32px;\n",
              "      padding: 0 0 0 0;\n",
              "      width: 32px;\n",
              "    }\n",
              "\n",
              "    .colab-df-convert:hover {\n",
              "      background-color: #E2EBFA;\n",
              "      box-shadow: 0px 1px 2px rgba(60, 64, 67, 0.3), 0px 1px 3px 1px rgba(60, 64, 67, 0.15);\n",
              "      fill: #174EA6;\n",
              "    }\n",
              "\n",
              "    [theme=dark] .colab-df-convert {\n",
              "      background-color: #3B4455;\n",
              "      fill: #D2E3FC;\n",
              "    }\n",
              "\n",
              "    [theme=dark] .colab-df-convert:hover {\n",
              "      background-color: #434B5C;\n",
              "      box-shadow: 0px 1px 3px 1px rgba(0, 0, 0, 0.15);\n",
              "      filter: drop-shadow(0px 1px 2px rgba(0, 0, 0, 0.3));\n",
              "      fill: #FFFFFF;\n",
              "    }\n",
              "  </style>\n",
              "\n",
              "      <script>\n",
              "        const buttonEl =\n",
              "          document.querySelector('#df-23f12bc8-14de-4839-bd58-dae6181be310 button.colab-df-convert');\n",
              "        buttonEl.style.display =\n",
              "          google.colab.kernel.accessAllowed ? 'block' : 'none';\n",
              "\n",
              "        async function convertToInteractive(key) {\n",
              "          const element = document.querySelector('#df-23f12bc8-14de-4839-bd58-dae6181be310');\n",
              "          const dataTable =\n",
              "            await google.colab.kernel.invokeFunction('convertToInteractive',\n",
              "                                                     [key], {});\n",
              "          if (!dataTable) return;\n",
              "\n",
              "          const docLinkHtml = 'Like what you see? Visit the ' +\n",
              "            '<a target=\"_blank\" href=https://colab.research.google.com/notebooks/data_table.ipynb>data table notebook</a>'\n",
              "            + ' to learn more about interactive tables.';\n",
              "          element.innerHTML = '';\n",
              "          dataTable['output_type'] = 'display_data';\n",
              "          await google.colab.output.renderOutput(dataTable, element);\n",
              "          const docLink = document.createElement('div');\n",
              "          docLink.innerHTML = docLinkHtml;\n",
              "          element.appendChild(docLink);\n",
              "        }\n",
              "      </script>\n",
              "    </div>\n",
              "  </div>\n",
              "  "
            ]
          },
          "metadata": {},
          "execution_count": 32
        }
      ]
    },
    {
      "cell_type": "code",
      "source": [
        "import numpy as np\n",
        "from sklearn.metrics import confusion_matrix\n",
        "\n",
        "# Obtén las etiquetas verdaderas y predichas en formato de lista\n",
        "y_truecm = [data['labels'] for data in y_true]\n",
        "y_predcm = [data['labels'] for data in y_predictN]\n",
        "\n",
        "# Obtén todas las clases únicas presentes en las etiquetas verdaderas y predichas\n",
        "#classes = np.unique(np.concatenate((y_truecm, y_predcm)))\n",
        "classes=np.unique(y_truecm)\n",
        "# Crea la matriz de confusión\n",
        "cm = confusion_matrix(y_truecm, y_predcm, labels=classes)"
      ],
      "metadata": {
        "id": "spT-MnIHprmm"
      },
      "execution_count": 33,
      "outputs": []
    },
    {
      "cell_type": "code",
      "source": [
        "import numpy as np\n",
        "import matplotlib.pyplot as plt\n",
        "import seaborn as sns\n",
        "\n",
        "# Configura la figura y los ejes\n",
        "plt.figure(figsize=(10, 10))\n",
        "sns.set(font_scale=1)  # Ajusta el tamaño de la fuente para las etiquetas de los ejes\n",
        "sns.heatmap(cm, annot=True, cmap='Greens', fmt='.2f', xticklabels=classes, yticklabels=classes)\n",
        "\n",
        "# Configura los títulos y las etiquetas de los ejes\n",
        "plt.title('Matriz de Confusión')\n",
        "plt.xlabel('Etiqueta Predicha')\n",
        "plt.ylabel('Etiqueta Verdadera')\n",
        "\n",
        "# Muestra la gráfica\n",
        "plt.show()"
      ],
      "metadata": {
        "colab": {
          "base_uri": "https://localhost:8080/",
          "height": 1000
        },
        "id": "gwHDhqzTptaL",
        "outputId": "71e16630-9ee7-4157-caa1-81c5a9d7ff01"
      },
      "execution_count": 34,
      "outputs": [
        {
          "output_type": "display_data",
          "data": {
            "text/plain": [
              "<Figure size 1000x1000 with 2 Axes>"
            ],
            "image/png": "[encoded data removed]"
          },
          "metadata": {}
        }
      ]
    }
  ]
}