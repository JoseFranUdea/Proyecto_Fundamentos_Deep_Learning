{
  "nbformat": 4,
  "nbformat_minor": 0,
  "metadata": {
    "colab": {
      "provenance": [],
      "gpuType": "T4",
      "mount_file_id": "125zeCGJigAYonvzC4Lqr6kEZvxtkbVV7",
      "authorship_tag": "ABX9TyOBa77iJw5CD/1ia9TEr9eN",
      "include_colab_link": true
    },
    "kernelspec": {
      "name": "python3",
      "display_name": "Python 3"
    },
    "language_info": {
      "name": "python"
    },
    "accelerator": "GPU"
  },
  "cells": [
    {
      "cell_type": "markdown",
      "metadata": {
        "id": "view-in-github",
        "colab_type": "text"
      },
      "source": [
        "<a href=\"https://colab.research.google.com/github/JoseFranUdea/Proyecto_Fundamentos_Deep_Learning/blob/main/Modelo_05.ipynb\" target=\"_parent\"><img src=\"https://colab.research.google.com/assets/colab-badge.svg\" alt=\"Open In Colab\"/></a>"
      ]
    },
    {
      "cell_type": "markdown",
      "source": [
        "# Módulos a utilizar"
      ],
      "metadata": {
        "id": "Tkcd_eQLc1Fo"
      }
    },
    {
      "cell_type": "code",
      "source": [
        "from tensorflow.keras.utils import to_categorical\n",
        "import numpy as np\n",
        "from glob import glob\n",
        "import pandas as pd\n",
        "import matplotlib.pyplot as plt\n",
        "from sklearn.model_selection import train_test_split\n",
        "from sklearn.preprocessing import MultiLabelBinarizer\n",
        "from skimage import exposure\n",
        "import cv2 as cv\n",
        "import os\n",
        "import itertools\n",
        "import seaborn as sns\n",
        "import os\n",
        "import multiprocessing as mproc\n",
        "from keras.preprocessing import image\n",
        "from tensorflow.keras.preprocessing import image\n",
        "import os\n",
        "from matplotlib.pyplot import figure\n",
        "\n",
        "from tqdm import tqdm\n",
        "%matplotlib inline\n",
        "\n",
        "print(\"ejecutado\")"
      ],
      "metadata": {
        "colab": {
          "base_uri": "https://localhost:8080/"
        },
        "id": "5ylK48qLgPr4",
        "outputId": "3e47cfe1-5f3e-4f15-c372-54aac202e84e"
      },
      "execution_count": 1,
      "outputs": [
        {
          "output_type": "stream",
          "name": "stdout",
          "text": [
            "ejecutado\n"
          ]
        }
      ]
    },
    {
      "cell_type": "code",
      "source": [
        "#Uso de GPU\n",
        "import tensorflow as tf\n",
        "\n",
        "gpucheck = tf.config.experimental.list_physical_devices('GPU')\n",
        "for gpu in gpucheck:\n",
        "    print(\"Name:\", gpu.name, \"  Type:\", gpu.device_type)\n",
        "tf.test.is_gpu_available()"
      ],
      "metadata": {
        "colab": {
          "base_uri": "https://localhost:8080/"
        },
        "id": "B_gzCiPwgpnh",
        "outputId": "88433206-18f2-4b8e-b77f-a128db611dde"
      },
      "execution_count": 2,
      "outputs": [
        {
          "output_type": "stream",
          "name": "stderr",
          "text": [
            "WARNING:tensorflow:From <ipython-input-2-3d1cf1f298ed>:7: is_gpu_available (from tensorflow.python.framework.test_util) is deprecated and will be removed in a future version.\n",
            "Instructions for updating:\n",
            "Use `tf.config.list_physical_devices('GPU')` instead.\n"
          ]
        },
        {
          "output_type": "stream",
          "name": "stdout",
          "text": [
            "Name: /physical_device:GPU:0   Type: GPU\n"
          ]
        },
        {
          "output_type": "execute_result",
          "data": {
            "text/plain": [
              "True"
            ]
          },
          "metadata": {},
          "execution_count": 2
        }
      ]
    },
    {
      "cell_type": "code",
      "source": [
        "from google.colab import drive\n",
        "import shutil\n",
        "drive.mount(\"/content/drive\", force_remount=True)"
      ],
      "metadata": {
        "colab": {
          "base_uri": "https://localhost:8080/"
        },
        "id": "Rthc0YW6f3NC",
        "outputId": "14619fa4-7a54-4758-da79-191c968b791e"
      },
      "execution_count": 3,
      "outputs": [
        {
          "output_type": "stream",
          "name": "stdout",
          "text": [
            "Mounted at /content/drive\n"
          ]
        }
      ]
    },
    {
      "cell_type": "code",
      "source": [
        "#Cargar variables\n",
        "\n",
        "import pickle\n",
        "# Cargar las variables desde el archivo\n",
        "with open('/content/drive/MyDrive/variables.pkl', 'rb') as f:\n",
        "    X,Y,Y64,trainxNdf,trainx,train_dir,test_dir,df,train_files,train_image,trainxN,direccion,TARGET_SIZE,BATCH_SIZE,EPOCHS,DATA_LIMIT = pickle.load(f)\n"
      ],
      "metadata": {
        "id": "GWBDsL06c80D"
      },
      "execution_count": 4,
      "outputs": []
    },
    {
      "cell_type": "markdown",
      "source": [
        "**Comprobamos las dimensiones de las imágenes**"
      ],
      "metadata": {
        "id": "N-OfK4BLhKgo"
      }
    },
    {
      "cell_type": "code",
      "source": [
        "X.shape , Y64.shape, trainxNdf.shape "
      ],
      "metadata": {
        "colab": {
          "base_uri": "https://localhost:8080/"
        },
        "id": "ctHBRl_RhPJ7",
        "outputId": "d8cf03b0-c351-45ec-87e1-13798ff27eb2"
      },
      "execution_count": 5,
      "outputs": [
        {
          "output_type": "execute_result",
          "data": {
            "text/plain": [
              "((4125, 128, 128, 3), (4125, 6), (4125, 7))"
            ]
          },
          "metadata": {},
          "execution_count": 5
        }
      ]
    },
    {
      "cell_type": "markdown",
      "source": [
        "**Dividimos nuestros datos**"
      ],
      "metadata": {
        "id": "NCT_spRUhZJg"
      }
    },
    {
      "cell_type": "code",
      "source": [
        "X_train, X_test, y_train, y_test = train_test_split(X, Y64, test_size=0.1)"
      ],
      "metadata": {
        "id": "RrQxl2m8hcNV"
      },
      "execution_count": 6,
      "outputs": []
    },
    {
      "cell_type": "code",
      "source": [
        "#Comprobamos el tamaño de de nuestros datos de test\n",
        "X_test.shape , y_test.shape"
      ],
      "metadata": {
        "colab": {
          "base_uri": "https://localhost:8080/"
        },
        "id": "DTHX2v-AheKX",
        "outputId": "fe0d43a5-929e-4b51-e1d4-7f064513f89d"
      },
      "execution_count": 7,
      "outputs": [
        {
          "output_type": "execute_result",
          "data": {
            "text/plain": [
              "((413, 128, 128, 3), (413, 6))"
            ]
          },
          "metadata": {},
          "execution_count": 7
        }
      ]
    },
    {
      "cell_type": "markdown",
      "source": [],
      "metadata": {
        "id": "O0_0QaPIhmgZ"
      }
    },
    {
      "cell_type": "markdown",
      "source": [
        "# Definimos la estructura de nuestro Modelo"
      ],
      "metadata": {
        "id": "JvH6paBHhnir"
      }
    },
    {
      "cell_type": "code",
      "source": [
        "#Modelo_01\n",
        "\n",
        "from keras.models import Sequential\n",
        "from keras.layers import Dense, Flatten\n",
        "from keras.layers import Conv2D\n",
        "\n",
        "model = Sequential()\n",
        "model.add(Conv2D(filters=16, kernel_size=(5, 5), activation=\"relu\", input_shape=(TARGET_SIZE,TARGET_SIZE,3)))\n",
        "model.add(Conv2D(filters=32, kernel_size=(5, 5), activation='relu'))\n",
        "model.add(Conv2D(filters=64, kernel_size=(5, 5), activation=\"relu\"))\n",
        "model.add(Conv2D(filters=64, kernel_size=(5, 5), activation='relu'))\n",
        "model.add(Flatten())\n",
        "model.add(Dense(128, activation='relu'))\n",
        "model.add(Dense(64, activation='relu'))\n",
        "model.add(Dense(6, activation='sigmoid'))\n",
        "model.compile(optimizer='adam', loss='binary_crossentropy', metrics=['accuracy'])\n",
        "\n",
        "model.summary()\n"
      ],
      "metadata": {
        "colab": {
          "base_uri": "https://localhost:8080/"
        },
        "id": "MEH1owwGhtUt",
        "outputId": "2b47a117-4a5a-4db4-dab7-a634ea51671f"
      },
      "execution_count": 8,
      "outputs": [
        {
          "output_type": "stream",
          "name": "stdout",
          "text": [
            "Model: \"sequential\"\n",
            "_________________________________________________________________\n",
            " Layer (type)                Output Shape              Param #   \n",
            "=================================================================\n",
            " conv2d (Conv2D)             (None, 124, 124, 16)      1216      \n",
            "                                                                 \n",
            " conv2d_1 (Conv2D)           (None, 120, 120, 32)      12832     \n",
            "                                                                 \n",
            " conv2d_2 (Conv2D)           (None, 116, 116, 64)      51264     \n",
            "                                                                 \n",
            " conv2d_3 (Conv2D)           (None, 112, 112, 64)      102464    \n",
            "                                                                 \n",
            " flatten (Flatten)           (None, 802816)            0         \n",
            "                                                                 \n",
            " dense (Dense)               (None, 128)               102760576 \n",
            "                                                                 \n",
            " dense_1 (Dense)             (None, 64)                8256      \n",
            "                                                                 \n",
            " dense_2 (Dense)             (None, 6)                 390       \n",
            "                                                                 \n",
            "=================================================================\n",
            "Total params: 102,936,998\n",
            "Trainable params: 102,936,998\n",
            "Non-trainable params: 0\n",
            "_________________________________________________________________\n"
          ]
        }
      ]
    },
    {
      "cell_type": "markdown",
      "source": [
        "**Entrenamos nuestro Modelo_1**"
      ],
      "metadata": {
        "id": "HQQLjEMWh6-n"
      }
    },
    {
      "cell_type": "code",
      "source": [
        "EPOCHS=50"
      ],
      "metadata": {
        "id": "Eg_jDPjhiMo7"
      },
      "execution_count": 9,
      "outputs": []
    },
    {
      "cell_type": "code",
      "source": [
        "model.fit(X_train, y_train, epochs=EPOCHS, validation_data=(X_test, y_test), batch_size=BATCH_SIZE)\n",
        "score = model.evaluate(X_test, y_test)\n",
        "print(\"Rendimiento:\", score)"
      ],
      "metadata": {
        "colab": {
          "base_uri": "https://localhost:8080/"
        },
        "id": "c23oJIuIh_IH",
        "outputId": "58e45283-c5a7-4121-f526-30adca4dc513"
      },
      "execution_count": 10,
      "outputs": [
        {
          "output_type": "stream",
          "name": "stdout",
          "text": [
            "Epoch 1/50\n",
            "58/58 [==============================] - 30s 206ms/step - loss: 0.5233 - accuracy: 0.2877 - val_loss: 0.4504 - val_accuracy: 0.3293\n",
            "Epoch 2/50\n",
            "58/58 [==============================] - 9s 161ms/step - loss: 0.4204 - accuracy: 0.3408 - val_loss: 0.4132 - val_accuracy: 0.3487\n",
            "Epoch 3/50\n",
            "58/58 [==============================] - 9s 162ms/step - loss: 0.3962 - accuracy: 0.3925 - val_loss: 0.3986 - val_accuracy: 0.4286\n",
            "Epoch 4/50\n",
            "58/58 [==============================] - 9s 163ms/step - loss: 0.3700 - accuracy: 0.4714 - val_loss: 0.3876 - val_accuracy: 0.4358\n",
            "Epoch 5/50\n",
            "58/58 [==============================] - 9s 163ms/step - loss: 0.3425 - accuracy: 0.5294 - val_loss: 0.4087 - val_accuracy: 0.4334\n",
            "Epoch 6/50\n",
            "58/58 [==============================] - 10s 165ms/step - loss: 0.2980 - accuracy: 0.5927 - val_loss: 0.4247 - val_accuracy: 0.4165\n",
            "Epoch 7/50\n",
            "58/58 [==============================] - 9s 164ms/step - loss: 0.2463 - accuracy: 0.6897 - val_loss: 0.5523 - val_accuracy: 0.4140\n",
            "Epoch 8/50\n",
            "58/58 [==============================] - 9s 162ms/step - loss: 0.1646 - accuracy: 0.7988 - val_loss: 0.6239 - val_accuracy: 0.3293\n",
            "Epoch 9/50\n",
            "58/58 [==============================] - 9s 163ms/step - loss: 0.1030 - accuracy: 0.8820 - val_loss: 0.8732 - val_accuracy: 0.3850\n",
            "Epoch 10/50\n",
            "58/58 [==============================] - 9s 163ms/step - loss: 0.0605 - accuracy: 0.9289 - val_loss: 1.2029 - val_accuracy: 0.3535\n",
            "Epoch 11/50\n",
            "58/58 [==============================] - 9s 162ms/step - loss: 0.0392 - accuracy: 0.9475 - val_loss: 1.2593 - val_accuracy: 0.3898\n",
            "Epoch 12/50\n",
            "58/58 [==============================] - 9s 163ms/step - loss: 0.0265 - accuracy: 0.9547 - val_loss: 1.6580 - val_accuracy: 0.3826\n",
            "Epoch 13/50\n",
            "58/58 [==============================] - 9s 163ms/step - loss: 0.0154 - accuracy: 0.9626 - val_loss: 1.6041 - val_accuracy: 0.3729\n",
            "Epoch 14/50\n",
            "58/58 [==============================] - 9s 164ms/step - loss: 0.0157 - accuracy: 0.9591 - val_loss: 1.9028 - val_accuracy: 0.3487\n",
            "Epoch 15/50\n",
            "58/58 [==============================] - 9s 163ms/step - loss: 0.0102 - accuracy: 0.9642 - val_loss: 2.0127 - val_accuracy: 0.3535\n",
            "Epoch 16/50\n",
            "58/58 [==============================] - 9s 163ms/step - loss: 0.0128 - accuracy: 0.9582 - val_loss: 1.6342 - val_accuracy: 0.3487\n",
            "Epoch 17/50\n",
            "58/58 [==============================] - 10s 169ms/step - loss: 0.0112 - accuracy: 0.9634 - val_loss: 2.0046 - val_accuracy: 0.3680\n",
            "Epoch 18/50\n",
            "58/58 [==============================] - 9s 162ms/step - loss: 0.0078 - accuracy: 0.9644 - val_loss: 1.9316 - val_accuracy: 0.3826\n",
            "Epoch 19/50\n",
            "58/58 [==============================] - 9s 163ms/step - loss: 0.0033 - accuracy: 0.9604 - val_loss: 1.9517 - val_accuracy: 0.3680\n",
            "Epoch 20/50\n",
            "58/58 [==============================] - 9s 163ms/step - loss: 0.0026 - accuracy: 0.9607 - val_loss: 1.9743 - val_accuracy: 0.3874\n",
            "Epoch 21/50\n",
            "58/58 [==============================] - 9s 162ms/step - loss: 0.0014 - accuracy: 0.9634 - val_loss: 2.0045 - val_accuracy: 0.3801\n",
            "Epoch 22/50\n",
            "58/58 [==============================] - 9s 163ms/step - loss: 0.0013 - accuracy: 0.9628 - val_loss: 2.0105 - val_accuracy: 0.3898\n",
            "Epoch 23/50\n",
            "58/58 [==============================] - 9s 163ms/step - loss: 0.0018 - accuracy: 0.9626 - val_loss: 1.8702 - val_accuracy: 0.3753\n",
            "Epoch 24/50\n",
            "58/58 [==============================] - 9s 162ms/step - loss: 9.2798e-04 - accuracy: 0.9591 - val_loss: 2.0953 - val_accuracy: 0.3753\n",
            "Epoch 25/50\n",
            "58/58 [==============================] - 9s 163ms/step - loss: 0.0011 - accuracy: 0.9612 - val_loss: 2.0464 - val_accuracy: 0.3753\n",
            "Epoch 26/50\n",
            "58/58 [==============================] - 9s 163ms/step - loss: 5.8303e-04 - accuracy: 0.9607 - val_loss: 2.0810 - val_accuracy: 0.3753\n",
            "Epoch 27/50\n",
            "58/58 [==============================] - 9s 163ms/step - loss: 7.6525e-04 - accuracy: 0.9591 - val_loss: 2.0493 - val_accuracy: 0.3850\n",
            "Epoch 28/50\n",
            "58/58 [==============================] - 9s 163ms/step - loss: 7.9046e-04 - accuracy: 0.9607 - val_loss: 2.0716 - val_accuracy: 0.3826\n",
            "Epoch 29/50\n",
            "58/58 [==============================] - 9s 163ms/step - loss: 0.0011 - accuracy: 0.9604 - val_loss: 2.0262 - val_accuracy: 0.3753\n",
            "Epoch 30/50\n",
            "58/58 [==============================] - 9s 163ms/step - loss: 6.3796e-04 - accuracy: 0.9591 - val_loss: 1.9881 - val_accuracy: 0.3850\n",
            "Epoch 31/50\n",
            "58/58 [==============================] - 9s 162ms/step - loss: 8.5793e-04 - accuracy: 0.9623 - val_loss: 2.0063 - val_accuracy: 0.3729\n",
            "Epoch 32/50\n",
            "58/58 [==============================] - 9s 163ms/step - loss: 5.7432e-04 - accuracy: 0.9628 - val_loss: 2.0179 - val_accuracy: 0.3777\n",
            "Epoch 33/50\n",
            "58/58 [==============================] - 9s 163ms/step - loss: 7.5178e-04 - accuracy: 0.9593 - val_loss: 2.1622 - val_accuracy: 0.3777\n",
            "Epoch 34/50\n",
            "58/58 [==============================] - 9s 162ms/step - loss: 7.5593e-04 - accuracy: 0.9615 - val_loss: 2.1533 - val_accuracy: 0.3753\n",
            "Epoch 35/50\n",
            "58/58 [==============================] - 9s 163ms/step - loss: 6.7395e-04 - accuracy: 0.9617 - val_loss: 2.0648 - val_accuracy: 0.3753\n",
            "Epoch 36/50\n",
            "58/58 [==============================] - 9s 163ms/step - loss: 6.2432e-04 - accuracy: 0.9609 - val_loss: 2.0776 - val_accuracy: 0.3729\n",
            "Epoch 37/50\n",
            "58/58 [==============================] - 9s 163ms/step - loss: 7.1731e-04 - accuracy: 0.9607 - val_loss: 2.1068 - val_accuracy: 0.3801\n",
            "Epoch 38/50\n",
            "58/58 [==============================] - 9s 163ms/step - loss: 8.1433e-04 - accuracy: 0.9626 - val_loss: 2.0838 - val_accuracy: 0.3729\n",
            "Epoch 39/50\n",
            "58/58 [==============================] - 9s 163ms/step - loss: 7.2552e-04 - accuracy: 0.9596 - val_loss: 2.0345 - val_accuracy: 0.3729\n",
            "Epoch 40/50\n",
            "58/58 [==============================] - 9s 164ms/step - loss: 7.3370e-04 - accuracy: 0.9599 - val_loss: 1.9837 - val_accuracy: 0.3680\n",
            "Epoch 41/50\n",
            "58/58 [==============================] - 9s 163ms/step - loss: 5.0194e-04 - accuracy: 0.9591 - val_loss: 2.1246 - val_accuracy: 0.3705\n",
            "Epoch 42/50\n",
            "58/58 [==============================] - 9s 163ms/step - loss: 4.5618e-04 - accuracy: 0.9601 - val_loss: 2.1097 - val_accuracy: 0.3753\n",
            "Epoch 43/50\n",
            "58/58 [==============================] - 9s 164ms/step - loss: 6.5990e-04 - accuracy: 0.9601 - val_loss: 1.9936 - val_accuracy: 0.3680\n",
            "Epoch 44/50\n",
            "58/58 [==============================] - 9s 162ms/step - loss: 5.2348e-04 - accuracy: 0.9601 - val_loss: 2.1044 - val_accuracy: 0.3705\n",
            "Epoch 45/50\n",
            "58/58 [==============================] - 10s 164ms/step - loss: 5.4297e-04 - accuracy: 0.9593 - val_loss: 2.1391 - val_accuracy: 0.3680\n",
            "Epoch 46/50\n",
            "58/58 [==============================] - 9s 163ms/step - loss: 5.2840e-04 - accuracy: 0.9604 - val_loss: 2.0557 - val_accuracy: 0.3753\n",
            "Epoch 47/50\n",
            "58/58 [==============================] - 9s 162ms/step - loss: 4.8737e-04 - accuracy: 0.9617 - val_loss: 2.1276 - val_accuracy: 0.3705\n",
            "Epoch 48/50\n",
            "58/58 [==============================] - 9s 164ms/step - loss: 7.7327e-04 - accuracy: 0.9626 - val_loss: 1.9780 - val_accuracy: 0.3826\n",
            "Epoch 49/50\n",
            "58/58 [==============================] - 9s 164ms/step - loss: 7.8715e-04 - accuracy: 0.9601 - val_loss: 1.9327 - val_accuracy: 0.3753\n",
            "Epoch 50/50\n",
            "58/58 [==============================] - 9s 163ms/step - loss: 6.4427e-04 - accuracy: 0.9607 - val_loss: 2.1184 - val_accuracy: 0.3777\n",
            "13/13 [==============================] - 2s 27ms/step - loss: 2.1184 - accuracy: 0.3777\n",
            "Rendimiento: [2.1184356212615967, 0.37772396206855774]\n"
          ]
        }
      ]
    },
    {
      "cell_type": "markdown",
      "source": [
        "# Verificamos las etiquetas de nuestro X_test"
      ],
      "metadata": {
        "id": "OrsOtdZEicT4"
      }
    },
    {
      "cell_type": "markdown",
      "source": [
        "**Debido a que nuestro X_test fue seleccionado al azar debemos verificar a que etiqueta pertenecen**"
      ],
      "metadata": {
        "id": "eOUrtKrOjLJe"
      }
    },
    {
      "cell_type": "code",
      "source": [
        "#Obtenemos un dataframe pero solo de la parte de test\n",
        "#Hay que ordenarlo porque queda desordenado\n",
        "\n",
        "from tensorflow.keras.preprocessing import image\n",
        "import os\n",
        "\n",
        "direccion_test=[]\n",
        "dataframe_test = []\n",
        "img_comprobacion=[]\n",
        "\n",
        "for i in tqdm(range(len(trainx))):\n",
        "\n",
        "        img_path = os.path.join(train_dir, trainx['image'][i])\n",
        "        \n",
        "        #Check if the image file exists\n",
        "        if not os.path.isfile(img_path):\n",
        "            continue\n",
        "        \n",
        "        img = image.load_img(img_path, target_size=(TARGET_SIZE, TARGET_SIZE, 3))\n",
        "        img = image.img_to_array(img)\n",
        "        img = img / 255\n",
        "\n",
        "        for j in range(len(X_test)):\n",
        "         if np.array_equal(img, X_test[j]):\n",
        "            direccion_test.append(img_path)\n",
        "            dataframe_test.append(trainx.iloc[i])\n",
        "            img_comprobacion.append(img)  #img_comprobacion va igual que dataframe_test\n",
        "            break #Esto es para que no se repita\n",
        "\n",
        "dataframeN_test = pd.DataFrame(dataframe_test) \n",
        "img_comprobacion=np.array(img_comprobacion)\n",
        "\n",
        "#Hay que encontrar donde image_path es igual, ahí encontraremos"
      ],
      "metadata": {
        "colab": {
          "base_uri": "https://localhost:8080/"
        },
        "id": "aZyD4a_9ihXZ",
        "outputId": "0f750191-11d4-4c49-d8bc-b48219cd0e80"
      },
      "execution_count": 11,
      "outputs": [
        {
          "output_type": "stream",
          "name": "stderr",
          "text": [
            "100%|██████████| 12000/12000 [33:44<00:00,  5.93it/s]  \n"
          ]
        }
      ]
    },
    {
      "cell_type": "code",
      "source": [
        "##Con este código nos damos cuenta cómo estan ordenados X_test con respecto a nuestro data frame\n",
        "\n",
        "cuenta=0\n",
        "indice_X_test=[]\n",
        "indice_img_comprobacion=[]\n",
        "\n",
        "for i in range(len(X_test)):\n",
        "    for j in range(len(X_test)):\n",
        "        if np.array_equal(img_comprobacion[j],X_test[i]): #Las ordenamos con respecto a X_test, con eso ordenamos el dataframeN_test\n",
        "            indice_X_test.append(i)\n",
        "            indice_img_comprobacion.append(j)\n",
        "            cuenta=cuenta+1 ##lo lograremos cuando corramos de nuevo el código y coindican las i y j\n",
        "print(cuenta)\n",
        "indice_X_test=np.array(indice_X_test)\n",
        "indice_img_comprobacion=np.array(indice_img_comprobacion)"
      ],
      "metadata": {
        "colab": {
          "base_uri": "https://localhost:8080/"
        },
        "id": "zaFryjHuioqt",
        "outputId": "06816a94-4ca6-4052-c424-ed09f340b187"
      },
      "execution_count": 12,
      "outputs": [
        {
          "output_type": "stream",
          "name": "stdout",
          "text": [
            "413\n"
          ]
        }
      ]
    },
    {
      "cell_type": "code",
      "source": [
        "##Ordenando las imagenes con respecto a X_test, dataframeN_test tiene que quedar ordenado\n",
        "##Nuestros array son img_comprobacion y X_test\n",
        "## Si se logra ordenar, tenemos que ordenar el dataframeN_test\n",
        "\n",
        "df_img_comprobacion_test=[]\n",
        "dataframeNN_test=[]\n",
        "\n",
        "for i in range(len(indice_X_test)):\n",
        "    dato_ordenado=indice_img_comprobacion[i]\n",
        "    df_img_comprobacion_test.append(img_comprobacion[dato_ordenado])\n",
        "    dataframeNN_test.append(dataframeN_test.iloc[dato_ordenado])\n",
        "               \n",
        "df_img_comprobacion_test=np.array(df_img_comprobacion_test)\n",
        "dataframeNN_test = pd.DataFrame(dataframeNN_test) "
      ],
      "metadata": {
        "id": "Z08uSBgJit5V"
      },
      "execution_count": 13,
      "outputs": []
    },
    {
      "cell_type": "code",
      "source": [
        "## Se comprueba que si estan ordenados :)\n",
        "cuenta=0\n",
        "indice_X_test=[]\n",
        "indice_img_comprobacion=[]\n",
        "for i in range(len(X_test)):\n",
        "    for j in range(len(X_test)):\n",
        "        if np.array_equal(df_img_comprobacion_test[j],X_test[i]): #Las ordenamos con respecto a X_test, con eso ordenamos el dataframeN_test\n",
        "            #print(i,j)\n",
        "            cuenta=cuenta+1 ##lo lograremos cuando corramos de nuevo el código y coindican las i y j\n",
        "print(cuenta)"
      ],
      "metadata": {
        "colab": {
          "base_uri": "https://localhost:8080/"
        },
        "id": "C5h7Eyhtrv37",
        "outputId": "36a2e477-7836-434a-9ea7-74f746001b0e"
      },
      "execution_count": 14,
      "outputs": [
        {
          "output_type": "stream",
          "name": "stdout",
          "text": [
            "413\n"
          ]
        }
      ]
    },
    {
      "cell_type": "markdown",
      "source": [
        "# Matriz de confusión"
      ],
      "metadata": {
        "id": "grwcl3rVpXm1"
      }
    },
    {
      "cell_type": "code",
      "source": [
        "#Obtenemos la y_true para la matriz de confusión, esto en formato de nombre\n",
        "\n",
        "#Sacamos la y_true, ya que tenemos el dataframe bueno (dataframeN_test)\n",
        "\n",
        "name = {0: 'complex',\n",
        "        1: 'frog_eye_leaf_spot',\n",
        "        2: 'healthy',\n",
        "        3: 'powdery_mildew',\n",
        "        4: 'rust',\n",
        "        5: 'scab'}\n",
        "\n",
        "threshold = {0: 0.3,\n",
        "             1: 0.3,\n",
        "             2: 0.4,\n",
        "             3: 0.3,\n",
        "             4: 0.3,\n",
        "            5:0.3}\n",
        "y_true=[]\n",
        "\n",
        "for j in  range(len(dataframeNN_test)) :                                 #train_files:  #test files son los de prueba que nos proporcionó kaggle\n",
        "    \n",
        "    #Se carga la imagen del test_file\n",
        "    columnas = dataframeNN_test.iloc[j, :6].values.tolist()\n",
        "    d = []\n",
        "    for i in range(len(columnas)):\n",
        "        if columnas[i] > threshold[i]:\n",
        "            d.append(name[i])\n",
        "            \n",
        "    y_true.append({'image': dataframeNN_test.iloc[j]['image'], 'labels': ' '.join(d)})"
      ],
      "metadata": {
        "id": "rnx5GOnnpagP"
      },
      "execution_count": 15,
      "outputs": []
    },
    {
      "cell_type": "code",
      "source": [
        "y_predict=model.predict(X_test)"
      ],
      "metadata": {
        "colab": {
          "base_uri": "https://localhost:8080/"
        },
        "id": "87NlWKJrpdei",
        "outputId": "4793a979-3267-4662-e115-dee881101f14"
      },
      "execution_count": 16,
      "outputs": [
        {
          "output_type": "stream",
          "name": "stdout",
          "text": [
            "13/13 [==============================] - 0s 25ms/step\n"
          ]
        }
      ]
    },
    {
      "cell_type": "code",
      "source": [
        "name = {0: 'complex',\n",
        "        1: 'frog_eye_leaf_spot',\n",
        "        2: 'healthy',\n",
        "        3: 'powdery_mildew',\n",
        "        4: 'rust',\n",
        "        5: 'scab'}\n",
        "\n",
        "threshold = {0: 0.3,\n",
        "             1: 0.3,\n",
        "             2: 0.4,\n",
        "             3: 0.3,\n",
        "             4: 0.3,\n",
        "            5:0.3}\n",
        "\n",
        "y_predictN=[]\n",
        "\n",
        "for j in  range(len(dataframeNN_test)) :  #train_files:  #test files son los de prueba que nos proporcionó kaggle\n",
        "    \n",
        "    #Se carga la imagen del test_file\n",
        "    columnas = y_predict[j]\n",
        "    d = []\n",
        "    for i in range(len(columnas)):\n",
        "        if columnas[i] > threshold[i]:\n",
        "            d.append(name[i])\n",
        "            \n",
        "    y_predictN.append({'image': dataframeNN_test.iloc[j]['image'], 'labels': ' '.join(d)}) "
      ],
      "metadata": {
        "id": "i-w5Aq4YpfQk"
      },
      "execution_count": 17,
      "outputs": []
    },
    {
      "cell_type": "code",
      "source": [
        "import pandas as pd\n",
        "y_predictdf=pd.DataFrame(y_predictN)\n",
        "y_truedf=pd.DataFrame(y_true)"
      ],
      "metadata": {
        "id": "vFZHvOMvuC0q"
      },
      "execution_count": 18,
      "outputs": []
    },
    {
      "cell_type": "code",
      "source": [
        "y_truedf"
      ],
      "metadata": {
        "colab": {
          "base_uri": "https://localhost:8080/",
          "height": 423
        },
        "id": "8qzhiyk7u6_A",
        "outputId": "3ab77d06-b624-480a-bf79-27195e8f9308"
      },
      "execution_count": 19,
      "outputs": [
        {
          "output_type": "execute_result",
          "data": {
            "text/plain": [
              "                    image              labels\n",
              "0    8d3d8239cdcd08f5.jpg             healthy\n",
              "1    915f5a3ee086c13d.jpg             healthy\n",
              "2    950207caf3f2e1d9.jpg  frog_eye_leaf_spot\n",
              "3    98ffca83d33490a9.jpg      powdery_mildew\n",
              "4    8fe3d3c9130469b6.jpg                scab\n",
              "..                    ...                 ...\n",
              "408  91ab6ae12db59156.jpg             healthy\n",
              "409  89287577168fe721.jpg             healthy\n",
              "410  90c790666f674f58.jpg             healthy\n",
              "411  9997cd7c15b87092.jpg      powdery_mildew\n",
              "412  98f2cde2e0e5e3c0.jpg                rust\n",
              "\n",
              "[413 rows x 2 columns]"
            ],
            "text/html": [
              "\n",
              "  <div id=\"df-ca106d02-fc3c-4907-bace-0e5823eb2f1d\">\n",
              "    <div class=\"colab-df-container\">\n",
              "      <div>\n",
              "<style scoped>\n",
              "    .dataframe tbody tr th:only-of-type {\n",
              "        vertical-align: middle;\n",
              "    }\n",
              "\n",
              "    .dataframe tbody tr th {\n",
              "        vertical-align: top;\n",
              "    }\n",
              "\n",
              "    .dataframe thead th {\n",
              "        text-align: right;\n",
              "    }\n",
              "</style>\n",
              "<table border=\"1\" class=\"dataframe\">\n",
              "  <thead>\n",
              "    <tr style=\"text-align: right;\">\n",
              "      <th></th>\n",
              "      <th>image</th>\n",
              "      <th>labels</th>\n",
              "    </tr>\n",
              "  </thead>\n",
              "  <tbody>\n",
              "    <tr>\n",
              "      <th>0</th>\n",
              "      <td>8d3d8239cdcd08f5.jpg</td>\n",
              "      <td>healthy</td>\n",
              "    </tr>\n",
              "    <tr>\n",
              "      <th>1</th>\n",
              "      <td>915f5a3ee086c13d.jpg</td>\n",
              "      <td>healthy</td>\n",
              "    </tr>\n",
              "    <tr>\n",
              "      <th>2</th>\n",
              "      <td>950207caf3f2e1d9.jpg</td>\n",
              "      <td>frog_eye_leaf_spot</td>\n",
              "    </tr>\n",
              "    <tr>\n",
              "      <th>3</th>\n",
              "      <td>98ffca83d33490a9.jpg</td>\n",
              "      <td>powdery_mildew</td>\n",
              "    </tr>\n",
              "    <tr>\n",
              "      <th>4</th>\n",
              "      <td>8fe3d3c9130469b6.jpg</td>\n",
              "      <td>scab</td>\n",
              "    </tr>\n",
              "    <tr>\n",
              "      <th>...</th>\n",
              "      <td>...</td>\n",
              "      <td>...</td>\n",
              "    </tr>\n",
              "    <tr>\n",
              "      <th>408</th>\n",
              "      <td>91ab6ae12db59156.jpg</td>\n",
              "      <td>healthy</td>\n",
              "    </tr>\n",
              "    <tr>\n",
              "      <th>409</th>\n",
              "      <td>89287577168fe721.jpg</td>\n",
              "      <td>healthy</td>\n",
              "    </tr>\n",
              "    <tr>\n",
              "      <th>410</th>\n",
              "      <td>90c790666f674f58.jpg</td>\n",
              "      <td>healthy</td>\n",
              "    </tr>\n",
              "    <tr>\n",
              "      <th>411</th>\n",
              "      <td>9997cd7c15b87092.jpg</td>\n",
              "      <td>powdery_mildew</td>\n",
              "    </tr>\n",
              "    <tr>\n",
              "      <th>412</th>\n",
              "      <td>98f2cde2e0e5e3c0.jpg</td>\n",
              "      <td>rust</td>\n",
              "    </tr>\n",
              "  </tbody>\n",
              "</table>\n",
              "<p>413 rows × 2 columns</p>\n",
              "</div>\n",
              "      <button class=\"colab-df-convert\" onclick=\"convertToInteractive('df-ca106d02-fc3c-4907-bace-0e5823eb2f1d')\"\n",
              "              title=\"Convert this dataframe to an interactive table.\"\n",
              "              style=\"display:none;\">\n",
              "        \n",
              "  <svg xmlns=\"http://www.w3.org/2000/svg\" height=\"24px\"viewBox=\"0 0 24 24\"\n",
              "       width=\"24px\">\n",
              "    <path d=\"M0 0h24v24H0V0z\" fill=\"none\"/>\n",
              "    <path d=\"M18.56 5.44l.94 2.06.94-2.06 2.06-.94-2.06-.94-.94-2.06-.94 2.06-2.06.94zm-11 1L8.5 8.5l.94-2.06 2.06-.94-2.06-.94L8.5 2.5l-.94 2.06-2.06.94zm10 10l.94 2.06.94-2.06 2.06-.94-2.06-.94-.94-2.06-.94 2.06-2.06.94z\"/><path d=\"M17.41 7.96l-1.37-1.37c-.4-.4-.92-.59-1.43-.59-.52 0-1.04.2-1.43.59L10.3 9.45l-7.72 7.72c-.78.78-.78 2.05 0 2.83L4 21.41c.39.39.9.59 1.41.59.51 0 1.02-.2 1.41-.59l7.78-7.78 2.81-2.81c.8-.78.8-2.07 0-2.86zM5.41 20L4 18.59l7.72-7.72 1.47 1.35L5.41 20z\"/>\n",
              "  </svg>\n",
              "      </button>\n",
              "      \n",
              "  <style>\n",
              "    .colab-df-container {\n",
              "      display:flex;\n",
              "      flex-wrap:wrap;\n",
              "      gap: 12px;\n",
              "    }\n",
              "\n",
              "    .colab-df-convert {\n",
              "      background-color: #E8F0FE;\n",
              "      border: none;\n",
              "      border-radius: 50%;\n",
              "      cursor: pointer;\n",
              "      display: none;\n",
              "      fill: #1967D2;\n",
              "      height: 32px;\n",
              "      padding: 0 0 0 0;\n",
              "      width: 32px;\n",
              "    }\n",
              "\n",
              "    .colab-df-convert:hover {\n",
              "      background-color: #E2EBFA;\n",
              "      box-shadow: 0px 1px 2px rgba(60, 64, 67, 0.3), 0px 1px 3px 1px rgba(60, 64, 67, 0.15);\n",
              "      fill: #174EA6;\n",
              "    }\n",
              "\n",
              "    [theme=dark] .colab-df-convert {\n",
              "      background-color: #3B4455;\n",
              "      fill: #D2E3FC;\n",
              "    }\n",
              "\n",
              "    [theme=dark] .colab-df-convert:hover {\n",
              "      background-color: #434B5C;\n",
              "      box-shadow: 0px 1px 3px 1px rgba(0, 0, 0, 0.15);\n",
              "      filter: drop-shadow(0px 1px 2px rgba(0, 0, 0, 0.3));\n",
              "      fill: #FFFFFF;\n",
              "    }\n",
              "  </style>\n",
              "\n",
              "      <script>\n",
              "        const buttonEl =\n",
              "          document.querySelector('#df-ca106d02-fc3c-4907-bace-0e5823eb2f1d button.colab-df-convert');\n",
              "        buttonEl.style.display =\n",
              "          google.colab.kernel.accessAllowed ? 'block' : 'none';\n",
              "\n",
              "        async function convertToInteractive(key) {\n",
              "          const element = document.querySelector('#df-ca106d02-fc3c-4907-bace-0e5823eb2f1d');\n",
              "          const dataTable =\n",
              "            await google.colab.kernel.invokeFunction('convertToInteractive',\n",
              "                                                     [key], {});\n",
              "          if (!dataTable) return;\n",
              "\n",
              "          const docLinkHtml = 'Like what you see? Visit the ' +\n",
              "            '<a target=\"_blank\" href=https://colab.research.google.com/notebooks/data_table.ipynb>data table notebook</a>'\n",
              "            + ' to learn more about interactive tables.';\n",
              "          element.innerHTML = '';\n",
              "          dataTable['output_type'] = 'display_data';\n",
              "          await google.colab.output.renderOutput(dataTable, element);\n",
              "          const docLink = document.createElement('div');\n",
              "          docLink.innerHTML = docLinkHtml;\n",
              "          element.appendChild(docLink);\n",
              "        }\n",
              "      </script>\n",
              "    </div>\n",
              "  </div>\n",
              "  "
            ]
          },
          "metadata": {},
          "execution_count": 19
        }
      ]
    },
    {
      "cell_type": "code",
      "source": [
        "y_predictdf"
      ],
      "metadata": {
        "colab": {
          "base_uri": "https://localhost:8080/",
          "height": 423
        },
        "id": "M-556s5luso0",
        "outputId": "823764d0-b231-49c3-ae78-04d8c4865840"
      },
      "execution_count": 20,
      "outputs": [
        {
          "output_type": "execute_result",
          "data": {
            "text/plain": [
              "                    image                      labels\n",
              "0    8d3d8239cdcd08f5.jpg          frog_eye_leaf_spot\n",
              "1    915f5a3ee086c13d.jpg             complex healthy\n",
              "2    950207caf3f2e1d9.jpg                complex scab\n",
              "3    98ffca83d33490a9.jpg                        rust\n",
              "4    8fe3d3c9130469b6.jpg                   rust scab\n",
              "..                    ...                         ...\n",
              "408  91ab6ae12db59156.jpg  frog_eye_leaf_spot healthy\n",
              "409  89287577168fe721.jpg          frog_eye_leaf_spot\n",
              "410  90c790666f674f58.jpg          frog_eye_leaf_spot\n",
              "411  9997cd7c15b87092.jpg                        scab\n",
              "412  98f2cde2e0e5e3c0.jpg                        rust\n",
              "\n",
              "[413 rows x 2 columns]"
            ],
            "text/html": [
              "\n",
              "  <div id=\"df-1dab3d7d-7e8c-4bb9-a73a-1e5b0b525694\">\n",
              "    <div class=\"colab-df-container\">\n",
              "      <div>\n",
              "<style scoped>\n",
              "    .dataframe tbody tr th:only-of-type {\n",
              "        vertical-align: middle;\n",
              "    }\n",
              "\n",
              "    .dataframe tbody tr th {\n",
              "        vertical-align: top;\n",
              "    }\n",
              "\n",
              "    .dataframe thead th {\n",
              "        text-align: right;\n",
              "    }\n",
              "</style>\n",
              "<table border=\"1\" class=\"dataframe\">\n",
              "  <thead>\n",
              "    <tr style=\"text-align: right;\">\n",
              "      <th></th>\n",
              "      <th>image</th>\n",
              "      <th>labels</th>\n",
              "    </tr>\n",
              "  </thead>\n",
              "  <tbody>\n",
              "    <tr>\n",
              "      <th>0</th>\n",
              "      <td>8d3d8239cdcd08f5.jpg</td>\n",
              "      <td>frog_eye_leaf_spot</td>\n",
              "    </tr>\n",
              "    <tr>\n",
              "      <th>1</th>\n",
              "      <td>915f5a3ee086c13d.jpg</td>\n",
              "      <td>complex healthy</td>\n",
              "    </tr>\n",
              "    <tr>\n",
              "      <th>2</th>\n",
              "      <td>950207caf3f2e1d9.jpg</td>\n",
              "      <td>complex scab</td>\n",
              "    </tr>\n",
              "    <tr>\n",
              "      <th>3</th>\n",
              "      <td>98ffca83d33490a9.jpg</td>\n",
              "      <td>rust</td>\n",
              "    </tr>\n",
              "    <tr>\n",
              "      <th>4</th>\n",
              "      <td>8fe3d3c9130469b6.jpg</td>\n",
              "      <td>rust scab</td>\n",
              "    </tr>\n",
              "    <tr>\n",
              "      <th>...</th>\n",
              "      <td>...</td>\n",
              "      <td>...</td>\n",
              "    </tr>\n",
              "    <tr>\n",
              "      <th>408</th>\n",
              "      <td>91ab6ae12db59156.jpg</td>\n",
              "      <td>frog_eye_leaf_spot healthy</td>\n",
              "    </tr>\n",
              "    <tr>\n",
              "      <th>409</th>\n",
              "      <td>89287577168fe721.jpg</td>\n",
              "      <td>frog_eye_leaf_spot</td>\n",
              "    </tr>\n",
              "    <tr>\n",
              "      <th>410</th>\n",
              "      <td>90c790666f674f58.jpg</td>\n",
              "      <td>frog_eye_leaf_spot</td>\n",
              "    </tr>\n",
              "    <tr>\n",
              "      <th>411</th>\n",
              "      <td>9997cd7c15b87092.jpg</td>\n",
              "      <td>scab</td>\n",
              "    </tr>\n",
              "    <tr>\n",
              "      <th>412</th>\n",
              "      <td>98f2cde2e0e5e3c0.jpg</td>\n",
              "      <td>rust</td>\n",
              "    </tr>\n",
              "  </tbody>\n",
              "</table>\n",
              "<p>413 rows × 2 columns</p>\n",
              "</div>\n",
              "      <button class=\"colab-df-convert\" onclick=\"convertToInteractive('df-1dab3d7d-7e8c-4bb9-a73a-1e5b0b525694')\"\n",
              "              title=\"Convert this dataframe to an interactive table.\"\n",
              "              style=\"display:none;\">\n",
              "        \n",
              "  <svg xmlns=\"http://www.w3.org/2000/svg\" height=\"24px\"viewBox=\"0 0 24 24\"\n",
              "       width=\"24px\">\n",
              "    <path d=\"M0 0h24v24H0V0z\" fill=\"none\"/>\n",
              "    <path d=\"M18.56 5.44l.94 2.06.94-2.06 2.06-.94-2.06-.94-.94-2.06-.94 2.06-2.06.94zm-11 1L8.5 8.5l.94-2.06 2.06-.94-2.06-.94L8.5 2.5l-.94 2.06-2.06.94zm10 10l.94 2.06.94-2.06 2.06-.94-2.06-.94-.94-2.06-.94 2.06-2.06.94z\"/><path d=\"M17.41 7.96l-1.37-1.37c-.4-.4-.92-.59-1.43-.59-.52 0-1.04.2-1.43.59L10.3 9.45l-7.72 7.72c-.78.78-.78 2.05 0 2.83L4 21.41c.39.39.9.59 1.41.59.51 0 1.02-.2 1.41-.59l7.78-7.78 2.81-2.81c.8-.78.8-2.07 0-2.86zM5.41 20L4 18.59l7.72-7.72 1.47 1.35L5.41 20z\"/>\n",
              "  </svg>\n",
              "      </button>\n",
              "      \n",
              "  <style>\n",
              "    .colab-df-container {\n",
              "      display:flex;\n",
              "      flex-wrap:wrap;\n",
              "      gap: 12px;\n",
              "    }\n",
              "\n",
              "    .colab-df-convert {\n",
              "      background-color: #E8F0FE;\n",
              "      border: none;\n",
              "      border-radius: 50%;\n",
              "      cursor: pointer;\n",
              "      display: none;\n",
              "      fill: #1967D2;\n",
              "      height: 32px;\n",
              "      padding: 0 0 0 0;\n",
              "      width: 32px;\n",
              "    }\n",
              "\n",
              "    .colab-df-convert:hover {\n",
              "      background-color: #E2EBFA;\n",
              "      box-shadow: 0px 1px 2px rgba(60, 64, 67, 0.3), 0px 1px 3px 1px rgba(60, 64, 67, 0.15);\n",
              "      fill: #174EA6;\n",
              "    }\n",
              "\n",
              "    [theme=dark] .colab-df-convert {\n",
              "      background-color: #3B4455;\n",
              "      fill: #D2E3FC;\n",
              "    }\n",
              "\n",
              "    [theme=dark] .colab-df-convert:hover {\n",
              "      background-color: #434B5C;\n",
              "      box-shadow: 0px 1px 3px 1px rgba(0, 0, 0, 0.15);\n",
              "      filter: drop-shadow(0px 1px 2px rgba(0, 0, 0, 0.3));\n",
              "      fill: #FFFFFF;\n",
              "    }\n",
              "  </style>\n",
              "\n",
              "      <script>\n",
              "        const buttonEl =\n",
              "          document.querySelector('#df-1dab3d7d-7e8c-4bb9-a73a-1e5b0b525694 button.colab-df-convert');\n",
              "        buttonEl.style.display =\n",
              "          google.colab.kernel.accessAllowed ? 'block' : 'none';\n",
              "\n",
              "        async function convertToInteractive(key) {\n",
              "          const element = document.querySelector('#df-1dab3d7d-7e8c-4bb9-a73a-1e5b0b525694');\n",
              "          const dataTable =\n",
              "            await google.colab.kernel.invokeFunction('convertToInteractive',\n",
              "                                                     [key], {});\n",
              "          if (!dataTable) return;\n",
              "\n",
              "          const docLinkHtml = 'Like what you see? Visit the ' +\n",
              "            '<a target=\"_blank\" href=https://colab.research.google.com/notebooks/data_table.ipynb>data table notebook</a>'\n",
              "            + ' to learn more about interactive tables.';\n",
              "          element.innerHTML = '';\n",
              "          dataTable['output_type'] = 'display_data';\n",
              "          await google.colab.output.renderOutput(dataTable, element);\n",
              "          const docLink = document.createElement('div');\n",
              "          docLink.innerHTML = docLinkHtml;\n",
              "          element.appendChild(docLink);\n",
              "        }\n",
              "      </script>\n",
              "    </div>\n",
              "  </div>\n",
              "  "
            ]
          },
          "metadata": {},
          "execution_count": 20
        }
      ]
    },
    {
      "cell_type": "code",
      "source": [
        "import numpy as np\n",
        "from sklearn.metrics import confusion_matrix\n",
        "\n",
        "# Obtén las etiquetas verdaderas y predichas en formato de lista\n",
        "y_truecm = [data['labels'] for data in y_true]\n",
        "y_predcm = [data['labels'] for data in y_predictN]\n",
        "\n",
        "# Obtén todas las clases únicas presentes en las etiquetas verdaderas y predichas\n",
        "#classes = np.unique(np.concatenate((y_truecm, y_predcm)))\n",
        "classes=np.unique(y_truecm)\n",
        "# Crea la matriz de confusión\n",
        "cm = confusion_matrix(y_truecm, y_predcm, labels=classes)"
      ],
      "metadata": {
        "id": "spT-MnIHprmm"
      },
      "execution_count": 23,
      "outputs": []
    },
    {
      "cell_type": "code",
      "source": [
        "import numpy as np\n",
        "import matplotlib.pyplot as plt\n",
        "import seaborn as sns\n",
        "\n",
        "# Configura la figura y los ejes\n",
        "plt.figure(figsize=(10, 10))\n",
        "sns.set(font_scale=1)  # Ajusta el tamaño de la fuente para las etiquetas de los ejes\n",
        "sns.heatmap(cm, annot=True, cmap='Greens', fmt='.2f', xticklabels=classes, yticklabels=classes)\n",
        "\n",
        "# Configura los títulos y las etiquetas de los ejes\n",
        "plt.title('Matriz de Confusión')\n",
        "plt.xlabel('Etiqueta Predicha')\n",
        "plt.ylabel('Etiqueta Verdadera')\n",
        "\n",
        "# Muestra la gráfica\n",
        "plt.show()"
      ],
      "metadata": {
        "colab": {
          "base_uri": "https://localhost:8080/",
          "height": 1000
        },
        "id": "gwHDhqzTptaL",
        "outputId": "a4ac6813-983d-4a03-ea2a-3f68db567090"
      },
      "execution_count": 24,
      "outputs": [
        {
          "output_type": "display_data",
          "data": {
            "text/plain": [
              "<Figure size 1000x1000 with 2 Axes>"
            ],
            "image/png": "[encoded data removed]"
          },
          "metadata": {}
        }
      ]
    }
  ]
}