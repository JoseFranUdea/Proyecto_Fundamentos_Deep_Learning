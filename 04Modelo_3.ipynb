{
  "nbformat": 4,
  "nbformat_minor": 0,
  "metadata": {
    "colab": {
      "provenance": [],
      "gpuType": "T4",
      "mount_file_id": "125zeCGJigAYonvzC4Lqr6kEZvxtkbVV7",
      "authorship_tag": "ABX9TyM7Ci8gWiHVvjfv673aL9eg",
      "include_colab_link": true
    },
    "kernelspec": {
      "name": "python3",
      "display_name": "Python 3"
    },
    "language_info": {
      "name": "python"
    },
    "accelerator": "GPU"
  },
  "cells": [
    {
      "cell_type": "markdown",
      "metadata": {
        "id": "view-in-github",
        "colab_type": "text"
      },
      "source": [
        "<a href=\"https://colab.research.google.com/github/JoseFranUdea/Proyecto_Fundamentos_Deep_Learning/blob/main/Modelo_03.ipynb\" target=\"_parent\"><img src=\"https://colab.research.google.com/assets/colab-badge.svg\" alt=\"Open In Colab\"/></a>"
      ]
    },
    {
      "cell_type": "markdown",
      "source": [
        "# Módulos a utilizar"
      ],
      "metadata": {
        "id": "Tkcd_eQLc1Fo"
      }
    },
    {
      "cell_type": "code",
      "source": [
        "from tensorflow.keras.utils import to_categorical\n",
        "import numpy as np\n",
        "from glob import glob\n",
        "import pandas as pd\n",
        "import matplotlib.pyplot as plt\n",
        "from sklearn.model_selection import train_test_split\n",
        "from sklearn.preprocessing import MultiLabelBinarizer\n",
        "from skimage import exposure\n",
        "import cv2 as cv\n",
        "import os\n",
        "import itertools\n",
        "import seaborn as sns\n",
        "import os\n",
        "import multiprocessing as mproc\n",
        "from keras.preprocessing import image\n",
        "from tensorflow.keras.preprocessing import image\n",
        "import os\n",
        "from matplotlib.pyplot import figure\n",
        "\n",
        "from tqdm import tqdm\n",
        "%matplotlib inline\n",
        "\n",
        "print(\"ejecutado\")"
      ],
      "metadata": {
        "colab": {
          "base_uri": "https://localhost:8080/"
        },
        "id": "5ylK48qLgPr4",
        "outputId": "35c9f280-b652-43a8-a537-bd20cea2d7c6"
      },
      "execution_count": 1,
      "outputs": [
        {
          "output_type": "stream",
          "name": "stdout",
          "text": [
            "ejecutado\n"
          ]
        }
      ]
    },
    {
      "cell_type": "code",
      "source": [
        "#Uso de GPU\n",
        "import tensorflow as tf\n",
        "\n",
        "gpucheck = tf.config.experimental.list_physical_devices('GPU')\n",
        "for gpu in gpucheck:\n",
        "    print(\"Name:\", gpu.name, \"  Type:\", gpu.device_type)\n",
        "tf.test.is_gpu_available()"
      ],
      "metadata": {
        "colab": {
          "base_uri": "https://localhost:8080/"
        },
        "id": "B_gzCiPwgpnh",
        "outputId": "5196402d-6c02-4305-95be-196d75856295"
      },
      "execution_count": 2,
      "outputs": [
        {
          "output_type": "stream",
          "name": "stderr",
          "text": [
            "WARNING:tensorflow:From <ipython-input-2-3d1cf1f298ed>:7: is_gpu_available (from tensorflow.python.framework.test_util) is deprecated and will be removed in a future version.\n",
            "Instructions for updating:\n",
            "Use `tf.config.list_physical_devices('GPU')` instead.\n"
          ]
        },
        {
          "output_type": "stream",
          "name": "stdout",
          "text": [
            "Name: /physical_device:GPU:0   Type: GPU\n"
          ]
        },
        {
          "output_type": "execute_result",
          "data": {
            "text/plain": [
              "True"
            ]
          },
          "metadata": {},
          "execution_count": 2
        }
      ]
    },
    {
      "cell_type": "code",
      "source": [
        "from google.colab import drive\n",
        "import shutil\n",
        "drive.mount(\"/content/drive\", force_remount=True)"
      ],
      "metadata": {
        "colab": {
          "base_uri": "https://localhost:8080/"
        },
        "id": "Rthc0YW6f3NC",
        "outputId": "23e2f9a4-8f25-4cb7-a89e-40edb6dc9ced"
      },
      "execution_count": 3,
      "outputs": [
        {
          "output_type": "stream",
          "name": "stdout",
          "text": [
            "Mounted at /content/drive\n"
          ]
        }
      ]
    },
    {
      "cell_type": "code",
      "source": [
        "#Cargar variables\n",
        "\n",
        "import pickle\n",
        "# Cargar las variables desde el archivo\n",
        "with open('/content/drive/MyDrive/variables.pkl', 'rb') as f:\n",
        "    X,Y,Y64,trainxNdf,trainx,train_dir,test_dir,df,train_files,train_image,trainxN,direccion,TARGET_SIZE,BATCH_SIZE,EPOCHS,DATA_LIMIT = pickle.load(f)\n"
      ],
      "metadata": {
        "id": "GWBDsL06c80D"
      },
      "execution_count": 4,
      "outputs": []
    },
    {
      "cell_type": "markdown",
      "source": [
        "**Comprobamos las dimensiones de las imágenes**"
      ],
      "metadata": {
        "id": "N-OfK4BLhKgo"
      }
    },
    {
      "cell_type": "code",
      "source": [
        "X.shape , Y64.shape, trainxNdf.shape "
      ],
      "metadata": {
        "colab": {
          "base_uri": "https://localhost:8080/"
        },
        "id": "ctHBRl_RhPJ7",
        "outputId": "bd9bbe4e-da10-4472-c1b4-93e1510ee822"
      },
      "execution_count": 5,
      "outputs": [
        {
          "output_type": "execute_result",
          "data": {
            "text/plain": [
              "((4125, 128, 128, 3), (4125, 6), (4125, 7))"
            ]
          },
          "metadata": {},
          "execution_count": 5
        }
      ]
    },
    {
      "cell_type": "markdown",
      "source": [
        "**Dividimos nuestros datos**"
      ],
      "metadata": {
        "id": "NCT_spRUhZJg"
      }
    },
    {
      "cell_type": "code",
      "source": [
        "X_train, X_test, y_train, y_test = train_test_split(X, Y64, test_size=0.1)"
      ],
      "metadata": {
        "id": "RrQxl2m8hcNV"
      },
      "execution_count": 6,
      "outputs": []
    },
    {
      "cell_type": "code",
      "source": [
        "#Comprobamos el tamaño de de nuestros datos de test\n",
        "X_test.shape , y_test.shape"
      ],
      "metadata": {
        "colab": {
          "base_uri": "https://localhost:8080/"
        },
        "id": "DTHX2v-AheKX",
        "outputId": "86a4b619-539f-4205-e35f-0e0445541d6a"
      },
      "execution_count": 7,
      "outputs": [
        {
          "output_type": "execute_result",
          "data": {
            "text/plain": [
              "((413, 128, 128, 3), (413, 6))"
            ]
          },
          "metadata": {},
          "execution_count": 7
        }
      ]
    },
    {
      "cell_type": "markdown",
      "source": [],
      "metadata": {
        "id": "O0_0QaPIhmgZ"
      }
    },
    {
      "cell_type": "markdown",
      "source": [
        "# Definimos la estructura de nuestro Modelo_1"
      ],
      "metadata": {
        "id": "JvH6paBHhnir"
      }
    },
    {
      "cell_type": "code",
      "source": [
        "\n",
        "from keras.models import Sequential\n",
        "from keras.layers import Dense, Dropout, Flatten\n",
        "from keras.layers import Conv2D, MaxPooling2D\n",
        "\n",
        "model = Sequential()\n",
        "model.add(Conv2D(filters=16, kernel_size=(5, 5), activation=\"relu\", input_shape=(TARGET_SIZE,TARGET_SIZE,3)))\n",
        "model.add(MaxPooling2D(pool_size=(2, 2)))\n",
        "model.add(Dropout(0.25))\n",
        "model.add(Conv2D(filters=32, kernel_size=(5, 5), activation='relu'))\n",
        "model.add(MaxPooling2D(pool_size=(2, 2)))\n",
        "model.add(Dropout(0.25))\n",
        "model.add(Conv2D(filters=64, kernel_size=(5, 5), activation=\"relu\"))\n",
        "model.add(MaxPooling2D(pool_size=(2, 2)))\n",
        "model.add(Dropout(0.25))\n",
        "model.add(Conv2D(filters=64, kernel_size=(5, 5), activation='relu'))\n",
        "model.add(MaxPooling2D(pool_size=(2, 2)))\n",
        "model.add(Dropout(0.25))\n",
        "model.add(Flatten())\n",
        "model.add(Dense(128, activation='relu'))\n",
        "model.add(Dropout(0.25))\n",
        "model.add(Dense(64, activation='relu'))\n",
        "model.add(Dropout(0.25))\n",
        "model.add(Dense(6, activation='sigmoid'))\n",
        "model.compile(optimizer='adam', loss='binary_crossentropy', metrics=['accuracy'])\n",
        "\n",
        "model.summary()\n"
      ],
      "metadata": {
        "colab": {
          "base_uri": "https://localhost:8080/"
        },
        "id": "MEH1owwGhtUt",
        "outputId": "b360ce44-fae4-498b-ac9c-97896bd9f1e6"
      },
      "execution_count": 11,
      "outputs": [
        {
          "output_type": "stream",
          "name": "stdout",
          "text": [
            "Model: \"sequential_1\"\n",
            "_________________________________________________________________\n",
            " Layer (type)                Output Shape              Param #   \n",
            "=================================================================\n",
            " conv2d_4 (Conv2D)           (None, 124, 124, 16)      1216      \n",
            "                                                                 \n",
            " max_pooling2d_4 (MaxPooling  (None, 62, 62, 16)       0         \n",
            " 2D)                                                             \n",
            "                                                                 \n",
            " dropout_6 (Dropout)         (None, 62, 62, 16)        0         \n",
            "                                                                 \n",
            " conv2d_5 (Conv2D)           (None, 58, 58, 32)        12832     \n",
            "                                                                 \n",
            " max_pooling2d_5 (MaxPooling  (None, 29, 29, 32)       0         \n",
            " 2D)                                                             \n",
            "                                                                 \n",
            " dropout_7 (Dropout)         (None, 29, 29, 32)        0         \n",
            "                                                                 \n",
            " conv2d_6 (Conv2D)           (None, 25, 25, 64)        51264     \n",
            "                                                                 \n",
            " max_pooling2d_6 (MaxPooling  (None, 12, 12, 64)       0         \n",
            " 2D)                                                             \n",
            "                                                                 \n",
            " dropout_8 (Dropout)         (None, 12, 12, 64)        0         \n",
            "                                                                 \n",
            " conv2d_7 (Conv2D)           (None, 8, 8, 64)          102464    \n",
            "                                                                 \n",
            " max_pooling2d_7 (MaxPooling  (None, 4, 4, 64)         0         \n",
            " 2D)                                                             \n",
            "                                                                 \n",
            " dropout_9 (Dropout)         (None, 4, 4, 64)          0         \n",
            "                                                                 \n",
            " flatten_1 (Flatten)         (None, 1024)              0         \n",
            "                                                                 \n",
            " dense_3 (Dense)             (None, 128)               131200    \n",
            "                                                                 \n",
            " dropout_10 (Dropout)        (None, 128)               0         \n",
            "                                                                 \n",
            " dense_4 (Dense)             (None, 64)                8256      \n",
            "                                                                 \n",
            " dropout_11 (Dropout)        (None, 64)                0         \n",
            "                                                                 \n",
            " dense_5 (Dense)             (None, 6)                 390       \n",
            "                                                                 \n",
            "=================================================================\n",
            "Total params: 307,622\n",
            "Trainable params: 307,622\n",
            "Non-trainable params: 0\n",
            "_________________________________________________________________\n"
          ]
        }
      ]
    },
    {
      "cell_type": "markdown",
      "source": [
        "**Entrenamos nuestro Modelo_1**"
      ],
      "metadata": {
        "id": "HQQLjEMWh6-n"
      }
    },
    {
      "cell_type": "code",
      "source": [
        "EPOCHS=50"
      ],
      "metadata": {
        "id": "Eg_jDPjhiMo7"
      },
      "execution_count": 9,
      "outputs": []
    },
    {
      "cell_type": "code",
      "source": [
        "model.fit(X_train, y_train, epochs=EPOCHS, validation_data=(X_test, y_test), batch_size=BATCH_SIZE)\n",
        "score = model.evaluate(X_test, y_test)\n",
        "print(\"Rendimiento:\", score)"
      ],
      "metadata": {
        "colab": {
          "base_uri": "https://localhost:8080/"
        },
        "id": "c23oJIuIh_IH",
        "outputId": "8c13e806-33e6-4261-c30a-a45c1dc08b33"
      },
      "execution_count": 12,
      "outputs": [
        {
          "output_type": "stream",
          "name": "stdout",
          "text": [
            "Epoch 1/50\n",
            "58/58 [==============================] - 5s 37ms/step - loss: 0.4816 - accuracy: 0.2562 - val_loss: 0.5088 - val_accuracy: 0.2833\n",
            "Epoch 2/50\n",
            "58/58 [==============================] - 2s 31ms/step - loss: 0.4568 - accuracy: 0.2697 - val_loss: 0.4805 - val_accuracy: 0.2833\n",
            "Epoch 3/50\n",
            "58/58 [==============================] - 2s 31ms/step - loss: 0.4520 - accuracy: 0.2861 - val_loss: 0.4810 - val_accuracy: 0.2833\n",
            "Epoch 4/50\n",
            "58/58 [==============================] - 2s 33ms/step - loss: 0.4470 - accuracy: 0.2888 - val_loss: 0.4467 - val_accuracy: 0.2954\n",
            "Epoch 5/50\n",
            "58/58 [==============================] - 2s 33ms/step - loss: 0.4342 - accuracy: 0.3117 - val_loss: 0.4418 - val_accuracy: 0.3293\n",
            "Epoch 6/50\n",
            "58/58 [==============================] - 2s 29ms/step - loss: 0.4319 - accuracy: 0.3262 - val_loss: 0.4145 - val_accuracy: 0.3535\n",
            "Epoch 7/50\n",
            "58/58 [==============================] - 2s 30ms/step - loss: 0.4178 - accuracy: 0.3591 - val_loss: 0.4211 - val_accuracy: 0.3729\n",
            "Epoch 8/50\n",
            "58/58 [==============================] - 2s 31ms/step - loss: 0.4096 - accuracy: 0.3720 - val_loss: 0.4293 - val_accuracy: 0.3826\n",
            "Epoch 9/50\n",
            "58/58 [==============================] - 2s 31ms/step - loss: 0.4143 - accuracy: 0.3650 - val_loss: 0.4107 - val_accuracy: 0.3971\n",
            "Epoch 10/50\n",
            "58/58 [==============================] - 2s 30ms/step - loss: 0.4008 - accuracy: 0.3922 - val_loss: 0.3864 - val_accuracy: 0.4044\n",
            "Epoch 11/50\n",
            "58/58 [==============================] - 2s 32ms/step - loss: 0.4006 - accuracy: 0.4057 - val_loss: 0.3986 - val_accuracy: 0.4140\n",
            "Epoch 12/50\n",
            "58/58 [==============================] - 2s 31ms/step - loss: 0.3953 - accuracy: 0.4181 - val_loss: 0.3972 - val_accuracy: 0.4334\n",
            "Epoch 13/50\n",
            "58/58 [==============================] - 2s 31ms/step - loss: 0.3893 - accuracy: 0.4337 - val_loss: 0.3967 - val_accuracy: 0.4286\n",
            "Epoch 14/50\n",
            "58/58 [==============================] - 2s 31ms/step - loss: 0.3819 - accuracy: 0.4421 - val_loss: 0.3706 - val_accuracy: 0.4722\n",
            "Epoch 15/50\n",
            "58/58 [==============================] - 2s 30ms/step - loss: 0.3822 - accuracy: 0.4402 - val_loss: 0.3714 - val_accuracy: 0.4939\n",
            "Epoch 16/50\n",
            "58/58 [==============================] - 2s 31ms/step - loss: 0.3785 - accuracy: 0.4467 - val_loss: 0.3712 - val_accuracy: 0.4867\n",
            "Epoch 17/50\n",
            "58/58 [==============================] - 2s 30ms/step - loss: 0.3766 - accuracy: 0.4496 - val_loss: 0.3663 - val_accuracy: 0.4600\n",
            "Epoch 18/50\n",
            "58/58 [==============================] - 2s 30ms/step - loss: 0.3690 - accuracy: 0.4671 - val_loss: 0.3629 - val_accuracy: 0.5085\n",
            "Epoch 19/50\n",
            "58/58 [==============================] - 2s 33ms/step - loss: 0.3654 - accuracy: 0.4704 - val_loss: 0.3604 - val_accuracy: 0.5157\n",
            "Epoch 20/50\n",
            "58/58 [==============================] - 2s 32ms/step - loss: 0.3581 - accuracy: 0.4838 - val_loss: 0.3705 - val_accuracy: 0.4673\n",
            "Epoch 21/50\n",
            "58/58 [==============================] - 2s 32ms/step - loss: 0.3610 - accuracy: 0.4949 - val_loss: 0.3574 - val_accuracy: 0.5109\n",
            "Epoch 22/50\n",
            "58/58 [==============================] - 2s 30ms/step - loss: 0.3585 - accuracy: 0.4919 - val_loss: 0.3665 - val_accuracy: 0.5036\n",
            "Epoch 23/50\n",
            "58/58 [==============================] - 2s 30ms/step - loss: 0.3462 - accuracy: 0.5159 - val_loss: 0.3701 - val_accuracy: 0.4552\n",
            "Epoch 24/50\n",
            "58/58 [==============================] - 2s 31ms/step - loss: 0.3413 - accuracy: 0.5272 - val_loss: 0.3584 - val_accuracy: 0.5109\n",
            "Epoch 25/50\n",
            "58/58 [==============================] - 2s 31ms/step - loss: 0.3381 - accuracy: 0.5275 - val_loss: 0.3522 - val_accuracy: 0.5157\n",
            "Epoch 26/50\n",
            "58/58 [==============================] - 2s 32ms/step - loss: 0.3275 - accuracy: 0.5498 - val_loss: 0.3421 - val_accuracy: 0.5400\n",
            "Epoch 27/50\n",
            "58/58 [==============================] - 2s 34ms/step - loss: 0.3232 - accuracy: 0.5630 - val_loss: 0.3475 - val_accuracy: 0.5375\n",
            "Epoch 28/50\n",
            "58/58 [==============================] - 2s 32ms/step - loss: 0.3135 - accuracy: 0.5762 - val_loss: 0.3471 - val_accuracy: 0.5472\n",
            "Epoch 29/50\n",
            "58/58 [==============================] - 2s 30ms/step - loss: 0.3077 - accuracy: 0.5975 - val_loss: 0.3625 - val_accuracy: 0.5303\n",
            "Epoch 30/50\n",
            "58/58 [==============================] - 2s 32ms/step - loss: 0.3066 - accuracy: 0.5878 - val_loss: 0.3397 - val_accuracy: 0.5569\n",
            "Epoch 31/50\n",
            "58/58 [==============================] - 2s 34ms/step - loss: 0.3003 - accuracy: 0.6148 - val_loss: 0.3372 - val_accuracy: 0.5714\n",
            "Epoch 32/50\n",
            "58/58 [==============================] - 2s 29ms/step - loss: 0.2858 - accuracy: 0.6304 - val_loss: 0.3288 - val_accuracy: 0.5860\n",
            "Epoch 33/50\n",
            "58/58 [==============================] - 2s 31ms/step - loss: 0.2823 - accuracy: 0.6393 - val_loss: 0.3285 - val_accuracy: 0.5521\n",
            "Epoch 34/50\n",
            "58/58 [==============================] - 2s 32ms/step - loss: 0.2771 - accuracy: 0.6417 - val_loss: 0.3240 - val_accuracy: 0.5763\n",
            "Epoch 35/50\n",
            "58/58 [==============================] - 2s 33ms/step - loss: 0.2756 - accuracy: 0.6525 - val_loss: 0.3308 - val_accuracy: 0.5521\n",
            "Epoch 36/50\n",
            "58/58 [==============================] - 2s 32ms/step - loss: 0.2639 - accuracy: 0.6603 - val_loss: 0.3253 - val_accuracy: 0.5593\n",
            "Epoch 37/50\n",
            "58/58 [==============================] - 2s 30ms/step - loss: 0.2590 - accuracy: 0.6719 - val_loss: 0.3266 - val_accuracy: 0.5787\n",
            "Epoch 38/50\n",
            "58/58 [==============================] - 2s 30ms/step - loss: 0.2510 - accuracy: 0.6845 - val_loss: 0.3254 - val_accuracy: 0.5787\n",
            "Epoch 39/50\n",
            "58/58 [==============================] - 2s 30ms/step - loss: 0.2371 - accuracy: 0.7053 - val_loss: 0.3306 - val_accuracy: 0.5860\n",
            "Epoch 40/50\n",
            "58/58 [==============================] - 2s 30ms/step - loss: 0.2351 - accuracy: 0.7080 - val_loss: 0.3216 - val_accuracy: 0.5860\n",
            "Epoch 41/50\n",
            "58/58 [==============================] - 2s 31ms/step - loss: 0.2282 - accuracy: 0.7233 - val_loss: 0.3349 - val_accuracy: 0.5835\n",
            "Epoch 42/50\n",
            "58/58 [==============================] - 2s 34ms/step - loss: 0.2285 - accuracy: 0.7198 - val_loss: 0.3296 - val_accuracy: 0.5884\n",
            "Epoch 43/50\n",
            "58/58 [==============================] - 2s 34ms/step - loss: 0.2277 - accuracy: 0.7274 - val_loss: 0.3276 - val_accuracy: 0.5956\n",
            "Epoch 44/50\n",
            "58/58 [==============================] - 2s 31ms/step - loss: 0.2174 - accuracy: 0.7352 - val_loss: 0.3336 - val_accuracy: 0.5956\n",
            "Epoch 45/50\n",
            "58/58 [==============================] - 2s 30ms/step - loss: 0.2083 - accuracy: 0.7438 - val_loss: 0.3190 - val_accuracy: 0.6077\n",
            "Epoch 46/50\n",
            "58/58 [==============================] - 2s 31ms/step - loss: 0.2002 - accuracy: 0.7678 - val_loss: 0.3363 - val_accuracy: 0.5860\n",
            "Epoch 47/50\n",
            "58/58 [==============================] - 2s 31ms/step - loss: 0.2062 - accuracy: 0.7511 - val_loss: 0.3257 - val_accuracy: 0.6029\n",
            "Epoch 48/50\n",
            "58/58 [==============================] - 2s 30ms/step - loss: 0.2024 - accuracy: 0.7562 - val_loss: 0.3359 - val_accuracy: 0.5763\n",
            "Epoch 49/50\n",
            "58/58 [==============================] - 2s 31ms/step - loss: 0.1991 - accuracy: 0.7683 - val_loss: 0.3362 - val_accuracy: 0.6005\n",
            "Epoch 50/50\n",
            "58/58 [==============================] - 2s 33ms/step - loss: 0.1815 - accuracy: 0.7834 - val_loss: 0.3519 - val_accuracy: 0.5835\n",
            "13/13 [==============================] - 0s 11ms/step - loss: 0.3519 - accuracy: 0.5835\n",
            "Rendimiento: [0.3519423305988312, 0.5835351347923279]\n"
          ]
        }
      ]
    },
    {
      "cell_type": "code",
      "source": [],
      "metadata": {
        "id": "RmoX0YI5Ny-d"
      },
      "execution_count": null,
      "outputs": []
    },
    {
      "cell_type": "markdown",
      "source": [
        "# Verificamos las etiquetas de nuestro X_test"
      ],
      "metadata": {
        "id": "OrsOtdZEicT4"
      }
    },
    {
      "cell_type": "markdown",
      "source": [
        "**Debido a que nuestro X_test fue seleccionado al azar debemos verificar a que etiqueta pertenecen**"
      ],
      "metadata": {
        "id": "eOUrtKrOjLJe"
      }
    },
    {
      "cell_type": "code",
      "source": [
        "#Obtenemos un dataframe pero solo de la parte de test\n",
        "#Hay que ordenarlo porque queda desordenado\n",
        "\n",
        "from tensorflow.keras.preprocessing import image\n",
        "import os\n",
        "\n",
        "direccion_test=[]\n",
        "dataframe_test = []\n",
        "img_comprobacion=[]\n",
        "\n",
        "for i in tqdm(range(len(trainx))):\n",
        "\n",
        "        img_path = os.path.join(train_dir, trainx['image'][i])\n",
        "        \n",
        "        #Check if the image file exists\n",
        "        if not os.path.isfile(img_path):\n",
        "            continue\n",
        "        \n",
        "        img = image.load_img(img_path, target_size=(TARGET_SIZE, TARGET_SIZE, 3))\n",
        "        img = image.img_to_array(img)\n",
        "        img = img / 255\n",
        "\n",
        "        for j in range(len(X_test)):\n",
        "         if np.array_equal(img, X_test[j]):\n",
        "            direccion_test.append(img_path)\n",
        "            dataframe_test.append(trainx.iloc[i])\n",
        "            img_comprobacion.append(img)  #img_comprobacion va igual que dataframe_test\n",
        "            break #Esto es para que no se repita\n",
        "\n",
        "dataframeN_test = pd.DataFrame(dataframe_test) \n",
        "img_comprobacion=np.array(img_comprobacion)\n",
        "\n",
        "#Hay que encontrar donde image_path es igual, ahí encontraremos"
      ],
      "metadata": {
        "colab": {
          "base_uri": "https://localhost:8080/"
        },
        "id": "aZyD4a_9ihXZ",
        "outputId": "e301649c-efb1-4a48-a813-47457320babe"
      },
      "execution_count": 13,
      "outputs": [
        {
          "output_type": "stream",
          "name": "stderr",
          "text": [
            "100%|██████████| 12000/12000 [37:33<00:00,  5.32it/s]  \n"
          ]
        }
      ]
    },
    {
      "cell_type": "code",
      "source": [
        "##Con este código nos damos cuenta cómo estan ordenados X_test con respecto a nuestro data frame\n",
        "\n",
        "cuenta=0\n",
        "indice_X_test=[]\n",
        "indice_img_comprobacion=[]\n",
        "\n",
        "for i in range(len(X_test)):\n",
        "    for j in range(len(X_test)):\n",
        "        if np.array_equal(img_comprobacion[j],X_test[i]): #Las ordenamos con respecto a X_test, con eso ordenamos el dataframeN_test\n",
        "            indice_X_test.append(i)\n",
        "            indice_img_comprobacion.append(j)\n",
        "            cuenta=cuenta+1 ##lo lograremos cuando corramos de nuevo el código y coindican las i y j\n",
        "print(cuenta)\n",
        "indice_X_test=np.array(indice_X_test)\n",
        "indice_img_comprobacion=np.array(indice_img_comprobacion)"
      ],
      "metadata": {
        "colab": {
          "base_uri": "https://localhost:8080/"
        },
        "id": "zaFryjHuioqt",
        "outputId": "bb407ebb-df73-4466-ebe5-ee6073366d01"
      },
      "execution_count": 14,
      "outputs": [
        {
          "output_type": "stream",
          "name": "stdout",
          "text": [
            "413\n"
          ]
        }
      ]
    },
    {
      "cell_type": "code",
      "source": [
        "##Ordenando las imagenes con respecto a X_test, dataframeN_test tiene que quedar ordenado\n",
        "##Nuestros array son img_comprobacion y X_test\n",
        "## Si se logra ordenar, tenemos que ordenar el dataframeN_test\n",
        "\n",
        "df_img_comprobacion_test=[]\n",
        "dataframeNN_test=[]\n",
        "\n",
        "for i in range(len(indice_X_test)):\n",
        "    dato_ordenado=indice_img_comprobacion[i]\n",
        "    df_img_comprobacion_test.append(img_comprobacion[dato_ordenado])\n",
        "    dataframeNN_test.append(dataframeN_test.iloc[dato_ordenado])\n",
        "               \n",
        "df_img_comprobacion_test=np.array(df_img_comprobacion_test)\n",
        "dataframeNN_test = pd.DataFrame(dataframeNN_test) "
      ],
      "metadata": {
        "id": "Z08uSBgJit5V"
      },
      "execution_count": 15,
      "outputs": []
    },
    {
      "cell_type": "code",
      "source": [
        "## Se comprueba que si estan ordenados :)\n",
        "cuenta=0\n",
        "indice_X_test=[]\n",
        "indice_img_comprobacion=[]\n",
        "for i in range(len(X_test)):\n",
        "    for j in range(len(X_test)):\n",
        "        if np.array_equal(df_img_comprobacion_test[j],X_test[i]): #Las ordenamos con respecto a X_test, con eso ordenamos el dataframeN_test\n",
        "            #print(i,j)\n",
        "            cuenta=cuenta+1 ##lo lograremos cuando corramos de nuevo el código y coindican las i y j\n",
        "print(cuenta)"
      ],
      "metadata": {
        "colab": {
          "base_uri": "https://localhost:8080/"
        },
        "id": "C5h7Eyhtrv37",
        "outputId": "ece0f070-4779-4ad5-f7de-05ad039ebf34"
      },
      "execution_count": 16,
      "outputs": [
        {
          "output_type": "stream",
          "name": "stdout",
          "text": [
            "413\n"
          ]
        }
      ]
    },
    {
      "cell_type": "markdown",
      "source": [
        "# Matriz de confusión"
      ],
      "metadata": {
        "id": "grwcl3rVpXm1"
      }
    },
    {
      "cell_type": "code",
      "source": [
        "#Obtenemos la y_true para la matriz de confusión, esto en formato de nombre\n",
        "\n",
        "#Sacamos la y_true, ya que tenemos el dataframe bueno (dataframeN_test)\n",
        "\n",
        "name = {0: 'complex',\n",
        "        1: 'frog_eye_leaf_spot',\n",
        "        2: 'healthy',\n",
        "        3: 'powdery_mildew',\n",
        "        4: 'rust',\n",
        "        5: 'scab'}\n",
        "\n",
        "threshold = {0: 0.3,\n",
        "             1: 0.3,\n",
        "             2: 0.4,\n",
        "             3: 0.3,\n",
        "             4: 0.3,\n",
        "            5:0.3}\n",
        "y_true=[]\n",
        "\n",
        "for j in  range(len(dataframeNN_test)) :                                 #train_files:  #test files son los de prueba que nos proporcionó kaggle\n",
        "    \n",
        "    #Se carga la imagen del test_file\n",
        "    columnas = dataframeNN_test.iloc[j, :6].values.tolist()\n",
        "    d = []\n",
        "    for i in range(len(columnas)):\n",
        "        if columnas[i] > threshold[i]:\n",
        "            d.append(name[i])\n",
        "            \n",
        "    y_true.append({'image': dataframeNN_test.iloc[j]['image'], 'labels': ' '.join(d)})"
      ],
      "metadata": {
        "id": "rnx5GOnnpagP"
      },
      "execution_count": 17,
      "outputs": []
    },
    {
      "cell_type": "code",
      "source": [
        "y_predict=model.predict(X_test)"
      ],
      "metadata": {
        "colab": {
          "base_uri": "https://localhost:8080/"
        },
        "id": "87NlWKJrpdei",
        "outputId": "6638d62b-7299-41f7-9d40-4da41c0cc6e1"
      },
      "execution_count": 19,
      "outputs": [
        {
          "output_type": "stream",
          "name": "stdout",
          "text": [
            "13/13 [==============================] - 0s 8ms/step\n"
          ]
        }
      ]
    },
    {
      "cell_type": "code",
      "source": [
        "name = {0: 'complex',\n",
        "        1: 'frog_eye_leaf_spot',\n",
        "        2: 'healthy',\n",
        "        3: 'powdery_mildew',\n",
        "        4: 'rust',\n",
        "        5: 'scab'}\n",
        "\n",
        "threshold = {0: 0.3,\n",
        "             1: 0.3,\n",
        "             2: 0.4,\n",
        "             3: 0.3,\n",
        "             4: 0.3,\n",
        "            5:0.3}\n",
        "\n",
        "y_predictN=[]\n",
        "\n",
        "for j in  range(len(dataframeNN_test)) :  #train_files:  #test files son los de prueba que nos proporcionó kaggle\n",
        "    \n",
        "    #Se carga la imagen del test_file\n",
        "    columnas = y_predict[j]\n",
        "    d = []\n",
        "    for i in range(len(columnas)):\n",
        "        if columnas[i] > threshold[i]:\n",
        "            d.append(name[i])\n",
        "            \n",
        "    y_predictN.append({'image': dataframeNN_test.iloc[j]['image'], 'labels': ' '.join(d)}) "
      ],
      "metadata": {
        "id": "i-w5Aq4YpfQk"
      },
      "execution_count": 20,
      "outputs": []
    },
    {
      "cell_type": "code",
      "source": [
        "import pandas as pd\n",
        "y_predictdf=pd.DataFrame(y_predictN)\n",
        "y_truedf=pd.DataFrame(y_true)"
      ],
      "metadata": {
        "id": "vFZHvOMvuC0q"
      },
      "execution_count": 21,
      "outputs": []
    },
    {
      "cell_type": "code",
      "source": [
        "y_truedf"
      ],
      "metadata": {
        "colab": {
          "base_uri": "https://localhost:8080/",
          "height": 423
        },
        "id": "8qzhiyk7u6_A",
        "outputId": "749e0e90-6227-4b72-e0b7-e5fbab6cd544"
      },
      "execution_count": 22,
      "outputs": [
        {
          "output_type": "execute_result",
          "data": {
            "text/plain": [
              "                    image                   labels\n",
              "0    81f497994a696f16.jpg  frog_eye_leaf_spot scab\n",
              "1    969a9af9198196b3.jpg                  healthy\n",
              "2    979dc4bac56312d1.jpg                  healthy\n",
              "3    8780b695d39cdf81.jpg                  complex\n",
              "4    8ff5b4938181c59d.jpg       frog_eye_leaf_spot\n",
              "..                    ...                      ...\n",
              "408  808778b03ee7e92b.jpg                  healthy\n",
              "409  8d5032d4cc1e3e5f.jpg                  complex\n",
              "410  8d5d196058f3d627.jpg           powdery_mildew\n",
              "411  920e33d67f8b01b3.jpg                     rust\n",
              "412  818bba9d38f8bc54.jpg                  healthy\n",
              "\n",
              "[413 rows x 2 columns]"
            ],
            "text/html": [
              "\n",
              "  <div id=\"df-6a04316d-fd27-4a26-99bc-3fceafb1f89d\">\n",
              "    <div class=\"colab-df-container\">\n",
              "      <div>\n",
              "<style scoped>\n",
              "    .dataframe tbody tr th:only-of-type {\n",
              "        vertical-align: middle;\n",
              "    }\n",
              "\n",
              "    .dataframe tbody tr th {\n",
              "        vertical-align: top;\n",
              "    }\n",
              "\n",
              "    .dataframe thead th {\n",
              "        text-align: right;\n",
              "    }\n",
              "</style>\n",
              "<table border=\"1\" class=\"dataframe\">\n",
              "  <thead>\n",
              "    <tr style=\"text-align: right;\">\n",
              "      <th></th>\n",
              "      <th>image</th>\n",
              "      <th>labels</th>\n",
              "    </tr>\n",
              "  </thead>\n",
              "  <tbody>\n",
              "    <tr>\n",
              "      <th>0</th>\n",
              "      <td>81f497994a696f16.jpg</td>\n",
              "      <td>frog_eye_leaf_spot scab</td>\n",
              "    </tr>\n",
              "    <tr>\n",
              "      <th>1</th>\n",
              "      <td>969a9af9198196b3.jpg</td>\n",
              "      <td>healthy</td>\n",
              "    </tr>\n",
              "    <tr>\n",
              "      <th>2</th>\n",
              "      <td>979dc4bac56312d1.jpg</td>\n",
              "      <td>healthy</td>\n",
              "    </tr>\n",
              "    <tr>\n",
              "      <th>3</th>\n",
              "      <td>8780b695d39cdf81.jpg</td>\n",
              "      <td>complex</td>\n",
              "    </tr>\n",
              "    <tr>\n",
              "      <th>4</th>\n",
              "      <td>8ff5b4938181c59d.jpg</td>\n",
              "      <td>frog_eye_leaf_spot</td>\n",
              "    </tr>\n",
              "    <tr>\n",
              "      <th>...</th>\n",
              "      <td>...</td>\n",
              "      <td>...</td>\n",
              "    </tr>\n",
              "    <tr>\n",
              "      <th>408</th>\n",
              "      <td>808778b03ee7e92b.jpg</td>\n",
              "      <td>healthy</td>\n",
              "    </tr>\n",
              "    <tr>\n",
              "      <th>409</th>\n",
              "      <td>8d5032d4cc1e3e5f.jpg</td>\n",
              "      <td>complex</td>\n",
              "    </tr>\n",
              "    <tr>\n",
              "      <th>410</th>\n",
              "      <td>8d5d196058f3d627.jpg</td>\n",
              "      <td>powdery_mildew</td>\n",
              "    </tr>\n",
              "    <tr>\n",
              "      <th>411</th>\n",
              "      <td>920e33d67f8b01b3.jpg</td>\n",
              "      <td>rust</td>\n",
              "    </tr>\n",
              "    <tr>\n",
              "      <th>412</th>\n",
              "      <td>818bba9d38f8bc54.jpg</td>\n",
              "      <td>healthy</td>\n",
              "    </tr>\n",
              "  </tbody>\n",
              "</table>\n",
              "<p>413 rows × 2 columns</p>\n",
              "</div>\n",
              "      <button class=\"colab-df-convert\" onclick=\"convertToInteractive('df-6a04316d-fd27-4a26-99bc-3fceafb1f89d')\"\n",
              "              title=\"Convert this dataframe to an interactive table.\"\n",
              "              style=\"display:none;\">\n",
              "        \n",
              "  <svg xmlns=\"http://www.w3.org/2000/svg\" height=\"24px\"viewBox=\"0 0 24 24\"\n",
              "       width=\"24px\">\n",
              "    <path d=\"M0 0h24v24H0V0z\" fill=\"none\"/>\n",
              "    <path d=\"M18.56 5.44l.94 2.06.94-2.06 2.06-.94-2.06-.94-.94-2.06-.94 2.06-2.06.94zm-11 1L8.5 8.5l.94-2.06 2.06-.94-2.06-.94L8.5 2.5l-.94 2.06-2.06.94zm10 10l.94 2.06.94-2.06 2.06-.94-2.06-.94-.94-2.06-.94 2.06-2.06.94z\"/><path d=\"M17.41 7.96l-1.37-1.37c-.4-.4-.92-.59-1.43-.59-.52 0-1.04.2-1.43.59L10.3 9.45l-7.72 7.72c-.78.78-.78 2.05 0 2.83L4 21.41c.39.39.9.59 1.41.59.51 0 1.02-.2 1.41-.59l7.78-7.78 2.81-2.81c.8-.78.8-2.07 0-2.86zM5.41 20L4 18.59l7.72-7.72 1.47 1.35L5.41 20z\"/>\n",
              "  </svg>\n",
              "      </button>\n",
              "      \n",
              "  <style>\n",
              "    .colab-df-container {\n",
              "      display:flex;\n",
              "      flex-wrap:wrap;\n",
              "      gap: 12px;\n",
              "    }\n",
              "\n",
              "    .colab-df-convert {\n",
              "      background-color: #E8F0FE;\n",
              "      border: none;\n",
              "      border-radius: 50%;\n",
              "      cursor: pointer;\n",
              "      display: none;\n",
              "      fill: #1967D2;\n",
              "      height: 32px;\n",
              "      padding: 0 0 0 0;\n",
              "      width: 32px;\n",
              "    }\n",
              "\n",
              "    .colab-df-convert:hover {\n",
              "      background-color: #E2EBFA;\n",
              "      box-shadow: 0px 1px 2px rgba(60, 64, 67, 0.3), 0px 1px 3px 1px rgba(60, 64, 67, 0.15);\n",
              "      fill: #174EA6;\n",
              "    }\n",
              "\n",
              "    [theme=dark] .colab-df-convert {\n",
              "      background-color: #3B4455;\n",
              "      fill: #D2E3FC;\n",
              "    }\n",
              "\n",
              "    [theme=dark] .colab-df-convert:hover {\n",
              "      background-color: #434B5C;\n",
              "      box-shadow: 0px 1px 3px 1px rgba(0, 0, 0, 0.15);\n",
              "      filter: drop-shadow(0px 1px 2px rgba(0, 0, 0, 0.3));\n",
              "      fill: #FFFFFF;\n",
              "    }\n",
              "  </style>\n",
              "\n",
              "      <script>\n",
              "        const buttonEl =\n",
              "          document.querySelector('#df-6a04316d-fd27-4a26-99bc-3fceafb1f89d button.colab-df-convert');\n",
              "        buttonEl.style.display =\n",
              "          google.colab.kernel.accessAllowed ? 'block' : 'none';\n",
              "\n",
              "        async function convertToInteractive(key) {\n",
              "          const element = document.querySelector('#df-6a04316d-fd27-4a26-99bc-3fceafb1f89d');\n",
              "          const dataTable =\n",
              "            await google.colab.kernel.invokeFunction('convertToInteractive',\n",
              "                                                     [key], {});\n",
              "          if (!dataTable) return;\n",
              "\n",
              "          const docLinkHtml = 'Like what you see? Visit the ' +\n",
              "            '<a target=\"_blank\" href=https://colab.research.google.com/notebooks/data_table.ipynb>data table notebook</a>'\n",
              "            + ' to learn more about interactive tables.';\n",
              "          element.innerHTML = '';\n",
              "          dataTable['output_type'] = 'display_data';\n",
              "          await google.colab.output.renderOutput(dataTable, element);\n",
              "          const docLink = document.createElement('div');\n",
              "          docLink.innerHTML = docLinkHtml;\n",
              "          element.appendChild(docLink);\n",
              "        }\n",
              "      </script>\n",
              "    </div>\n",
              "  </div>\n",
              "  "
            ]
          },
          "metadata": {},
          "execution_count": 22
        }
      ]
    },
    {
      "cell_type": "code",
      "source": [
        "y_predictdf"
      ],
      "metadata": {
        "colab": {
          "base_uri": "https://localhost:8080/",
          "height": 423
        },
        "id": "M-556s5luso0",
        "outputId": "7ee15f91-5954-44c1-8773-d6a24db16b68"
      },
      "execution_count": 23,
      "outputs": [
        {
          "output_type": "execute_result",
          "data": {
            "text/plain": [
              "                    image              labels\n",
              "0    81f497994a696f16.jpg                scab\n",
              "1    969a9af9198196b3.jpg                scab\n",
              "2    979dc4bac56312d1.jpg        complex scab\n",
              "3    8780b695d39cdf81.jpg                scab\n",
              "4    8ff5b4938181c59d.jpg  frog_eye_leaf_spot\n",
              "..                    ...                 ...\n",
              "408  808778b03ee7e92b.jpg             healthy\n",
              "409  8d5032d4cc1e3e5f.jpg                scab\n",
              "410  8d5d196058f3d627.jpg      powdery_mildew\n",
              "411  920e33d67f8b01b3.jpg                rust\n",
              "412  818bba9d38f8bc54.jpg             healthy\n",
              "\n",
              "[413 rows x 2 columns]"
            ],
            "text/html": [
              "\n",
              "  <div id=\"df-4c3461d1-a2d8-415e-bc70-9b6ef882cfa1\">\n",
              "    <div class=\"colab-df-container\">\n",
              "      <div>\n",
              "<style scoped>\n",
              "    .dataframe tbody tr th:only-of-type {\n",
              "        vertical-align: middle;\n",
              "    }\n",
              "\n",
              "    .dataframe tbody tr th {\n",
              "        vertical-align: top;\n",
              "    }\n",
              "\n",
              "    .dataframe thead th {\n",
              "        text-align: right;\n",
              "    }\n",
              "</style>\n",
              "<table border=\"1\" class=\"dataframe\">\n",
              "  <thead>\n",
              "    <tr style=\"text-align: right;\">\n",
              "      <th></th>\n",
              "      <th>image</th>\n",
              "      <th>labels</th>\n",
              "    </tr>\n",
              "  </thead>\n",
              "  <tbody>\n",
              "    <tr>\n",
              "      <th>0</th>\n",
              "      <td>81f497994a696f16.jpg</td>\n",
              "      <td>scab</td>\n",
              "    </tr>\n",
              "    <tr>\n",
              "      <th>1</th>\n",
              "      <td>969a9af9198196b3.jpg</td>\n",
              "      <td>scab</td>\n",
              "    </tr>\n",
              "    <tr>\n",
              "      <th>2</th>\n",
              "      <td>979dc4bac56312d1.jpg</td>\n",
              "      <td>complex scab</td>\n",
              "    </tr>\n",
              "    <tr>\n",
              "      <th>3</th>\n",
              "      <td>8780b695d39cdf81.jpg</td>\n",
              "      <td>scab</td>\n",
              "    </tr>\n",
              "    <tr>\n",
              "      <th>4</th>\n",
              "      <td>8ff5b4938181c59d.jpg</td>\n",
              "      <td>frog_eye_leaf_spot</td>\n",
              "    </tr>\n",
              "    <tr>\n",
              "      <th>...</th>\n",
              "      <td>...</td>\n",
              "      <td>...</td>\n",
              "    </tr>\n",
              "    <tr>\n",
              "      <th>408</th>\n",
              "      <td>808778b03ee7e92b.jpg</td>\n",
              "      <td>healthy</td>\n",
              "    </tr>\n",
              "    <tr>\n",
              "      <th>409</th>\n",
              "      <td>8d5032d4cc1e3e5f.jpg</td>\n",
              "      <td>scab</td>\n",
              "    </tr>\n",
              "    <tr>\n",
              "      <th>410</th>\n",
              "      <td>8d5d196058f3d627.jpg</td>\n",
              "      <td>powdery_mildew</td>\n",
              "    </tr>\n",
              "    <tr>\n",
              "      <th>411</th>\n",
              "      <td>920e33d67f8b01b3.jpg</td>\n",
              "      <td>rust</td>\n",
              "    </tr>\n",
              "    <tr>\n",
              "      <th>412</th>\n",
              "      <td>818bba9d38f8bc54.jpg</td>\n",
              "      <td>healthy</td>\n",
              "    </tr>\n",
              "  </tbody>\n",
              "</table>\n",
              "<p>413 rows × 2 columns</p>\n",
              "</div>\n",
              "      <button class=\"colab-df-convert\" onclick=\"convertToInteractive('df-4c3461d1-a2d8-415e-bc70-9b6ef882cfa1')\"\n",
              "              title=\"Convert this dataframe to an interactive table.\"\n",
              "              style=\"display:none;\">\n",
              "        \n",
              "  <svg xmlns=\"http://www.w3.org/2000/svg\" height=\"24px\"viewBox=\"0 0 24 24\"\n",
              "       width=\"24px\">\n",
              "    <path d=\"M0 0h24v24H0V0z\" fill=\"none\"/>\n",
              "    <path d=\"M18.56 5.44l.94 2.06.94-2.06 2.06-.94-2.06-.94-.94-2.06-.94 2.06-2.06.94zm-11 1L8.5 8.5l.94-2.06 2.06-.94-2.06-.94L8.5 2.5l-.94 2.06-2.06.94zm10 10l.94 2.06.94-2.06 2.06-.94-2.06-.94-.94-2.06-.94 2.06-2.06.94z\"/><path d=\"M17.41 7.96l-1.37-1.37c-.4-.4-.92-.59-1.43-.59-.52 0-1.04.2-1.43.59L10.3 9.45l-7.72 7.72c-.78.78-.78 2.05 0 2.83L4 21.41c.39.39.9.59 1.41.59.51 0 1.02-.2 1.41-.59l7.78-7.78 2.81-2.81c.8-.78.8-2.07 0-2.86zM5.41 20L4 18.59l7.72-7.72 1.47 1.35L5.41 20z\"/>\n",
              "  </svg>\n",
              "      </button>\n",
              "      \n",
              "  <style>\n",
              "    .colab-df-container {\n",
              "      display:flex;\n",
              "      flex-wrap:wrap;\n",
              "      gap: 12px;\n",
              "    }\n",
              "\n",
              "    .colab-df-convert {\n",
              "      background-color: #E8F0FE;\n",
              "      border: none;\n",
              "      border-radius: 50%;\n",
              "      cursor: pointer;\n",
              "      display: none;\n",
              "      fill: #1967D2;\n",
              "      height: 32px;\n",
              "      padding: 0 0 0 0;\n",
              "      width: 32px;\n",
              "    }\n",
              "\n",
              "    .colab-df-convert:hover {\n",
              "      background-color: #E2EBFA;\n",
              "      box-shadow: 0px 1px 2px rgba(60, 64, 67, 0.3), 0px 1px 3px 1px rgba(60, 64, 67, 0.15);\n",
              "      fill: #174EA6;\n",
              "    }\n",
              "\n",
              "    [theme=dark] .colab-df-convert {\n",
              "      background-color: #3B4455;\n",
              "      fill: #D2E3FC;\n",
              "    }\n",
              "\n",
              "    [theme=dark] .colab-df-convert:hover {\n",
              "      background-color: #434B5C;\n",
              "      box-shadow: 0px 1px 3px 1px rgba(0, 0, 0, 0.15);\n",
              "      filter: drop-shadow(0px 1px 2px rgba(0, 0, 0, 0.3));\n",
              "      fill: #FFFFFF;\n",
              "    }\n",
              "  </style>\n",
              "\n",
              "      <script>\n",
              "        const buttonEl =\n",
              "          document.querySelector('#df-4c3461d1-a2d8-415e-bc70-9b6ef882cfa1 button.colab-df-convert');\n",
              "        buttonEl.style.display =\n",
              "          google.colab.kernel.accessAllowed ? 'block' : 'none';\n",
              "\n",
              "        async function convertToInteractive(key) {\n",
              "          const element = document.querySelector('#df-4c3461d1-a2d8-415e-bc70-9b6ef882cfa1');\n",
              "          const dataTable =\n",
              "            await google.colab.kernel.invokeFunction('convertToInteractive',\n",
              "                                                     [key], {});\n",
              "          if (!dataTable) return;\n",
              "\n",
              "          const docLinkHtml = 'Like what you see? Visit the ' +\n",
              "            '<a target=\"_blank\" href=https://colab.research.google.com/notebooks/data_table.ipynb>data table notebook</a>'\n",
              "            + ' to learn more about interactive tables.';\n",
              "          element.innerHTML = '';\n",
              "          dataTable['output_type'] = 'display_data';\n",
              "          await google.colab.output.renderOutput(dataTable, element);\n",
              "          const docLink = document.createElement('div');\n",
              "          docLink.innerHTML = docLinkHtml;\n",
              "          element.appendChild(docLink);\n",
              "        }\n",
              "      </script>\n",
              "    </div>\n",
              "  </div>\n",
              "  "
            ]
          },
          "metadata": {},
          "execution_count": 23
        }
      ]
    },
    {
      "cell_type": "code",
      "source": [
        "import numpy as np\n",
        "from sklearn.metrics import confusion_matrix\n",
        "\n",
        "# Obtén las etiquetas verdaderas y predichas en formato de lista\n",
        "y_truecm = [data['labels'] for data in y_true]\n",
        "y_predcm = [data['labels'] for data in y_predictN]\n",
        "\n",
        "# Obtén todas las clases únicas presentes en las etiquetas verdaderas y predichas\n",
        "#classes = np.unique(np.concatenate((y_truecm, y_predcm)))\n",
        "classes=np.unique(y_truecm)\n",
        "# Crea la matriz de confusión\n",
        "cm = confusion_matrix(y_truecm, y_predcm, labels=classes)"
      ],
      "metadata": {
        "id": "spT-MnIHprmm"
      },
      "execution_count": 24,
      "outputs": []
    },
    {
      "cell_type": "code",
      "source": [
        "import numpy as np\n",
        "import matplotlib.pyplot as plt\n",
        "import seaborn as sns\n",
        "\n",
        "# Configura la figura y los ejes\n",
        "plt.figure(figsize=(10, 10))\n",
        "sns.set(font_scale=1)  # Ajusta el tamaño de la fuente para las etiquetas de los ejes\n",
        "sns.heatmap(cm, annot=True, cmap='Greens', fmt='.2f', xticklabels=classes, yticklabels=classes)\n",
        "\n",
        "# Configura los títulos y las etiquetas de los ejes\n",
        "plt.title('Matriz de Confusión')\n",
        "plt.xlabel('Etiqueta Predicha')\n",
        "plt.ylabel('Etiqueta Verdadera')\n",
        "\n",
        "# Muestra la gráfica\n",
        "plt.show()"
      ],
      "metadata": {
        "colab": {
          "base_uri": "https://localhost:8080/",
          "height": 1000
        },
        "id": "gwHDhqzTptaL",
        "outputId": "2b05b154-20d0-4964-82b6-79d9f34fb84f"
      },
      "execution_count": 25,
      "outputs": [
        {
          "output_type": "display_data",
          "data": {
            "text/plain": [
              "<Figure size 1000x1000 with 2 Axes>"
            ],
            "image/png": "[encoded data removed]"
          },
          "metadata": {}
        }
      ]
    }
  ]
}
